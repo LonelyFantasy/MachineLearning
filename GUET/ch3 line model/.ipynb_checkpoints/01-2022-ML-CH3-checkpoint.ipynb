{
 "cells": [
  {
   "cell_type": "markdown",
   "metadata": {},
   "source": [
    "#  1. 一元线性回归"
   ]
  },
  {
   "cell_type": "raw",
   "metadata": {},
   "source": [
    " （1）建立收入与工作经验的线性模型"
   ]
  },
  {
   "cell_type": "code",
   "execution_count": 1,
   "metadata": {},
   "outputs": [
    {
     "data": {
      "text/plain": [
       "<Figure size 500x500 with 1 Axes>"
      ]
     },
     "metadata": {},
     "output_type": "display_data"
    }
   ],
   "source": [
    "# 工作年限与收入之间的散点图\n",
    "# 导入第三方模块\n",
    "import pandas as pd\n",
    "import matplotlib.pyplot as plt\n",
    "import seaborn as sns\n",
    "# 导入数据集\n",
    "#income = pd.read_csv(r'Salary_Data.csv')\n",
    "income = pd.read_csv(r'st.csv')\n",
    "# 绘制散点图\n",
    "sns.lmplot(x = 'YearsExperience', y = 'Salary', data = income, ci = None)\n",
    "# 显示图形\n",
    "plt.show()"
   ]
  },
  {
   "cell_type": "code",
   "execution_count": 2,
   "metadata": {},
   "outputs": [
    {
     "name": "stdout",
     "output_type": "stream",
     "text": [
      "回归参数a的值： 3.007743242697588\n",
      "回归参数b的值： 1.6953226421712246\n"
     ]
    }
   ],
   "source": [
    "# 方法1： 简单线性回归模型的参数求解\n",
    "# 样本量\n",
    "n = income.shape[0]\n",
    "# 计算自变量、因变量、自变量平方、自变量与因变量乘积的和\n",
    "sum_x = income.YearsExperience.sum()\n",
    "sum_y = income.Salary.sum()\n",
    "sum_x2 = income.YearsExperience.pow(2).sum()\n",
    "xy = income.YearsExperience * income.Salary\n",
    "sum_xy = xy.sum()\n",
    "# 根据公式计算回归模型的参数\n",
    "b = (sum_xy-sum_x*sum_y/n)/(sum_x2-sum_x**2/n)\n",
    "a = income.Salary.mean()-b*income.YearsExperience.mean()\n",
    "# 打印出计算结果\n",
    "print('回归参数a的值：',a)\n",
    "print('回归参数b的值：',b)"
   ]
  },
  {
   "cell_type": "code",
   "execution_count": 3,
   "metadata": {},
   "outputs": [
    {
     "ename": "SyntaxError",
     "evalue": "invalid character in identifier (<ipython-input-3-230a3f90a73d>, line 1)",
     "output_type": "error",
     "traceback": [
      "\u001b[1;36m  File \u001b[1;32m\"<ipython-input-3-230a3f90a73d>\"\u001b[1;36m, line \u001b[1;32m1\u001b[0m\n\u001b[1;33m    （2）建立房价与面积的线性模型\u001b[0m\n\u001b[1;37m                  ^\u001b[0m\n\u001b[1;31mSyntaxError\u001b[0m\u001b[1;31m:\u001b[0m invalid character in identifier\n"
     ]
    }
   ],
   "source": [
    "（2）建立房价与面积的线性模型"
   ]
  },
  {
   "cell_type": "code",
   "execution_count": null,
   "metadata": {},
   "outputs": [],
   "source": [
    "# 方法1：利用公式计算\n",
    "import matplotlib.pyplot as plt\n",
    "\n",
    "def drawplt():\n",
    "    plt.figure()\n",
    "    plt.title('house price')\n",
    "    x=[[50], [70], [88], [69], [100], [120]]\n",
    "    y=[[47], [72], [80], [77], [110], [100]]\n",
    "    plt.plot(x,y, 'k.')\n",
    "    plt.xlabel('area')\n",
    "    plt.ylabel('price')\n",
    "    plt.axis([0,150,0,150])\n",
    "    \n",
    "drawplt()\n",
    "plt.show()\n"
   ]
  },
  {
   "cell_type": "code",
   "execution_count": null,
   "metadata": {},
   "outputs": [],
   "source": [
    "import pandas as pd\n",
    "x=[[50], [70], [88], [69], [100], [120]]\n",
    "df1=pd.DataFrame(x)\n",
    "df1\n",
    "y=[[47], [72], [80], [77], [110], [100]]\n",
    "df2=pd.DataFrame(y)\n",
    "df2\n",
    "\n",
    "df3 = pd.concat([df1,df2],axis=1)\n",
    "df3.columns = ['area', 'price']\n",
    "print(df3)\n",
    "\n",
    "n = df3.shape[0]\n",
    "print(n)\n",
    "# 计算自变量、因变量、自变量平方、自变量与因变量乘积的和\n",
    "sum_x = df3.area.sum()\n",
    "sum_y = df3.price.sum()\n",
    "sum_x2 = df3.area.pow(2).sum()\n",
    "xy = df3.area * df3.price\n",
    "sum_xy = xy.sum()\n",
    "# 根据公式计算回归模型的参数\n",
    "b = (sum_xy-sum_x*sum_y/n)/(sum_x2-sum_x**2/n)  # 斜率\n",
    "a = df3.price.mean()-b*df3.area.mean()   #截距\n",
    " \n",
    "# 打印出计算结果\n",
    "print('回归参数--截距a的值：',a)\n",
    "print('回归参数--斜率b的值：',b)\n",
    "\n",
    "ar=130   # 130m2  \n",
    "res=b*ar+a  # 房价\n",
    "print('预测130m2的房价为：',res)"
   ]
  },
  {
   "cell_type": "code",
   "execution_count": null,
   "metadata": {},
   "outputs": [],
   "source": [
    "#绘制直线\n",
    "import numpy as np\n",
    "plt.scatter(x,y)\n",
    "\n",
    "h_theta = a+b* np.array(x)\n",
    "plt.plot(x,h_theta)"
   ]
  },
  {
   "cell_type": "code",
   "execution_count": null,
   "metadata": {},
   "outputs": [],
   "source": [
    "# 方法2：调用第三方模块statsmodels.api的函数formula.ols计算\n",
    "\n",
    "# 导入第三方模块\n",
    "import statsmodels.api as sm\n",
    "\n",
    "df3 = pd.concat([df1,df2],axis=1)\n",
    "df3.columns = ['area', 'price']\n",
    "print(df3)\n",
    "\n",
    "# 利用收入数据集，构建回归模型\n",
    "fit = sm.formula.ols('price ~ area', data=df3).fit()\n",
    "# 返回模型的参数值\n",
    "fit.params"
   ]
  },
  {
   "cell_type": "code",
   "execution_count": null,
   "metadata": {},
   "outputs": [],
   "source": [
    "# 方法3：调用第三方模块sklearn的类LinearRegression计算\n",
    "from sklearn import linear_model\n",
    "reg = linear_model.LinearRegression()\n",
    "reg.fit([[50], [70], [88], [69], [100], [120]],[47, 72, 80, 77, 110, 100])\n",
    "\n",
    "print('截距:',reg.intercept_)\n",
    "print('斜率:',reg.coef_)\n",
    "# 系数矩阵就是coef_，截距就是intercept_\n",
    "\n",
    "a= reg.predict([[130]])\n",
    "print(a)"
   ]
  },
  {
   "cell_type": "markdown",
   "metadata": {},
   "source": [
    "#  2.多元线性回归"
   ]
  },
  {
   "cell_type": "code",
   "execution_count": 5,
   "metadata": {},
   "outputs": [
    {
     "name": "stdout",
     "output_type": "stream",
     "text": [
      "数据预览：\n"
     ]
    },
    {
     "data": {
      "text/html": [
       "<div>\n",
       "<style scoped>\n",
       "    .dataframe tbody tr th:only-of-type {\n",
       "        vertical-align: middle;\n",
       "    }\n",
       "\n",
       "    .dataframe tbody tr th {\n",
       "        vertical-align: top;\n",
       "    }\n",
       "\n",
       "    .dataframe thead th {\n",
       "        text-align: right;\n",
       "    }\n",
       "</style>\n",
       "<table border=\"1\" class=\"dataframe\">\n",
       "  <thead>\n",
       "    <tr style=\"text-align: right;\">\n",
       "      <th></th>\n",
       "      <th>RD_Spend</th>\n",
       "      <th>Administration</th>\n",
       "      <th>Marketing_Spend</th>\n",
       "      <th>State</th>\n",
       "      <th>Profit</th>\n",
       "    </tr>\n",
       "  </thead>\n",
       "  <tbody>\n",
       "    <tr>\n",
       "      <th>0</th>\n",
       "      <td>165349.20</td>\n",
       "      <td>136897.80</td>\n",
       "      <td>471784.10</td>\n",
       "      <td>New York</td>\n",
       "      <td>192261.83</td>\n",
       "    </tr>\n",
       "    <tr>\n",
       "      <th>1</th>\n",
       "      <td>162597.70</td>\n",
       "      <td>151377.59</td>\n",
       "      <td>443898.53</td>\n",
       "      <td>California</td>\n",
       "      <td>191792.06</td>\n",
       "    </tr>\n",
       "    <tr>\n",
       "      <th>2</th>\n",
       "      <td>153441.51</td>\n",
       "      <td>101145.55</td>\n",
       "      <td>407934.54</td>\n",
       "      <td>Florida</td>\n",
       "      <td>191050.39</td>\n",
       "    </tr>\n",
       "    <tr>\n",
       "      <th>3</th>\n",
       "      <td>144372.41</td>\n",
       "      <td>118671.85</td>\n",
       "      <td>383199.62</td>\n",
       "      <td>New York</td>\n",
       "      <td>182901.99</td>\n",
       "    </tr>\n",
       "    <tr>\n",
       "      <th>4</th>\n",
       "      <td>142107.34</td>\n",
       "      <td>91391.77</td>\n",
       "      <td>366168.42</td>\n",
       "      <td>Florida</td>\n",
       "      <td>166187.94</td>\n",
       "    </tr>\n",
       "  </tbody>\n",
       "</table>\n",
       "</div>"
      ],
      "text/plain": [
       "    RD_Spend  Administration  Marketing_Spend       State     Profit\n",
       "0  165349.20       136897.80        471784.10    New York  192261.83\n",
       "1  162597.70       151377.59        443898.53  California  191792.06\n",
       "2  153441.51       101145.55        407934.54     Florida  191050.39\n",
       "3  144372.41       118671.85        383199.62    New York  182901.99\n",
       "4  142107.34        91391.77        366168.42     Florida  166187.94"
      ]
     },
     "execution_count": 5,
     "metadata": {},
     "output_type": "execute_result"
    }
   ],
   "source": [
    "# 产品利润\n",
    "# 多元线性回归模型的构建和预测\n",
    "# 导入模块\n",
    "from sklearn import model_selection\n",
    "import pandas as pd\n",
    "# import seaborn as sns\n",
    "import statsmodels.api as sm\n",
    "\n",
    "# 导入数据\n",
    "Profit = pd.read_excel(r'Predict to Profit.xlsx')\n",
    "print('数据预览：')\n",
    "Profit.head()"
   ]
  },
  {
   "cell_type": "code",
   "execution_count": 6,
   "metadata": {},
   "outputs": [
    {
     "name": "stdout",
     "output_type": "stream",
     "text": [
      "模型的偏回归系数分别为：\n",
      " Intercept               58581.516503\n",
      "C(State)[T.Florida]       927.394424\n",
      "C(State)[T.New York]     -513.468310\n",
      "RD_Spend                    0.803487\n",
      "Administration             -0.057792\n",
      "Marketing_Spend             0.013779\n",
      "dtype: float64\n",
      "对比预测值和实际值的差异：\n",
      "        Prediction       Real\n",
      "8   150621.345801  152211.77\n",
      "48   55513.218079   35673.41\n",
      "14  150369.022458  132602.65\n",
      "42   74057.015562   71498.49\n",
      "29  103413.378282  101004.64\n",
      "44   67844.850378   65200.33\n",
      "4   173454.059691  166187.94\n",
      "31   99580.888894   97483.56\n",
      "13  128147.138396  134307.35\n",
      "18  130693.433835  124266.90\n"
     ]
    }
   ],
   "source": [
    "# 方法1：使用sm.formula.ols函数求解\n",
    "# 将数据集拆分为训练集和测试集\n",
    "train, test = model_selection.train_test_split(Profit, test_size = 0.2, random_state=1234)\n",
    "\n",
    "# 根据train数据集建模， C(State)--将State变量当作分类变量来处理\n",
    "model = sm.formula.ols('Profit ~ RD_Spend + Administration + Marketing_Spend + C(State)',\n",
    "                       data = train).fit()\n",
    "print('模型的偏回归系数分别为：\\n', model.params)\n",
    "\n",
    "# 删除test数据集中的Profit变量，用剩下的自变量进行预测\n",
    "test_X = test.drop(labels = 'Profit', axis = 1)\n",
    "\n",
    "pred = model.predict(exog = test_X)\n",
    "print('对比预测值和实际值的差异：\\n',pd.DataFrame({'Prediction':pred,'Real':test.Profit}))"
   ]
  },
  {
   "cell_type": "code",
   "execution_count": 12,
   "metadata": {},
   "outputs": [
    {
     "name": "stdout",
     "output_type": "stream",
     "text": [
      "    RD_Spend  Administration  Marketing_Spend  California  Florida  New York\n",
      "0  165349.20       136897.80        471784.10           0        0         1\n",
      "1  162597.70       151377.59        443898.53           1        0         0\n",
      "2  153441.51       101145.55        407934.54           0        1         0\n",
      "3  144372.41       118671.85        383199.62           0        0         1\n",
      "4  142107.34        91391.77        366168.42           0        1         0\n",
      "截距: 52206.48485016302\n",
      "斜率: [ 7.83589437e-01 -2.20224533e-02  2.58211555e-02  1.17274732e+03\n",
      " -3.91476930e+02 -7.81270386e+02]\n"
     ]
    }
   ],
   "source": [
    "#  方法2：调用第三方模块sklearn的类LinearRegression计算\n",
    "from sklearn import linear_model\n",
    "\n",
    "# 生成由State变量衍生的哑变量\n",
    "dummies = pd.get_dummies(Profit.State)\n",
    "# 将哑变量与原始数据集水平合并\n",
    "Profit_New = pd.concat([Profit,dummies], axis = 1)\n",
    "# print(Profit_New.head())\n",
    "\n",
    "# 删除State变量和California变量（因为State变量已被分解为哑变量，New York变量需要作为参照组）\n",
    "Profit_New.drop(labels = ['State'], axis = 1, inplace = True)\n",
    "\n",
    "# print(Profit_New.head())\n",
    "\n",
    "# 删除test数据集中的Profit变量，用剩下的自变量进行预测\n",
    "test_X = Profit_New.drop(labels = 'Profit', axis = 1)\n",
    "print(test_X.head())\n",
    "\n",
    "reg = linear_model.LinearRegression()\n",
    "reg.fit(test_X, Profit.Profit)  # 需要把类别属性转换成数值型\n",
    "\n",
    "print('截距:',reg.intercept_)\n",
    "print('斜率:',reg.coef_)\n",
    "# 系数矩阵就是coef_，截距就是intercept_"
   ]
  },
  {
   "cell_type": "code",
   "execution_count": null,
   "metadata": {},
   "outputs": [],
   "source": []
  }
 ],
 "metadata": {
  "kernelspec": {
   "display_name": "Python 3",
   "language": "python",
   "name": "python3"
  },
  "language_info": {
   "codemirror_mode": {
    "name": "ipython",
    "version": 3
   },
   "file_extension": ".py",
   "mimetype": "text/x-python",
   "name": "python",
   "nbconvert_exporter": "python",
   "pygments_lexer": "ipython3",
   "version": "3.7.3"
  }
 },
 "nbformat": 4,
 "nbformat_minor": 2
}
