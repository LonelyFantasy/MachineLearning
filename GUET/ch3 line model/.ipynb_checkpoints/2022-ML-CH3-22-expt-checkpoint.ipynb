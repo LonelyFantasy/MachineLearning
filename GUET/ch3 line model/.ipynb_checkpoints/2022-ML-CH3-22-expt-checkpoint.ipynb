{
 "cells": [
  {
   "cell_type": "markdown",
   "metadata": {},
   "source": [
    "#  1. 线性回归"
   ]
  },
  {
   "cell_type": "raw",
   "metadata": {},
   "source": [
    " （1）建立收入与工作经验的线性模型"
   ]
  },
  {
   "cell_type": "code",
   "execution_count": null,
   "metadata": {},
   "outputs": [],
   "source": [
    "# 工作年限与收入之间的散点图\n",
    "# 导入第三方模块\n",
    "import pandas as pd\n",
    "import matplotlib.pyplot as plt\n",
    "import seaborn as sns\n",
    "# 导入数据集\n",
    "#income = pd.read_csv(r'Salary_Data.csv')\n",
    "income = pd.read_csv(r'st.csv')\n",
    "# 绘制散点图\n",
    "sns.lmplot(x = 'YearsExperience', y = 'Salary', data = income, ci = None)\n",
    "# 显示图形\n",
    "plt.show()"
   ]
  },
  {
   "cell_type": "code",
   "execution_count": null,
   "metadata": {},
   "outputs": [],
   "source": [
    "# 简单线性回归模型的参数求解\n",
    "# 样本量\n",
    "n = income.shape[0]\n",
    "# 计算自变量、因变量、自变量平方、自变量与因变量乘积的和\n",
    "sum_x = income.YearsExperience.sum()\n",
    "sum_y = income.Salary.sum()\n",
    "sum_x2 = income.YearsExperience.pow(2).sum()\n",
    "xy = income.YearsExperience * income.Salary\n",
    "sum_xy = xy.sum()\n",
    "# 根据公式计算回归模型的参数\n",
    "b = (sum_xy-sum_x*sum_y/n)/(sum_x2-sum_x**2/n)\n",
    "a = income.Salary.mean()-b*income.YearsExperience.mean()\n",
    "# 打印出计算结果\n",
    "print('回归参数a的值：',a)\n",
    "print('回归参数b的值：',b)"
   ]
  },
  {
   "cell_type": "code",
   "execution_count": null,
   "metadata": {},
   "outputs": [],
   "source": [
    "（2）建立房价与面积的线性模型"
   ]
  },
  {
   "cell_type": "code",
   "execution_count": 3,
   "metadata": {},
   "outputs": [
    {
     "data": {
      "image/png": "[encoded data removed]",
      "text/plain": [
       "<Figure size 432x288 with 1 Axes>"
      ]
     },
     "metadata": {
      "needs_background": "light"
     },
     "output_type": "display_data"
    }
   ],
   "source": [
    "# 方法1：利用公式计算\n",
    "import matplotlib.pyplot as plt\n",
    "\n",
    "def drawplt():\n",
    "    plt.figure()\n",
    "    plt.title('house price')\n",
    "    x=[[50], [70], [88], [69], [100], [120]]\n",
    "    y=[[47], [72], [80], [77], [110], [100]]\n",
    "    plt.plot(x,y, 'k.')\n",
    "    plt.xlabel('area')\n",
    "    plt.ylabel('price')\n",
    "    plt.axis([0,150,0,150])\n",
    "    \n",
    "drawplt()\n",
    "plt.show()\n"
   ]
  },
  {
   "cell_type": "code",
   "execution_count": 4,
   "metadata": {},
   "outputs": [
    {
     "name": "stdout",
     "output_type": "stream",
     "text": [
      "   area  price\n",
      "0    50     47\n",
      "1    70     72\n",
      "2    88     80\n",
      "3    69     77\n",
      "4   100    110\n",
      "5   120    100\n",
      "6\n",
      "回归参数--截距a的值： 15.353009935710162\n",
      "回归参数--斜率b的值： 0.7925189947399176\n",
      "预测130m2的房价为： 118.38047925189944\n"
     ]
    }
   ],
   "source": [
    "import pandas as pd\n",
    "x=[[50], [70], [88], [69], [100], [120]]\n",
    "df1=pd.DataFrame(x)\n",
    "df1\n",
    "y=[[47], [72], [80], [77], [110], [100]]\n",
    "df2=pd.DataFrame(y)\n",
    "df2\n",
    "\n",
    "df3 = pd.concat([df1,df2],axis=1)\n",
    "df3.columns = ['area', 'price']\n",
    "print(df3)\n",
    "\n",
    "n = df3.shape[0]\n",
    "print(n)\n",
    "# 计算自变量、因变量、自变量平方、自变量与因变量乘积的和\n",
    "sum_x = df3.area.sum()\n",
    "sum_y = df3.price.sum()\n",
    "sum_x2 = df3.area.pow(2).sum()\n",
    "xy = df3.area * df3.price\n",
    "sum_xy = xy.sum()\n",
    "# 根据公式计算回归模型的参数\n",
    "b = (sum_xy-sum_x*sum_y/n)/(sum_x2-sum_x**2/n)  # 斜率\n",
    "a = df3.price.mean()-b*df3.area.mean()   #截距\n",
    " \n",
    "# 打印出计算结果\n",
    "print('回归参数--截距a的值：',a)\n",
    "print('回归参数--斜率b的值：',b)\n",
    "\n",
    "ar=130   # 130m2  \n",
    "res=b*ar+a  # 房价\n",
    "print('预测130m2的房价为：',res)"
   ]
  },
  {
   "cell_type": "code",
   "execution_count": 5,
   "metadata": {},
   "outputs": [
    {
     "data": {
      "text/plain": [
       "[<matplotlib.lines.Line2D at 0x11802a20>]"
      ]
     },
     "execution_count": 5,
     "metadata": {},
     "output_type": "execute_result"
    },
    {
     "data": {
      "image/png": "[encoded data removed]",
      "text/plain": [
       "<Figure size 432x288 with 1 Axes>"
      ]
     },
     "metadata": {
      "needs_background": "light"
     },
     "output_type": "display_data"
    }
   ],
   "source": [
    "#绘制直线\n",
    "import numpy as np\n",
    "plt.scatter(x,y)\n",
    "\n",
    "h_theta = a+b* np.array(x)\n",
    "plt.plot(x,h_theta)"
   ]
  },
  {
   "cell_type": "code",
   "execution_count": 6,
   "metadata": {},
   "outputs": [
    {
     "name": "stdout",
     "output_type": "stream",
     "text": [
      "   area  price\n",
      "0    50     47\n",
      "1    70     72\n",
      "2    88     80\n",
      "3    69     77\n",
      "4   100    110\n",
      "5   120    100\n"
     ]
    },
    {
     "data": {
      "text/plain": [
       "Intercept    15.353010\n",
       "area          0.792519\n",
       "dtype: float64"
      ]
     },
     "execution_count": 6,
     "metadata": {},
     "output_type": "execute_result"
    }
   ],
   "source": [
    "# 方法2：调用第三方模块statsmodels.api的函数formula.ols计算\n",
    "\n",
    "# 导入第三方模块\n",
    "import statsmodels.api as sm\n",
    "\n",
    "df3 = pd.concat([df1,df2],axis=1)\n",
    "df3.columns = ['area', 'price']\n",
    "print(df3)\n",
    "\n",
    "# 利用收入数据集，构建回归模型\n",
    "fit = sm.formula.ols('price ~ area', data=df3).fit()\n",
    "# 返回模型的参数值\n",
    "fit.params"
   ]
  },
  {
   "cell_type": "code",
   "execution_count": 1,
   "metadata": {},
   "outputs": [
    {
     "name": "stdout",
     "output_type": "stream",
     "text": [
      "截距: 15.353009935710105\n",
      "斜率: [0.79251899]\n",
      "[118.38047925]\n"
     ]
    }
   ],
   "source": [
    "# 方法3：调用第三方模块sklearn的类LinearRegression计算\n",
    "from sklearn import linear_model\n",
    "reg = linear_model.LinearRegression()\n",
    "reg.fit([[50], [70], [88], [69], [100], [120]],[47, 72, 80, 77, 110, 100])\n",
    "\n",
    "print('截距:',reg.intercept_)\n",
    "print('斜率:',reg.coef_)\n",
    "# 系数矩阵就是coef_，截距就是intercept_\n",
    "\n",
    "a= reg.predict([[130]])\n",
    "print(a)"
   ]
  },
  {
   "cell_type": "markdown",
   "metadata": {},
   "source": [
    "## 实验1  第1题"
   ]
  },
  {
   "cell_type": "code",
   "execution_count": 8,
   "metadata": {},
   "outputs": [
    {
     "data": {
      "image/png": "[encoded data removed]",
      "text/plain": [
       "<Figure size 432x288 with 1 Axes>"
      ]
     },
     "metadata": {
      "needs_background": "light"
     },
     "output_type": "display_data"
    }
   ],
   "source": [
    "# 1-1 ：利用公式计算\n",
    "# 使用数据绘图，发现规律\n",
    "import matplotlib.pyplot as plt\n",
    "\n",
    "def drawplt(x1,y1):\n",
    "    plt.figure()\n",
    "    plt.title('income')   \n",
    "    plt.plot(x1,y1, 'k.')\n",
    "    plt.xlabel('cost')\n",
    "    plt.ylabel('income')\n",
    "    plt.axis([0,50,0,80])\n",
    "\n",
    "x=[[6], [9], [12], [14], [16]]\n",
    "y=[[9], [12], [29], [35], [59]]\n",
    "drawplt(x,y)\n",
    "plt.show()\n"
   ]
  },
  {
   "cell_type": "code",
   "execution_count": 12,
   "metadata": {},
   "outputs": [
    {
     "name": "stdout",
     "output_type": "stream",
     "text": [
      "   cost  income\n",
      "0     6       9\n",
      "1     9      12\n",
      "2    12      29\n",
      "3    14      35\n",
      "4    16      59\n",
      "5\n",
      "回归参数--截距a的值： -25.746835443037956\n",
      "回归参数--斜率b的值： 4.7848101265822764\n",
      "预测投资2000万的电影收入为： 69.94936708860757\n"
     ]
    }
   ],
   "source": [
    "import pandas as pd\n",
    "df1=pd.DataFrame(x)\n",
    "# print(df1)\n",
    "df2=pd.DataFrame(y)\n",
    "# print(df2)\n",
    "\n",
    "df3 = pd.concat([df1,df2],axis=1)\n",
    "df3.columns = ['cost', 'income']\n",
    "print(df3)\n",
    "\n",
    "n = df3.shape[0]\n",
    "print(n)\n",
    "# 计算自变量、因变量、自变量平方、自变量与因变量乘积的和\n",
    "sum_x = df3.cost.sum()\n",
    "sum_y = df3.income.sum()\n",
    "sum_x2 = df3.cost.pow(2).sum()\n",
    "xy = df3.cost * df3.income\n",
    "sum_xy = xy.sum()\n",
    "# 根据公式计算回归模型的参数\n",
    "b = (sum_xy-sum_x*sum_y/n)/(sum_x2-sum_x**2/n)  # 斜率\n",
    "a = df3.income.mean()-b*df3.cost.mean()   #截距\n",
    " \n",
    "# 打印出计算结果\n",
    "print('回归参数--截距a的值：',a)\n",
    "print('回归参数--斜率b的值：',b)\n",
    "\n",
    "ar=20   # 2000万  \n",
    "res=b*ar+a  # 房价\n",
    "print('预测投资2000万的电影收入为：',res)"
   ]
  },
  {
   "cell_type": "code",
   "execution_count": 14,
   "metadata": {},
   "outputs": [
    {
     "name": "stdout",
     "output_type": "stream",
     "text": [
      "截距: [-25.74683544]\n",
      "斜率: [[4.78481013]]\n",
      "[[69.94936709]]\n"
     ]
    }
   ],
   "source": [
    "# 1-2：调用第三方模块sklearn的类LinearRegression计算\n",
    "from sklearn import linear_model\n",
    "x=[[6], [9], [12], [14], [16]]\n",
    "y=[[9], [12], [29], [35], [59]]\n",
    "reg = linear_model.LinearRegression()\n",
    "reg.fit(x,y)\n",
    "\n",
    "print('截距:',reg.intercept_)\n",
    "print('斜率:',reg.coef_)\n",
    "# 系数矩阵就是coef_，截距就是intercept_\n",
    "\n",
    "a= reg.predict([[20]])\n",
    "print(a)"
   ]
  },
  {
   "cell_type": "code",
   "execution_count": 15,
   "metadata": {},
   "outputs": [
    {
     "name": "stdout",
     "output_type": "stream",
     "text": [
      "[[ 6  1]\n",
      " [ 9  3]\n",
      " [12  2]\n",
      " [14  3]\n",
      " [16  4]]\n",
      "[ 9 12 29 35 59]\n",
      "截距: -25.79562043795624\n",
      "斜率: [ 4.94890511 -0.70072993]\n",
      "[68.97810219]\n"
     ]
    }
   ],
   "source": [
    "# 方法1-3：调用第三方模块sklearn的类LinearRegression计算\n",
    "import numpy as np\n",
    "from sklearn import linear_model\n",
    "\n",
    "x=np.array([[6,1,9],[9,3,12],[12,2,29],[14,3,35],[16,4,59]])\n",
    "X=x[:,:-1]\n",
    "Y=x[:,-1]\n",
    "\n",
    "print(X)\n",
    "print(Y)\n",
    "\n",
    "reg = linear_model.LinearRegression()\n",
    "reg.fit(X,Y)\n",
    "\n",
    "print('截距:',reg.intercept_)\n",
    "print('斜率:',reg.coef_)\n",
    "# 系数矩阵就是coef_，截距就是intercept_\n",
    "\n",
    "a= reg.predict([[20,6]])\n",
    "print(a)"
   ]
  },
  {
   "cell_type": "markdown",
   "metadata": {},
   "source": [
    "## 实验2  第1题 "
   ]
  },
  {
   "cell_type": "code",
   "execution_count": null,
   "metadata": {},
   "outputs": [],
   "source": [
    "import numpy as np\n",
    "import pandas as pd\n",
    "inputfile = '../data/data.csv' # 输入的数据文件\n",
    "data = pd.read_csv(inputfile) # 读取数据\n",
    "\n",
    "# 描述性统计分析\n",
    "description = [data.min(), data.max(), data.mean(), data.std()]  # 依次计算最小值、最大值、均值、标准差\n",
    "description = pd.DataFrame(description, index = ['Min', 'Max', 'Mean', 'STD']).T  # 将结果存入数据框\n",
    "print('描述性统计结果：\\n',np.round(description, 2))  # 保留两位小数\n"
   ]
  }
 ],
 "metadata": {
  "kernelspec": {
   "display_name": "Python 3",
   "language": "python",
   "name": "python3"
  },
  "language_info": {
   "codemirror_mode": {
    "name": "ipython",
    "version": 3
   },
   "file_extension": ".py",
   "mimetype": "text/x-python",
   "name": "python",
   "nbconvert_exporter": "python",
   "pygments_lexer": "ipython3",
   "version": "3.7.3"
  }
 },
 "nbformat": 4,
 "nbformat_minor": 2
}
