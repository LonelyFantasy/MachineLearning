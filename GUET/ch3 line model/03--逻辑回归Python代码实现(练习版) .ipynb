{
 "cells": [
  {
   "cell_type": "markdown",
   "metadata": {},
   "source": [
    "# 逻辑回归代码实现"
   ]
  },
  {
   "cell_type": "code",
   "execution_count": 1,
   "metadata": {},
   "outputs": [],
   "source": [
    "import numpy as np\n",
    "import matplotlib.pyplot as plt\n",
    "import matplotlib as mpl\n",
    "from sklearn.metrics import accuracy_score"
   ]
  },
  {
   "cell_type": "markdown",
   "metadata": {},
   "source": [
    "##### 加载数据的函数"
   ]
  },
  {
   "cell_type": "code",
   "execution_count": 2,
   "metadata": {},
   "outputs": [],
   "source": [
    "def loaddata():\n",
    "    data = np.loadtxt('data1.txt',delimiter=',')  # data--数组\n",
    "#     print(type(data))\n",
    "#     print(data.shape)\n",
    "    n = data.shape[1] - 1  # 特征数\n",
    "    X = data[:, 0:n]\n",
    "#     print(X.shape)\n",
    "    y = data[:, -1].reshape(-1, 1)\n",
    "#     print(y.shape)\n",
    "    return X, y"
   ]
  },
  {
   "cell_type": "markdown",
   "metadata": {},
   "source": [
    "##### 画散点图"
   ]
  },
  {
   "cell_type": "code",
   "execution_count": 3,
   "metadata": {},
   "outputs": [],
   "source": [
    "def plot(X,y):\n",
    "    pos = np.where(y==1)   # y=1的索引\n",
    "    neg = np.where(y==0)   # y=1的索引\n",
    "#     print(pos)\n",
    "    \n",
    "    plt.scatter(X[pos[0],0],X[pos[0],1],marker='x')\n",
    "    plt.scatter(X[neg[0], 0], X[neg[0], 1], marker='o')\n",
    "    \n",
    "    plt.xlabel('Exam 1 score')\n",
    "    plt.ylabel('Exam 2 score')\n",
    "    plt.show()"
   ]
  },
  {
   "cell_type": "code",
   "execution_count": 4,
   "metadata": {},
   "outputs": [
    {
     "data": {
      "text/plain": "<Figure size 432x288 with 1 Axes>",
      "image/png": "[encoded data removed]"
     },
     "metadata": {
      "needs_background": "light"
     },
     "output_type": "display_data"
    }
   ],
   "source": [
    "X,y = loaddata()\n",
    "# print(X)\n",
    "plot(X,y)"
   ]
  },
  {
   "attachments": {
    "image.png": {
     "image/png": "[encoded data removed]"
    }
   },
   "cell_type": "markdown",
   "metadata": {},
   "source": [
    "### 实现sigmoid函数\n",
    "![image.png](attachment:image.png)"
   ]
  },
  {
   "cell_type": "code",
   "execution_count": 5,
   "metadata": {},
   "outputs": [
    {
     "data": {
      "text/plain": "0.9525741268224334"
     },
     "execution_count": 5,
     "metadata": {},
     "output_type": "execute_result"
    }
   ],
   "source": [
    "def sigmoid(z):\n",
    "    r= 1/(1+np.exp(-z))\n",
    "    return r\n",
    "\n",
    "sigmoid(3)"
   ]
  },
  {
   "attachments": {
    "image.png": {
     "image/png": "[encoded data removed]"
    }
   },
   "cell_type": "markdown",
   "metadata": {},
   "source": [
    "### 实现假设函数\n",
    "![image.png](attachment:image.png)"
   ]
  },
  {
   "cell_type": "code",
   "execution_count": 6,
   "metadata": {},
   "outputs": [],
   "source": [
    "def hypothesis(X,theta):   #  theta,即系数w\n",
    "    z=np.dot(X,theta)\n",
    "    return sigmoid(z)    "
   ]
  },
  {
   "cell_type": "markdown",
   "metadata": {},
   "source": [
    "##### 损失函数\n",
    "<img src=\"images/03.png\" width=\"250\" align=\"left\"/>"
   ]
  },
  {
   "cell_type": "code",
   "execution_count": 7,
   "metadata": {},
   "outputs": [],
   "source": [
    "def computeCost(X,y,theta):\n",
    "    m=X.shape[0]\n",
    "    l=-1*y*np.log(hypothesis(X,theta))-(1-y)*np.log(1-hypothesis(X,theta))\n",
    "    return np.sum(1)/m\n",
    "    "
   ]
  },
  {
   "cell_type": "markdown",
   "metadata": {},
   "source": [
    "##### 梯度下降法求解\n",
    "<img src=\"images/04.png\" width=\"250\" align=\"left\"/>"
   ]
  },
  {
   "cell_type": "code",
   "execution_count": 8,
   "metadata": {},
   "outputs": [],
   "source": [
    "def gradientDescent(X,y,theta,iterations,alpha):  #  theta,即系数w\n",
    "    #取数据的条数\n",
    "    m=X.shape[0]\n",
    "    \n",
    "    #在x最前面插入全1的列\n",
    "    X=np.hstack((np.ones((m,1)),X))\n",
    "    \n",
    "    for i in range(iterations):\n",
    "        for j in range(len(theta)):\n",
    "            #迭代公式，reshape(-1,1)转换成1列\n",
    "            theta[j]=theta[j]-(alpha/m)*np.sum((hypothesis(X,theta)-y)*X[:,j].reshape(-1,1))\n",
    "        if(i%10000==0):\n",
    "            #每迭代1000次输出一次损失值\n",
    "             print('第',i,'次迭代，当前损失为：',computeCost(X,y,theta),'theta=',theta)\n",
    "    return theta"
   ]
  },
  {
   "cell_type": "markdown",
   "metadata": {},
   "source": [
    "##### 预测函数"
   ]
  },
  {
   "cell_type": "code",
   "execution_count": 9,
   "metadata": {},
   "outputs": [],
   "source": [
    "def predict(X):\n",
    "    #取数据条数\n",
    "    m=X.shape[0]\n",
    "    # 在x最前面插入全1的列，横向合并\n",
    "    X=np.hstack((np.ones((m,1)),X))\n",
    "    #求解假设函数的值\n",
    "    h = hypothesis(X,theta)\n",
    "    #根据概率值决定最终的分类,>=0.5为1类，<0.5为0类\n",
    "    h[h>=0.5]=1\n",
    "    h[h<0.5]=0\n",
    "    return h"
   ]
  },
  {
   "cell_type": "code",
   "execution_count": 10,
   "metadata": {},
   "outputs": [
    {
     "name": "stdout",
     "output_type": "stream",
     "text": [
      "第 0 次迭代，当前损失为： 0.01 theta= [[ 0.0008    ]\n",
      " [ 0.0959687 ]\n",
      " [-0.17080118]]\n",
      "第 10000 次迭代，当前损失为： 0.01 theta= [[-5.98801985]\n",
      " [ 0.0285522 ]\n",
      " [ 0.32602287]]\n",
      "第 20000 次迭代，当前损失为： 0.01 theta= [[-11.0518636 ]\n",
      " [ -0.05094939]\n",
      " [  0.20266973]]\n",
      "第 30000 次迭代，当前损失为： 0.01 theta= [[-14.66995062]\n",
      " [ -0.06342536]\n",
      " [  0.3110437 ]]\n",
      "第 40000 次迭代，当前损失为： 0.01 theta= [[-1.76671022e+01]\n",
      " [ 2.29071853e-01]\n",
      " [ 1.58711438e-02]]\n",
      "第 50000 次迭代，当前损失为： 0.01 theta= [[-19.61908473]\n",
      " [  0.18701435]\n",
      " [  0.19631039]]\n",
      "第 60000 次迭代，当前损失为： 0.01 theta= [[-20.98824735]\n",
      " [  0.26787817]\n",
      " [  0.1215997 ]]\n",
      "第 70000 次迭代，当前损失为： 0.01 theta= [[-22.01666587]\n",
      " [  0.19051574]\n",
      " [  0.21622205]]\n",
      "第 80000 次迭代，当前损失为： 0.01 theta= [[-22.85743719]\n",
      " [  0.18382044]\n",
      " [  0.14578984]]\n",
      "第 90000 次迭代，当前损失为： 0.01 theta= [[-23.53290128]\n",
      " [  0.16267748]\n",
      " [  0.18365066]]\n",
      "第 100000 次迭代，当前损失为： 0.01 theta= [[-24.07165445]\n",
      " [  0.23997356]\n",
      " [  0.12305231]]\n",
      "第 110000 次迭代，当前损失为： 0.01 theta= [[-24.49944757]\n",
      " [  0.14702523]\n",
      " [  0.23826127]]\n",
      "第 120000 次迭代，当前损失为： 0.01 theta= [[-24.83068366]\n",
      " [  0.16641189]\n",
      " [  0.2157657 ]]\n",
      "第 130000 次迭代，当前损失为： 0.01 theta= [[-25.08258148]\n",
      " [  0.19901753]\n",
      " [  0.22962623]]\n",
      "第 140000 次迭代，当前损失为： 0.01 theta= [[-25.27098598]\n",
      " [  0.23539238]\n",
      " [  0.19515254]]\n",
      "第 150000 次迭代，当前损失为： 0.01 theta= [[-25.40991466]\n",
      " [  0.20447181]\n",
      " [  0.22440649]]\n",
      "第 160000 次迭代，当前损失为： 0.01 theta= [[-25.50941501]\n",
      " [  0.20354051]\n",
      " [  0.22415584]]\n",
      "第 170000 次迭代，当前损失为： 0.01 theta= [[-25.5795411 ]\n",
      " [  0.1968624 ]\n",
      " [  0.22793397]]\n",
      "第 180000 次迭代，当前损失为： 0.01 theta= [[-25.62746842]\n",
      " [  0.22732504]\n",
      " [  0.19825308]]\n",
      "第 190000 次迭代，当前损失为： 0.01 theta= [[-25.66081236]\n",
      " [  0.20779975]\n",
      " [  0.19825257]]\n",
      "第 200000 次迭代，当前损失为： 0.01 theta= [[-25.68311896]\n",
      " [  0.19514499]\n",
      " [  0.21643835]]\n",
      "第 210000 次迭代，当前损失为： 0.01 theta= [[-25.69763785]\n",
      " [  0.21093762]\n",
      " [  0.21333264]]\n",
      "第 220000 次迭代，当前损失为： 0.01 theta= [[-25.70779316]\n",
      " [  0.19668144]\n",
      " [  0.22035986]]\n",
      "第 230000 次迭代，当前损失为： 0.01 theta= [[-25.71397405]\n",
      " [  0.22317084]\n",
      " [  0.19776862]]\n",
      "第 240000 次迭代，当前损失为： 0.01 theta= [[-25.71842493]\n",
      " [  0.22136864]\n",
      " [  0.19294101]]\n",
      "theta=\n",
      " [[-25.72150943]\n",
      " [  0.21029901]\n",
      " [  0.20035803]]\n"
     ]
    }
   ],
   "source": [
    "X,y = loaddata()\n",
    "\n",
    "n = X.shape[1]  #特征数\n",
    "theta = np.zeros(n+1).reshape(n+1, 1)  # theta是列向量,+1是因为求梯度时X前会增加一个全1列\n",
    "iterations = 250000\n",
    "alpha = 0.008\n",
    "\n",
    "theta = gradientDescent(X,y,theta,iterations,alpha)\n",
    "print('theta=\\n',theta)"
   ]
  },
  {
   "cell_type": "markdown",
   "metadata": {},
   "source": [
    "##### 画决策边界"
   ]
  },
  {
   "cell_type": "code",
   "execution_count": 11,
   "metadata": {},
   "outputs": [],
   "source": [
    "def plotDescisionBoundary(X,y,theta):\n",
    "    cm_dark = mpl.colors.ListedColormap(['g', 'r'])\n",
    "    plt.xlabel('Exam 1 score')\n",
    "    plt.ylabel('Exam 2 score')\n",
    "    plt.scatter(X[:,0],X[:,1],c=np.array(y).squeeze(),cmap=cm_dark,s=30)\n",
    "\n",
    "    #画分类决策面： theta0+theta1*x1+theta2*x2 = 0\n",
    "    # x1 = np.arange(20,110,0.1)\n",
    "    x1 = np.arange(min(X[:, 0]), max(X[:, 0]), 0.1)\n",
    "    x2 = -(theta[1]*x1+theta[0])/theta[2]\n",
    "    plt.plot(x1,x2)\n",
    "    plt.show()"
   ]
  },
  {
   "cell_type": "code",
   "execution_count": 12,
   "metadata": {},
   "outputs": [
    {
     "data": {
      "text/plain": "<Figure size 432x288 with 1 Axes>",
      "image/png": "[encoded data removed]"
     },
     "metadata": {
      "needs_background": "light"
     },
     "output_type": "display_data"
    }
   ],
   "source": [
    "plotDescisionBoundary(X,y,theta)"
   ]
  },
  {
   "cell_type": "code",
   "execution_count": 13,
   "metadata": {},
   "outputs": [
    {
     "name": "stdout",
     "output_type": "stream",
     "text": [
      "准确度： 0.89\n",
      "准确度： 0.89\n"
     ]
    }
   ],
   "source": [
    "p = predict(X)\n",
    "print('准确度：',np.mean(p==y))\n",
    "print('准确度：',accuracy_score(y,p))"
   ]
  },
  {
   "cell_type": "code",
   "execution_count": 14,
   "metadata": {},
   "outputs": [],
   "source": [
    "# 方法2： 使用sklearn模块实现\n"
   ]
  }
 ],
 "metadata": {
  "kernelspec": {
   "display_name": "Python 3",
   "language": "python",
   "name": "python3"
  },
  "language_info": {
   "codemirror_mode": {
    "name": "ipython",
    "version": 3
   },
   "file_extension": ".py",
   "mimetype": "text/x-python",
   "name": "python",
   "nbconvert_exporter": "python",
   "pygments_lexer": "ipython3",
   "version": "3.7.3"
  }
 },
 "nbformat": 4,
 "nbformat_minor": 2
}