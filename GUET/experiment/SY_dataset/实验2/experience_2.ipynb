{
 "cells": [
  {
   "cell_type": "code",
   "execution_count": 1,
   "metadata": {
    "collapsed": true
   },
   "outputs": [],
   "source": [
    "# Import List\n",
    "from sklearn.neural_network import MLPClassifier\n",
    "from sklearn.model_selection import train_test_split\n",
    "from sklearn.preprocessing import StandardScaler, LabelBinarizer\n",
    "import numpy as np\n",
    "\n",
    "import pandas as pd\n"
   ]
  },
  {
   "cell_type": "markdown",
   "source": [
    "# 实验2\n",
    "\n",
    "## 标准BP算法\n",
    "\n",
    "首先需要对数据进行归一化处理，便于神经网络的使用。"
   ],
   "metadata": {
    "collapsed": false
   }
  },
  {
   "cell_type": "code",
   "execution_count": 2,
   "outputs": [],
   "source": [
    "# 读取所有数据（不包括第一行参数）\n",
    "wine_data = np.genfromtxt('wine_data.csv', delimiter=',', skip_header=1)\n",
    "\n",
    "# 读取所有特征数据，排除最后一列（列标签）\n",
    "X = wine_data[:, 0:13]\n",
    "# 标签列读取\n",
    "y = wine_data[:, 13]\n",
    "\n",
    "# 划分70%训练集，30%测试集\n",
    "x_train, x_test, y_train, y_test = train_test_split(X, y, test_size=0.3, train_size=0.7)\n",
    "# 数据标准化\n",
    "label_train = LabelBinarizer().fit_transform(y_train)"
   ],
   "metadata": {
    "collapsed": false,
    "pycharm": {
     "name": "#%%\n"
    }
   }
  },
  {
   "cell_type": "markdown",
   "source": [
    "设置神经网络参数。包括学习率、迭代次数、神经节点设置。"
   ],
   "metadata": {
    "collapsed": false
   }
  },
  {
   "cell_type": "code",
   "execution_count": 3,
   "outputs": [],
   "source": [
    "# 学习率\n",
    "rate = 0.11\n",
    "# 迭代次数\n",
    "step = 10000\n",
    "\n",
    "# 随机设置神经权值，13输入，3输出中间隐藏层100个神经元\n",
    "v = np.random.random((13, 100)) * 2 - 1  # 输入层->隐层\n",
    "w = np.random.random((100, 3)) * 2 - 1  # 隐层->输出层"
   ],
   "metadata": {
    "collapsed": false,
    "pycharm": {
     "name": "#%%\n"
    }
   }
  },
  {
   "cell_type": "markdown",
   "source": [
    "激活函数$sigmoid()$与其导数函数如下。"
   ],
   "metadata": {
    "collapsed": false
   }
  },
  {
   "cell_type": "code",
   "execution_count": 4,
   "outputs": [],
   "source": [
    "def sigmoid(x):\n",
    "    return 1 / (1 + np.exp(-x))\n",
    "\n",
    "\n",
    "def de_sigmoid(x):\n",
    "    return x * (1 - x)"
   ],
   "metadata": {
    "collapsed": false,
    "pycharm": {
     "name": "#%%\n"
    }
   }
  },
  {
   "cell_type": "markdown",
   "source": [
    "创建训练函数\n",
    "标准BP算法核心要点如下：\n",
    "\n",
    "1. 随机初始化节点的权值。\n",
    "2. 按照激活函数公式计算出样本误差。\n",
    "3. 根据样本误差反推出权值梯度项。\n",
    "4. 更新节点权值。\n",
    "\n",
    "反复执行上述过程，直到达到设定的训练次数。"
   ],
   "metadata": {
    "collapsed": false
   }
  },
  {
   "cell_type": "code",
   "execution_count": 5,
   "outputs": [
    {
     "name": "stderr",
     "output_type": "stream",
     "text": [
      "C:\\Users\\Lixiy\\AppData\\Local\\Temp\\ipykernel_26444\\174309813.py:2: RuntimeWarning: overflow encountered in exp\n",
      "  return 1 / (1 + np.exp(-x))\n"
     ]
    },
    {
     "name": "stdout",
     "output_type": "stream",
     "text": [
      "step: 0 acc: 0.4444444444444444\n",
      "step: 1000 acc: 0.25925925925925924\n",
      "step: 2000 acc: 0.2962962962962963\n",
      "step: 3000 acc: 0.2962962962962963\n",
      "step: 4000 acc: 0.2962962962962963\n",
      "step: 5000 acc: 0.4444444444444444\n",
      "step: 6000 acc: 0.2962962962962963\n",
      "step: 7000 acc: 0.2962962962962963\n",
      "step: 8000 acc: 0.25925925925925924\n",
      "step: 9000 acc: 0.25925925925925924\n",
      "step: 10000 acc: 0.4444444444444444\n"
     ]
    }
   ],
   "source": [
    "def standard_bp_train(train_x, train_y, train_rate, train_step):\n",
    "    # 导入神经节点\n",
    "    global v, w\n",
    "    for n in range(train_step + 1):\n",
    "        # 随机选择样本\n",
    "        i = np.random.randint(train_x.shape[0])\n",
    "        x = train_x[i]\n",
    "        x = np.atleast_2d(x)\n",
    "\n",
    "        # 节点激活\n",
    "        L1 = sigmoid(np.dot(x, v))  # 输入层->隐层\n",
    "        L2 = sigmoid(np.dot(L1, w))  # 隐层->输出层\n",
    "\n",
    "        # 误差反向反馈\n",
    "        L2_delta = (train_y[i] - L2) * de_sigmoid(L2)  # 输出层->隐层\n",
    "        L1_delta = L2_delta.dot(w.T) * de_sigmoid(L1)  # 隐层->输入层\n",
    "\n",
    "        # 权值更新\n",
    "        w = w + train_rate * L1.T.dot(L2_delta)  # 隐层->输出层\n",
    "        v = v + train_rate * x.T.dot(L1_delta)  # 输入层->隐层\n",
    "\n",
    "        # 每1000次训练对网络进行测试，输出测试准确率\n",
    "        if n % 1000 == 0:\n",
    "            output = predict(x_test)\n",
    "            predictions = np.argmax(output, axis=1)  # 选择概率最大的输出点作为结果，输出所在列编号，对应分类结果\n",
    "            acc = np.mean(np.equal(predictions, y_test))  # 对比测试样本，求准确率\n",
    "            print(\"step:\", n, \"acc:\", acc)\n",
    "\n",
    "\n",
    "def predict(x):\n",
    "    L1 = sigmoid(np.dot(x, v))\n",
    "    L2 = sigmoid(np.dot(L1, w))\n",
    "    return L2\n",
    "\n",
    "\n",
    "standard_bp_train(x_train, label_train, rate, step)"
   ],
   "metadata": {
    "collapsed": false,
    "pycharm": {
     "name": "#%%\n"
    }
   }
  },
  {
   "cell_type": "markdown",
   "source": [
    "通过运行标准BP算法可以发现，单层神经网络中神经点之间的权重在每次放入样本训练后都会发生改变，改变次数与训练次数相关，即：标准BP算法更新规则是基于每次样本而去修改。"
   ],
   "metadata": {
    "collapsed": false
   }
  },
  {
   "cell_type": "markdown",
   "source": [
    "## 累计BP算法\n",
    "累计BP算法"
   ],
   "metadata": {
    "collapsed": false
   }
  },
  {
   "cell_type": "code",
   "execution_count": 6,
   "outputs": [],
   "source": [
    "def sum_bp_train(train_x, train_y, train_rate, train_step):\n",
    "    return\n",
    "\n"
   ],
   "metadata": {
    "collapsed": false,
    "pycharm": {
     "name": "#%%\n"
    }
   }
  },
  {
   "cell_type": "markdown",
   "source": [
    "## 构建神经网络\n",
    "\n",
    "使用TensorFlow搭建神经网络。"
   ],
   "metadata": {
    "collapsed": false
   }
  },
  {
   "cell_type": "code",
   "execution_count": 7,
   "outputs": [],
   "source": [
    "# Import List\n",
    "import tensorflow as tf\n",
    "import seaborn as sns\n",
    "from sklearn.metrics import confusion_matrix, f1_score, precision_score\n",
    "from matplotlib import pyplot as plt"
   ],
   "metadata": {
    "collapsed": false,
    "pycharm": {
     "name": "#%%\n"
    }
   }
  },
  {
   "cell_type": "markdown",
   "source": [
    "导入数据，并划分训练集与测试集。"
   ],
   "metadata": {
    "collapsed": false
   }
  },
  {
   "cell_type": "code",
   "execution_count": 8,
   "outputs": [
    {
     "name": "stdout",
     "output_type": "stream",
     "text": [
      "[[ 1.51861254 -0.5622498   0.23205254 ...  0.36217728  1.84791957\n",
      "   1.01300893]\n",
      " [ 0.24628963 -0.49941338 -0.82799632 ...  0.40605066  1.1134493\n",
      "   0.96524152]\n",
      " [ 0.19687903  0.02123125  1.10933436 ...  0.31830389  0.78858745\n",
      "   1.39514818]\n",
      " ...\n",
      " [ 0.33275817  1.74474449 -0.38935541 ... -1.61212515 -1.48544548\n",
      "   0.28057537]\n",
      " [ 0.20923168  0.22769377  0.01273209 ... -1.56825176 -1.40069891\n",
      "   0.29649784]\n",
      " [ 1.39508604  1.58316512  1.36520822 ... -1.52437837 -1.42894777\n",
      "  -0.59516041]]\n"
     ]
    }
   ],
   "source": [
    "# 读取所有数据（不包括第一行参数）\n",
    "wine_data_tf = np.genfromtxt('wine_data.csv', delimiter=',', skip_header=1)\n",
    "# 读取所有特征数据，排除最后一列（列标签）\n",
    "X_tf = wine_data_tf[:, 0:13]\n",
    "# 标签列读取\n",
    "y_tf = wine_data_tf[:, 13]\n",
    "\n",
    "# 数据归一化\n",
    "scaler = StandardScaler()\n",
    "X_scaler = scaler.fit_transform(X_tf)\n",
    "print(X_scaler)\n",
    "\n",
    "# 划分训练集测试集\n",
    "x_train_tf, x_test_tf, y_train_tf, y_test_tf = train_test_split(X_scaler, y_tf, stratify=y, random_state=42, test_size=0.2)\n",
    "# 数据标准化\n",
    "label_train_tf = LabelBinarizer().fit_transform(y_train_tf)"
   ],
   "metadata": {
    "collapsed": false,
    "pycharm": {
     "name": "#%%\n"
    }
   }
  },
  {
   "cell_type": "markdown",
   "source": [
    "创建TensorFlow神经网络，设置输入层、隐藏层和输出层的大小。"
   ],
   "metadata": {
    "collapsed": false
   }
  },
  {
   "cell_type": "code",
   "execution_count": 9,
   "outputs": [],
   "source": [
    "# 使用keras的层堆叠创建神经网络，包含输入层、隐层和输出层\n",
    "model = tf.keras.Sequential([\n",
    "    tf.keras.layers.Dense(16, activation='relu', input_shape=[13]),\n",
    "    tf.keras.layers.Dense(50, activation='relu'),\n",
    "    tf.keras.layers.Dense(10, activation='relu'),\n",
    "    tf.keras.layers.Dense(3)\n",
    "])\n",
    "\n",
    "# 参数设置\n",
    "LEARNING_RATE = 0.001  # 学习率\n",
    "EPOCHS = 50  # 训练轮数\n",
    "BATCH_SIZE = 32  # 每轮训练进入的数据量\n",
    "\n",
    "# 通过compile调整网络学习参数\n",
    "model.compile(\n",
    "    # 优化器\n",
    "    optimizer=tf.keras.optimizers.Adam(learning_rate=LEARNING_RATE),\n",
    "    # 损失函数\n",
    "    loss='mse',\n",
    "    # 评估函数\n",
    "    metrics=['mae'])"
   ],
   "metadata": {
    "collapsed": false,
    "pycharm": {
     "name": "#%%\n"
    }
   }
  },
  {
   "cell_type": "markdown",
   "source": [
    "向模型输入数据进行训练"
   ],
   "metadata": {
    "collapsed": false
   }
  },
  {
   "cell_type": "code",
   "execution_count": 10,
   "outputs": [
    {
     "name": "stdout",
     "output_type": "stream",
     "text": [
      "Epoch 1/50\n",
      "5/5 [==============================] - 1s 72ms/step - loss: 1.6409 - mae: 1.0217 - val_loss: 1.5544 - val_mae: 0.9815\n",
      "Epoch 2/50\n",
      "5/5 [==============================] - 0s 9ms/step - loss: 1.5414 - mae: 0.9830 - val_loss: 1.5172 - val_mae: 0.9678\n",
      "Epoch 3/50\n",
      "5/5 [==============================] - 0s 9ms/step - loss: 1.4886 - mae: 0.9624 - val_loss: 1.4860 - val_mae: 0.9601\n",
      "Epoch 4/50\n",
      "5/5 [==============================] - 0s 9ms/step - loss: 1.4535 - mae: 0.9511 - val_loss: 1.4571 - val_mae: 0.9533\n",
      "Epoch 5/50\n",
      "5/5 [==============================] - 0s 9ms/step - loss: 1.4222 - mae: 0.9420 - val_loss: 1.4296 - val_mae: 0.9459\n",
      "Epoch 6/50\n",
      "5/5 [==============================] - 0s 7ms/step - loss: 1.3956 - mae: 0.9341 - val_loss: 1.3993 - val_mae: 0.9359\n",
      "Epoch 7/50\n",
      "5/5 [==============================] - 0s 7ms/step - loss: 1.3640 - mae: 0.9247 - val_loss: 1.3622 - val_mae: 0.9230\n",
      "Epoch 8/50\n",
      "5/5 [==============================] - 0s 7ms/step - loss: 1.3270 - mae: 0.9122 - val_loss: 1.3174 - val_mae: 0.9079\n",
      "Epoch 9/50\n",
      "5/5 [==============================] - 0s 7ms/step - loss: 1.2811 - mae: 0.8989 - val_loss: 1.2605 - val_mae: 0.8901\n",
      "Epoch 10/50\n",
      "5/5 [==============================] - 0s 8ms/step - loss: 1.2246 - mae: 0.8835 - val_loss: 1.1900 - val_mae: 0.8694\n",
      "Epoch 11/50\n",
      "5/5 [==============================] - 0s 7ms/step - loss: 1.1506 - mae: 0.8642 - val_loss: 1.1045 - val_mae: 0.8439\n",
      "Epoch 12/50\n",
      "5/5 [==============================] - 0s 7ms/step - loss: 1.0610 - mae: 0.8383 - val_loss: 1.0003 - val_mae: 0.8101\n",
      "Epoch 13/50\n",
      "5/5 [==============================] - 0s 7ms/step - loss: 0.9556 - mae: 0.8045 - val_loss: 0.8769 - val_mae: 0.7657\n",
      "Epoch 14/50\n",
      "5/5 [==============================] - 0s 7ms/step - loss: 0.8252 - mae: 0.7600 - val_loss: 0.7399 - val_mae: 0.7094\n",
      "Epoch 15/50\n",
      "5/5 [==============================] - 0s 8ms/step - loss: 0.6843 - mae: 0.7044 - val_loss: 0.5971 - val_mae: 0.6462\n",
      "Epoch 16/50\n",
      "5/5 [==============================] - 0s 7ms/step - loss: 0.5348 - mae: 0.6326 - val_loss: 0.4581 - val_mae: 0.5806\n",
      "Epoch 17/50\n",
      "5/5 [==============================] - 0s 9ms/step - loss: 0.3970 - mae: 0.5558 - val_loss: 0.3390 - val_mae: 0.5107\n",
      "Epoch 18/50\n",
      "5/5 [==============================] - 0s 10ms/step - loss: 0.2810 - mae: 0.4689 - val_loss: 0.2568 - val_mae: 0.4376\n",
      "Epoch 19/50\n",
      "5/5 [==============================] - 0s 8ms/step - loss: 0.2005 - mae: 0.3924 - val_loss: 0.2171 - val_mae: 0.3880\n",
      "Epoch 20/50\n",
      "5/5 [==============================] - 0s 8ms/step - loss: 0.1642 - mae: 0.3449 - val_loss: 0.2085 - val_mae: 0.3872\n",
      "Epoch 21/50\n",
      "5/5 [==============================] - 0s 9ms/step - loss: 0.1572 - mae: 0.3362 - val_loss: 0.2045 - val_mae: 0.3886\n",
      "Epoch 22/50\n",
      "5/5 [==============================] - 0s 9ms/step - loss: 0.1493 - mae: 0.3291 - val_loss: 0.1860 - val_mae: 0.3717\n",
      "Epoch 23/50\n",
      "5/5 [==============================] - 0s 8ms/step - loss: 0.1353 - mae: 0.3151 - val_loss: 0.1645 - val_mae: 0.3487\n",
      "Epoch 24/50\n",
      "5/5 [==============================] - 0s 9ms/step - loss: 0.1210 - mae: 0.2992 - val_loss: 0.1499 - val_mae: 0.3299\n",
      "Epoch 25/50\n",
      "5/5 [==============================] - 0s 8ms/step - loss: 0.1125 - mae: 0.2892 - val_loss: 0.1411 - val_mae: 0.3167\n",
      "Epoch 26/50\n",
      "5/5 [==============================] - 0s 8ms/step - loss: 0.1081 - mae: 0.2832 - val_loss: 0.1351 - val_mae: 0.3053\n",
      "Epoch 27/50\n",
      "5/5 [==============================] - 0s 8ms/step - loss: 0.1029 - mae: 0.2753 - val_loss: 0.1296 - val_mae: 0.2981\n",
      "Epoch 28/50\n",
      "5/5 [==============================] - 0s 7ms/step - loss: 0.0980 - mae: 0.2683 - val_loss: 0.1242 - val_mae: 0.2919\n",
      "Epoch 29/50\n",
      "5/5 [==============================] - 0s 8ms/step - loss: 0.0933 - mae: 0.2614 - val_loss: 0.1198 - val_mae: 0.2852\n",
      "Epoch 30/50\n",
      "5/5 [==============================] - 0s 8ms/step - loss: 0.0892 - mae: 0.2547 - val_loss: 0.1153 - val_mae: 0.2777\n",
      "Epoch 31/50\n",
      "5/5 [==============================] - 0s 8ms/step - loss: 0.0853 - mae: 0.2482 - val_loss: 0.1115 - val_mae: 0.2708\n",
      "Epoch 32/50\n",
      "5/5 [==============================] - 0s 8ms/step - loss: 0.0820 - mae: 0.2429 - val_loss: 0.1080 - val_mae: 0.2657\n",
      "Epoch 33/50\n",
      "5/5 [==============================] - 0s 7ms/step - loss: 0.0783 - mae: 0.2367 - val_loss: 0.1049 - val_mae: 0.2590\n",
      "Epoch 34/50\n",
      "5/5 [==============================] - 0s 7ms/step - loss: 0.0752 - mae: 0.2311 - val_loss: 0.1016 - val_mae: 0.2530\n",
      "Epoch 35/50\n",
      "5/5 [==============================] - 0s 8ms/step - loss: 0.0721 - mae: 0.2253 - val_loss: 0.0991 - val_mae: 0.2477\n",
      "Epoch 36/50\n",
      "5/5 [==============================] - 0s 7ms/step - loss: 0.0693 - mae: 0.2203 - val_loss: 0.0969 - val_mae: 0.2424\n",
      "Epoch 37/50\n",
      "5/5 [==============================] - 0s 7ms/step - loss: 0.0665 - mae: 0.2148 - val_loss: 0.0947 - val_mae: 0.2384\n",
      "Epoch 38/50\n",
      "5/5 [==============================] - 0s 8ms/step - loss: 0.0644 - mae: 0.2098 - val_loss: 0.0927 - val_mae: 0.2351\n",
      "Epoch 39/50\n",
      "5/5 [==============================] - 0s 8ms/step - loss: 0.0617 - mae: 0.2047 - val_loss: 0.0914 - val_mae: 0.2308\n",
      "Epoch 40/50\n",
      "5/5 [==============================] - 0s 7ms/step - loss: 0.0598 - mae: 0.2002 - val_loss: 0.0898 - val_mae: 0.2264\n",
      "Epoch 41/50\n",
      "5/5 [==============================] - 0s 7ms/step - loss: 0.0577 - mae: 0.1955 - val_loss: 0.0885 - val_mae: 0.2210\n",
      "Epoch 42/50\n",
      "5/5 [==============================] - 0s 10ms/step - loss: 0.0560 - mae: 0.1913 - val_loss: 0.0873 - val_mae: 0.2180\n",
      "Epoch 43/50\n",
      "5/5 [==============================] - 0s 10ms/step - loss: 0.0544 - mae: 0.1878 - val_loss: 0.0860 - val_mae: 0.2154\n",
      "Epoch 44/50\n",
      "5/5 [==============================] - 0s 10ms/step - loss: 0.0529 - mae: 0.1841 - val_loss: 0.0840 - val_mae: 0.2128\n",
      "Epoch 45/50\n",
      "5/5 [==============================] - 0s 8ms/step - loss: 0.0512 - mae: 0.1804 - val_loss: 0.0827 - val_mae: 0.2095\n",
      "Epoch 46/50\n",
      "5/5 [==============================] - 0s 8ms/step - loss: 0.0497 - mae: 0.1769 - val_loss: 0.0817 - val_mae: 0.2062\n",
      "Epoch 47/50\n",
      "5/5 [==============================] - 0s 8ms/step - loss: 0.0486 - mae: 0.1742 - val_loss: 0.0806 - val_mae: 0.2045\n",
      "Epoch 48/50\n",
      "5/5 [==============================] - 0s 7ms/step - loss: 0.0473 - mae: 0.1715 - val_loss: 0.0797 - val_mae: 0.2031\n",
      "Epoch 49/50\n",
      "5/5 [==============================] - 0s 8ms/step - loss: 0.0463 - mae: 0.1697 - val_loss: 0.0783 - val_mae: 0.2020\n",
      "Epoch 50/50\n",
      "5/5 [==============================] - 0s 8ms/step - loss: 0.0448 - mae: 0.1665 - val_loss: 0.0775 - val_mae: 0.2005\n",
      "Model: \"sequential\"\n",
      "_________________________________________________________________\n",
      " Layer (type)                Output Shape              Param #   \n",
      "=================================================================\n",
      " dense (Dense)               (None, 16)                224       \n",
      "                                                                 \n",
      " dense_1 (Dense)             (None, 50)                850       \n",
      "                                                                 \n",
      " dense_2 (Dense)             (None, 10)                510       \n",
      "                                                                 \n",
      " dense_3 (Dense)             (None, 3)                 33        \n",
      "                                                                 \n",
      "=================================================================\n",
      "Total params: 1,617\n",
      "Trainable params: 1,617\n",
      "Non-trainable params: 0\n",
      "_________________________________________________________________\n"
     ]
    }
   ],
   "source": [
    "history_1 = model.fit(x_train_tf, y_train_tf,\n",
    "          batch_size=BATCH_SIZE,\n",
    "          epochs=EPOCHS,\n",
    "          validation_data=(x_test_tf, y_test_tf),\n",
    "          validation_freq=1)\n",
    "\n",
    "model.summary()"
   ],
   "metadata": {
    "collapsed": false,
    "pycharm": {
     "name": "#%%\n"
    }
   }
  },
  {
   "cell_type": "markdown",
   "source": [
    "结果可视化，输出每轮训练后均方误差、损失函数随次数变化后的曲线。"
   ],
   "metadata": {
    "collapsed": false
   }
  },
  {
   "cell_type": "code",
   "execution_count": 11,
   "outputs": [],
   "source": [
    "def plot_results(history):\n",
    "    '''\n",
    "    history: 模型训练后返回的训练结果\n",
    "    '''\n",
    "    # 显示MAE\n",
    "    plt.figure(figsize=(10, 10))\n",
    "    epoch_range = range(1, EPOCHS + 1)  # 横轴范围\n",
    "    plt.plot(epoch_range, history.history['mae'], label = 'train_mae')\n",
    "    plt.plot(epoch_range, history.history['val_mae'], label = 'val_mae')\n",
    "    plt.title(\"MAE\")\n",
    "    plt.xlabel(\"Epoch\")\n",
    "    plt.ylabel(\"mae\")\n",
    "    plt.legend(loc = 'best')\n",
    "    plt.show()\n",
    "\n",
    "    # 显示LOSS\n",
    "    plt.figure(figsize=(10, 10))\n",
    "    plt.plot(epoch_range, history.history['loss'], label = 'train_loss')\n",
    "    plt.plot(epoch_range, history.history['val_loss'], label = 'val_moss')\n",
    "    plt.title(\"LOSS\")\n",
    "    plt.xlabel(\"Epoch\")\n",
    "    plt.ylabel(\"loss\")\n",
    "    plt.legend(loc = 'best')\n",
    "    plt.show()\n"
   ],
   "metadata": {
    "collapsed": false,
    "pycharm": {
     "name": "#%%\n"
    }
   }
  },
  {
   "cell_type": "code",
   "execution_count": 12,
   "outputs": [
    {
     "data": {
      "text/plain": "<Figure size 720x720 with 1 Axes>",
      "image/png": "[encoded data removed]"
     },
     "metadata": {
      "needs_background": "light"
     },
     "output_type": "display_data"
    },
    {
     "data": {
      "text/plain": "<Figure size 720x720 with 1 Axes>",
      "image/png": "[encoded data removed]"
     },
     "metadata": {
      "needs_background": "light"
     },
     "output_type": "display_data"
    }
   ],
   "source": [
    "plot_results(history_1)"
   ],
   "metadata": {
    "collapsed": false,
    "pycharm": {
     "name": "#%%\n"
    }
   }
  },
  {
   "cell_type": "markdown",
   "source": [
    "对模型进行验证"
   ],
   "metadata": {
    "collapsed": false
   }
  },
  {
   "cell_type": "code",
   "execution_count": 13,
   "outputs": [
    {
     "name": "stdout",
     "output_type": "stream",
     "text": [
      "2/2 [==============================] - 0s 3ms/step - loss: 0.0775 - mae: 0.2005\n",
      "验证损失： 0.07751122117042542\n",
      "验证mae 0.2004910558462143\n"
     ]
    }
   ],
   "source": [
    "def model_evaluation(model):\n",
    "    eval_loss, eval_mae = model.evaluate(x_test_tf, y_test_tf, batch_size = BATCH_SIZE, verbose = 1)\n",
    "    print(\"验证损失：\", eval_loss)\n",
    "    print(\"验证mae\", eval_mae)\n",
    "\n",
    "model_evaluation(model)"
   ],
   "metadata": {
    "collapsed": false,
    "pycharm": {
     "name": "#%%\n"
    }
   }
  },
  {
   "cell_type": "markdown",
   "source": [
    "输出模型的混淆函数，准确率"
   ],
   "metadata": {
    "collapsed": false
   }
  },
  {
   "cell_type": "code",
   "execution_count": 14,
   "outputs": [
    {
     "name": "stdout",
     "output_type": "stream",
     "text": [
      "F1_Score:  0.4123533471359559\n"
     ]
    },
    {
     "data": {
      "text/plain": "<Figure size 576x576 with 2 Axes>",
      "image/png": "[encoded data removed]"
     },
     "metadata": {
      "needs_background": "light"
     },
     "output_type": "display_data"
    }
   ],
   "source": [
    "# y_pred = model.predict_classes(x_test_tf) # TF GPU中新版本已经弃用此方法，使用下面方法获取测试数据\n",
    "predict_x=model.predict(x_test_tf)\n",
    "y_pred=np.argmax(predict_x,axis=1)\n",
    "print(\"F1_Score: \", f1_score(y_test_tf, y_pred, average=\"macro\"))\n",
    "con_mat = confusion_matrix(y_test_tf, y_pred)\n",
    "con_mat_norm = con_mat.astype('float') / con_mat.sum(axis=1)[:, np.newaxis]  # 归一化\n",
    "con_mat_norm = np.around(con_mat_norm, decimals=2)\n",
    "\n",
    "# === plot ===\n",
    "plt.figure(figsize=(8, 8))\n",
    "sns.heatmap(con_mat_norm, annot=True, cmap='Blues')\n",
    "\n",
    "plt.ylim(0, 5)\n",
    "plt.xlabel('Predicted labels')\n",
    "plt.ylabel('True labels')\n",
    "plt.show()"
   ],
   "metadata": {
    "collapsed": false,
    "pycharm": {
     "name": "#%%\n"
    }
   }
  }
 ],
 "metadata": {
  "kernelspec": {
   "display_name": "Python 3",
   "language": "python",
   "name": "python3"
  },
  "language_info": {
   "codemirror_mode": {
    "name": "ipython",
    "version": 2
   },
   "file_extension": ".py",
   "mimetype": "text/x-python",
   "name": "python",
   "nbconvert_exporter": "python",
   "pygments_lexer": "ipython2",
   "version": "2.7.6"
  }
 },
 "nbformat": 4,
 "nbformat_minor": 0
}