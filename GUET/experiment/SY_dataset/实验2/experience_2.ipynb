{
 "cells": [
  {
   "cell_type": "code",
   "execution_count": 136,
   "metadata": {
    "collapsed": true,
    "pycharm": {
     "name": "#%%\n"
    }
   },
   "outputs": [],
   "source": [
    "# Import List\n",
    "from sklearn.neural_network import MLPClassifier\n",
    "from sklearn.model_selection import train_test_split\n",
    "from sklearn.preprocessing import StandardScaler, LabelBinarizer\n",
    "import numpy as np\n",
    "\n",
    "import pandas as pd\n"
   ]
  },
  {
   "cell_type": "markdown",
   "source": [
    "# 实验2\n",
    "\n",
    "## 标准BP算法\n",
    "\n",
    "首先需要对数据进行归一化处理，便于神经网络的使用。"
   ],
   "metadata": {
    "collapsed": false,
    "pycharm": {
     "name": "#%% md\n"
    }
   }
  },
  {
   "cell_type": "code",
   "execution_count": 137,
   "outputs": [],
   "source": [
    "# 读取所有数据（不包括第一行参数）\n",
    "wine_data = np.genfromtxt('wine_data.csv', delimiter=',', skip_header=1)\n",
    "\n",
    "# 读取所有特征数据，排除最后一列（列标签）\n",
    "X = wine_data[:, 0:13]\n",
    "# 标签列读取\n",
    "y = wine_data[:, 13]\n",
    "\n",
    "# 划分70%训练集，30%测试集\n",
    "x_train, x_test, y_train, y_test = train_test_split(X, y, test_size=0.3, train_size=0.7)\n",
    "# 数据标准化\n",
    "label_train = LabelBinarizer().fit_transform(y_train)"
   ],
   "metadata": {
    "collapsed": false,
    "pycharm": {
     "name": "#%%\n"
    }
   }
  },
  {
   "cell_type": "markdown",
   "source": [
    "设置神经网络参数。包括学习率、迭代次数、神经节点设置。"
   ],
   "metadata": {
    "collapsed": false,
    "pycharm": {
     "name": "#%% md\n"
    }
   }
  },
  {
   "cell_type": "code",
   "execution_count": 138,
   "outputs": [],
   "source": [
    "# 学习率\n",
    "rate = 0.11\n",
    "# 迭代次数\n",
    "step = 10000\n",
    "\n",
    "# 随机设置神经权值，13输入，3输出中间隐藏层100个神经元\n",
    "v = np.random.random((13, 100)) * 2 - 1  # 输入层->隐层\n",
    "w = np.random.random((100, 3)) * 2 - 1  # 隐层->输出层"
   ],
   "metadata": {
    "collapsed": false,
    "pycharm": {
     "name": "#%%\n"
    }
   }
  },
  {
   "cell_type": "markdown",
   "source": [
    "激活函数$sigmoid()$与其导数函数如下。"
   ],
   "metadata": {
    "collapsed": false,
    "pycharm": {
     "name": "#%% md\n"
    }
   }
  },
  {
   "cell_type": "code",
   "execution_count": 139,
   "outputs": [],
   "source": [
    "def sigmoid(x):\n",
    "    return 1 / (1 + np.exp(-x))\n",
    "\n",
    "\n",
    "def de_sigmoid(x):\n",
    "    return x * (1 - x)"
   ],
   "metadata": {
    "collapsed": false,
    "pycharm": {
     "name": "#%%\n"
    }
   }
  },
  {
   "cell_type": "markdown",
   "source": [
    "创建训练函数\n",
    "标准BP算法核心要点如下：\n",
    "```\n",
    "Algorithms 标准BP算法\n",
    "----\n",
    "    输入： 训练集 D，学习率 η.\n",
    "    过程：\n",
    "        1. 随即初始化连接权与阈值 (ω，θ).\n",
    "        2. Repeat：\n",
    "        3.   for x_k，y_k in D:\n",
    "        4.     根据当前参数计算出样本误差 E_k.\n",
    "        5.     根据公式计算出随机梯度项 g_k.\n",
    "        6.     根据公式更新 (ω，θ).\n",
    "        7.   end for\n",
    "        8. until 达到停止条件\n",
    "    输出：(ω，θ) - 即相应的多层前馈神经网络.\n",
    "----\n",
    "```"
   ],
   "metadata": {
    "collapsed": false,
    "pycharm": {
     "name": "#%% md\n"
    }
   }
  },
  {
   "cell_type": "code",
   "execution_count": 140,
   "outputs": [
    {
     "name": "stderr",
     "output_type": "stream",
     "text": [
      "/tmp/ipykernel_11623/174309813.py:2: RuntimeWarning: overflow encountered in exp\n",
      "  return 1 / (1 + np.exp(-x))\n"
     ]
    },
    {
     "name": "stdout",
     "output_type": "stream",
     "text": [
      "step: 0 acc: 0.2222222222222222\n",
      "step: 1000 acc: 0.2222222222222222\n",
      "step: 2000 acc: 0.2222222222222222\n",
      "step: 3000 acc: 0.2222222222222222\n",
      "step: 4000 acc: 0.2222222222222222\n",
      "step: 5000 acc: 0.2222222222222222\n",
      "step: 6000 acc: 0.2222222222222222\n",
      "step: 7000 acc: 0.2222222222222222\n",
      "step: 8000 acc: 0.2222222222222222\n",
      "step: 9000 acc: 0.2222222222222222\n",
      "step: 10000 acc: 0.2222222222222222\n"
     ]
    }
   ],
   "source": [
    "def standard_bp_train(train_x, train_y, train_rate, train_step):\n",
    "    # 导入神经节点\n",
    "    global v, w\n",
    "    for n in range(train_step + 1):\n",
    "        # 随机选择样本\n",
    "        i = np.random.randint(train_x.shape[0])\n",
    "        x = train_x[i]\n",
    "        x = np.atleast_2d(x)\n",
    "\n",
    "        # 节点激活\n",
    "        L1 = sigmoid(np.dot(x, v))  # 输入层->隐层\n",
    "        L2 = sigmoid(np.dot(L1, w))  # 隐层->输出层\n",
    "\n",
    "        # 误差反向反馈\n",
    "        L2_delta = (train_y[i] - L2) * de_sigmoid(L2)  # 输出层->隐层\n",
    "        L1_delta = L2_delta.dot(w.T) * de_sigmoid(L1)  # 隐层->输入层\n",
    "\n",
    "        # 权值更新\n",
    "        w = w + train_rate * L1.T.dot(L2_delta)  # 隐层->输出层\n",
    "        v = v + train_rate * x.T.dot(L1_delta)  # 输入层->隐层\n",
    "\n",
    "        # 每1000次训练对网络进行测试，输出测试准确率\n",
    "        if n % 1000 == 0:\n",
    "            output = predict(x_test)\n",
    "            predictions = np.argmax(output, axis=1)  # 选择概率最大的输出点作为结果，输出所在列编号，对应分类结果\n",
    "            acc = np.mean(np.equal(predictions, y_test))  # 对比测试样本，求准确率\n",
    "            print(\"step:\", n, \"acc:\", acc)\n",
    "\n",
    "\n",
    "def predict(x):\n",
    "    L1 = sigmoid(np.dot(x, v))\n",
    "    L2 = sigmoid(np.dot(L1, w))\n",
    "    return L2\n",
    "\n",
    "\n",
    "standard_bp_train(x_train, label_train, rate, step)"
   ],
   "metadata": {
    "collapsed": false,
    "pycharm": {
     "name": "#%%\n"
    }
   }
  },
  {
   "cell_type": "markdown",
   "source": [
    "通过运行标准BP算法可以发现，单层神经网络中神经点之间的权重在每次放入样本训练后都会发生改变，改变次数与训练次数相关，即：标准BP算法更新规则是基于每次样本而去修改。"
   ],
   "metadata": {
    "collapsed": false,
    "pycharm": {
     "name": "#%% md\n"
    }
   }
  },
  {
   "cell_type": "markdown",
   "source": [
    "## 累计BP算法\n",
    "\n",
    "累计BP算法实现步骤如下：\n",
    "```\n",
    "Algorithms 累积BP算法\n",
    "----\n",
    "    输入： 训练集 D，学习率 η，迭代次数 n.\n",
    "    过程：\n",
    "        1. 随即初始化连接权与阈值 (ω，θ).\n",
    "        2. Repeat：\n",
    "        3.     根据当前参数计算出累积误差 E.\n",
    "        4.     根据公式计算出标准梯度项 g.\n",
    "        5.     根据公式更新 (ω，θ).\n",
    "        6.     n = n-1\n",
    "        7. until n=0 or 达到停止条件\n",
    "    输出：(ω，θ) - 即相应的多层前馈神经网络.\n",
    "----\n",
    "```"
   ],
   "metadata": {
    "collapsed": false,
    "pycharm": {
     "name": "#%% md\n"
    }
   }
  },
  {
   "cell_type": "code",
   "execution_count": 141,
   "outputs": [],
   "source": [
    "# 随机设置神经权值，13输入，3输出中间隐藏层100个神经元\n",
    "v1 = np.random.random((13, 100)) * 2 - 1  # 输入层->隐层\n",
    "w1 = np.random.random((100, 3)) * 2 - 1  # 隐层->输出层\n",
    "\n",
    "def sum_bp_train(train_x, train_y, train_rate, train_step):\n",
    "    global v1, w1\n",
    "    return\n",
    "\n",
    "def acc_BP(x,y,q,N,k):\n",
    "    L=y.shape[1]\n",
    "    n=x.shape[1]\n",
    "    v=np.matrix(np.random.rand(n,q))\n",
    "    r=np.matrix(np.random.rand(1,q))\n",
    "    w=np.matrix(np.random.rand(q,L))\n",
    "    h=np.matrix(np.random.rand(1,L))\n",
    "    b=np.matrix(np.zeros((x.shape[0],q)))\n",
    "    g=np.matrix(np.zeros((x.shape[0],n)))\n",
    "    e=np.matrix(np.zeros((x.shape[0],q)))\n",
    "\n",
    "    y_hat = np.matrix(np.zeros((x.shape[0],L)))\n",
    "    iter=1\n",
    "    while iter<N:\n",
    "        for index in range(x.shape[0]):\n",
    "            A=np.dot(x[index],v)\n",
    "            b[index]=sigmoid(A-r)\n",
    "\n",
    "            B = np.dot(b[index],w)\n",
    "            y_hat[index]=sigmoid(B-h)\n",
    "\n",
    "            g[index]=np.multiply(np.multiply(y_hat[index],(1-y_hat[index])),y[index]-y_hat[index])\n",
    "            e[index]=np.multiply(np.multiply(b[index],(1-b[index])),(w*g[index].T).T)\n",
    "        #以下对各个系数进行调整\n",
    "        #对上述的一些系数调整至取均值\n",
    "        b_bar=b.mean(axis=0)\n",
    "        g_bar=g.mean(axis=0)\n",
    "        e_bar=e.mean(axis=0)\n",
    "        x_bar=x.mean(axis=0)\n",
    "\n",
    "        for i in range(n):\n",
    "            for j in range(q):\n",
    "                v[i,j]=v[i,j]+k*e_bar[0,j]*x_bar[0,i]\n",
    "        r=r-k*e_bar\n",
    "\n",
    "        for i in range(q):\n",
    "            for j in range(L):\n",
    "                w[i,j]=w[i,j]+k*g_bar[0,j]*b_bar[0,i]\n",
    "        h=h-k*g_bar\n",
    "        iter=iter+1\n",
    "    print('输入层到隐层的权值为:')\n",
    "    print(v)\n",
    "    print('隐层的阀值为：')\n",
    "    print(r)\n",
    "    print('隐层到输出层的权值为:')\n",
    "    print(w)\n",
    "    print('输出层的阀值为：')\n",
    "    print(h)\n",
    "    print('样本y的值')\n",
    "    print(y)\n",
    "    print('训练后能得到y_hat的值')\n",
    "    print(y_hat)\n"
   ],
   "metadata": {
    "collapsed": false,
    "pycharm": {
     "name": "#%%\n"
    }
   }
  },
  {
   "cell_type": "markdown",
   "source": [
    "## 构建神经网络\n",
    "\n",
    "使用TensorFlow搭建神经网络。本次使用工具Keras构建神经网络，后端使用TensorFlow训练。"
   ],
   "metadata": {
    "collapsed": false,
    "pycharm": {
     "name": "#%% md\n"
    }
   }
  },
  {
   "cell_type": "code",
   "execution_count": 142,
   "outputs": [],
   "source": [
    "# Import List\n",
    "import tensorflow as tf\n",
    "import seaborn as sns\n",
    "from sklearn.metrics import confusion_matrix, f1_score, precision_score\n",
    "from matplotlib import pyplot as plt"
   ],
   "metadata": {
    "collapsed": false,
    "pycharm": {
     "name": "#%%\n"
    }
   }
  },
  {
   "cell_type": "markdown",
   "source": [
    "导入数据，并划分训练集与测试集。\n",
    "其中，数据分割函数`train_test_split`中的`stratify`参数保证了训练集与测试集的葡萄酒品类比例与总样本中的比例相同。`shuffle`参数让数据进行分割前进行洗牌操作。"
   ],
   "metadata": {
    "collapsed": false,
    "pycharm": {
     "name": "#%% md\n"
    }
   }
  },
  {
   "cell_type": "code",
   "execution_count": 143,
   "outputs": [],
   "source": [
    "# 读取所有数据（不包括第一行参数）\n",
    "wine_data_tf = np.genfromtxt('wine_data.csv', delimiter=',', skip_header=1)\n",
    "# 读取所有特征数据，排除最后一列（列标签）\n",
    "X_tf = wine_data_tf[:, 0:13]\n",
    "# 标签列读取\n",
    "y_tf = wine_data_tf[:, 13]\n",
    "\n",
    "# 数据归一化\n",
    "scaler = StandardScaler()\n",
    "X_scaler = scaler.fit_transform(X_tf)\n",
    "\n",
    "# 划分训练集测试集\n",
    "x_train_tf, x_test_tf, y_train_tf, y_test_tf = train_test_split(X_scaler, y_tf, stratify=y, random_state=42, test_size=0.1, shuffle=True)\n",
    "# 数据标准化\n",
    "label_train_tf = LabelBinarizer().fit_transform(y_train_tf)"
   ],
   "metadata": {
    "collapsed": false,
    "pycharm": {
     "name": "#%%\n"
    }
   }
  },
  {
   "cell_type": "markdown",
   "source": [
    "创建TensorFlow神经网络，设置输入层、隐藏层和输出层的大小。Keras提供了非常直观的网络搭建方法，实验中使用`keras.Sequential()`序列化方法搭建网络。网络中按照顺序依次设置隐层网络的个数、激活函数，定义输入、输出口数量。\n",
    "这里首先搭建了$13\\times 16\\times 50\\times 10\\times3$的神经网络，隐层使用`Relu`激活函数。学习率设置为0.001，训练轮数为50，每轮训练进入的数据量为32。\n",
    "其次还需要设置网络的相应学习参数，包括了网络所用的损失函数、优化器等。"
   ],
   "metadata": {
    "collapsed": false,
    "pycharm": {
     "name": "#%% md\n"
    }
   }
  },
  {
   "cell_type": "code",
   "execution_count": 144,
   "outputs": [],
   "source": [
    "# 使用keras的层堆叠创建神经网络，包含输入层、隐层和输出层\n",
    "model_1 = tf.keras.Sequential([\n",
    "    tf.keras.layers.Dense(16, activation='relu', input_shape=[13]),\n",
    "    tf.keras.layers.Dense(50, activation='relu'),\n",
    "    tf.keras.layers.Dense(10, activation='relu'),\n",
    "    tf.keras.layers.Dense(3)\n",
    "])\n",
    "\n",
    "# 参数设置\n",
    "LEARNING_RATE = 0.001  # 学习率\n",
    "EPOCHS = 50  # 训练轮数\n",
    "BATCH_SIZE = 32  # 每轮训练进入的数据量\n",
    "\n",
    "# 通过compile调整网络学习参数\n",
    "model_1.compile(\n",
    "    # 优化器\n",
    "    optimizer=tf.keras.optimizers.Adam(learning_rate=LEARNING_RATE),\n",
    "    # 损失函数\n",
    "    loss='mse',\n",
    "    # 评估函数\n",
    "    metrics=['mae'])"
   ],
   "metadata": {
    "collapsed": false,
    "pycharm": {
     "name": "#%%\n"
    }
   }
  },
  {
   "cell_type": "markdown",
   "source": [
    "向模型输入数据进行训练"
   ],
   "metadata": {
    "collapsed": false,
    "pycharm": {
     "name": "#%% md\n"
    }
   }
  },
  {
   "cell_type": "code",
   "execution_count": 145,
   "outputs": [
    {
     "name": "stdout",
     "output_type": "stream",
     "text": [
      "Epoch 1/50\n",
      "5/5 [==============================] - 2s 114ms/step - loss: 1.5809 - mae: 1.0760 - val_loss: 1.5116 - val_mae: 1.0554\n",
      "Epoch 2/50\n",
      "5/5 [==============================] - 0s 19ms/step - loss: 1.3485 - mae: 0.9752 - val_loss: 1.2866 - val_mae: 0.9589\n",
      "Epoch 3/50\n",
      "5/5 [==============================] - 0s 19ms/step - loss: 1.1762 - mae: 0.8925 - val_loss: 1.1073 - val_mae: 0.8739\n",
      "Epoch 4/50\n",
      "5/5 [==============================] - 0s 18ms/step - loss: 1.0318 - mae: 0.8215 - val_loss: 0.9652 - val_mae: 0.8064\n",
      "Epoch 5/50\n",
      "5/5 [==============================] - 0s 20ms/step - loss: 0.9056 - mae: 0.7594 - val_loss: 0.8401 - val_mae: 0.7455\n",
      "Epoch 6/50\n",
      "5/5 [==============================] - 0s 18ms/step - loss: 0.7993 - mae: 0.7035 - val_loss: 0.7175 - val_mae: 0.6782\n",
      "Epoch 7/50\n",
      "5/5 [==============================] - 0s 18ms/step - loss: 0.6874 - mae: 0.6450 - val_loss: 0.5986 - val_mae: 0.6092\n",
      "Epoch 8/50\n",
      "5/5 [==============================] - 0s 19ms/step - loss: 0.5825 - mae: 0.5910 - val_loss: 0.4885 - val_mae: 0.5593\n",
      "Epoch 9/50\n",
      "5/5 [==============================] - 0s 18ms/step - loss: 0.4878 - mae: 0.5380 - val_loss: 0.3920 - val_mae: 0.5048\n",
      "Epoch 10/50\n",
      "5/5 [==============================] - 0s 18ms/step - loss: 0.3965 - mae: 0.4899 - val_loss: 0.3170 - val_mae: 0.4552\n",
      "Epoch 11/50\n",
      "5/5 [==============================] - 0s 18ms/step - loss: 0.3238 - mae: 0.4422 - val_loss: 0.2643 - val_mae: 0.4217\n",
      "Epoch 12/50\n",
      "5/5 [==============================] - 0s 18ms/step - loss: 0.2632 - mae: 0.3983 - val_loss: 0.2282 - val_mae: 0.3931\n",
      "Epoch 13/50\n",
      "5/5 [==============================] - 0s 19ms/step - loss: 0.2188 - mae: 0.3608 - val_loss: 0.2021 - val_mae: 0.3698\n",
      "Epoch 14/50\n",
      "5/5 [==============================] - 0s 19ms/step - loss: 0.1836 - mae: 0.3322 - val_loss: 0.1825 - val_mae: 0.3482\n",
      "Epoch 15/50\n",
      "5/5 [==============================] - 0s 18ms/step - loss: 0.1556 - mae: 0.3074 - val_loss: 0.1652 - val_mae: 0.3296\n",
      "Epoch 16/50\n",
      "5/5 [==============================] - 0s 19ms/step - loss: 0.1343 - mae: 0.2872 - val_loss: 0.1514 - val_mae: 0.3173\n",
      "Epoch 17/50\n",
      "5/5 [==============================] - 0s 19ms/step - loss: 0.1157 - mae: 0.2669 - val_loss: 0.1394 - val_mae: 0.3048\n",
      "Epoch 18/50\n",
      "5/5 [==============================] - 0s 19ms/step - loss: 0.1026 - mae: 0.2505 - val_loss: 0.1302 - val_mae: 0.2926\n",
      "Epoch 19/50\n",
      "5/5 [==============================] - 0s 19ms/step - loss: 0.0923 - mae: 0.2374 - val_loss: 0.1217 - val_mae: 0.2809\n",
      "Epoch 20/50\n",
      "5/5 [==============================] - 0s 19ms/step - loss: 0.0838 - mae: 0.2260 - val_loss: 0.1142 - val_mae: 0.2702\n",
      "Epoch 21/50\n",
      "5/5 [==============================] - 0s 19ms/step - loss: 0.0764 - mae: 0.2145 - val_loss: 0.1083 - val_mae: 0.2609\n",
      "Epoch 22/50\n",
      "5/5 [==============================] - 0s 20ms/step - loss: 0.0706 - mae: 0.2058 - val_loss: 0.1044 - val_mae: 0.2539\n",
      "Epoch 23/50\n",
      "5/5 [==============================] - 0s 19ms/step - loss: 0.0652 - mae: 0.1967 - val_loss: 0.0998 - val_mae: 0.2471\n",
      "Epoch 24/50\n",
      "5/5 [==============================] - 0s 20ms/step - loss: 0.0607 - mae: 0.1895 - val_loss: 0.0956 - val_mae: 0.2403\n",
      "Epoch 25/50\n",
      "5/5 [==============================] - 0s 19ms/step - loss: 0.0567 - mae: 0.1826 - val_loss: 0.0923 - val_mae: 0.2352\n",
      "Epoch 26/50\n",
      "5/5 [==============================] - 0s 23ms/step - loss: 0.0534 - mae: 0.1769 - val_loss: 0.0885 - val_mae: 0.2295\n",
      "Epoch 27/50\n",
      "5/5 [==============================] - 0s 20ms/step - loss: 0.0503 - mae: 0.1713 - val_loss: 0.0862 - val_mae: 0.2266\n",
      "Epoch 28/50\n",
      "5/5 [==============================] - 0s 22ms/step - loss: 0.0479 - mae: 0.1670 - val_loss: 0.0831 - val_mae: 0.2218\n",
      "Epoch 29/50\n",
      "5/5 [==============================] - 0s 19ms/step - loss: 0.0452 - mae: 0.1621 - val_loss: 0.0803 - val_mae: 0.2176\n",
      "Epoch 30/50\n",
      "5/5 [==============================] - 0s 20ms/step - loss: 0.0434 - mae: 0.1580 - val_loss: 0.0774 - val_mae: 0.2123\n",
      "Epoch 31/50\n",
      "5/5 [==============================] - 0s 19ms/step - loss: 0.0413 - mae: 0.1541 - val_loss: 0.0759 - val_mae: 0.2092\n",
      "Epoch 32/50\n",
      "5/5 [==============================] - 0s 20ms/step - loss: 0.0393 - mae: 0.1501 - val_loss: 0.0739 - val_mae: 0.2067\n",
      "Epoch 33/50\n",
      "5/5 [==============================] - 0s 19ms/step - loss: 0.0377 - mae: 0.1468 - val_loss: 0.0722 - val_mae: 0.2041\n",
      "Epoch 34/50\n",
      "5/5 [==============================] - 0s 18ms/step - loss: 0.0361 - mae: 0.1436 - val_loss: 0.0706 - val_mae: 0.2013\n",
      "Epoch 35/50\n",
      "5/5 [==============================] - 0s 19ms/step - loss: 0.0349 - mae: 0.1406 - val_loss: 0.0681 - val_mae: 0.1970\n",
      "Epoch 36/50\n",
      "5/5 [==============================] - 0s 18ms/step - loss: 0.0333 - mae: 0.1370 - val_loss: 0.0669 - val_mae: 0.1951\n",
      "Epoch 37/50\n",
      "5/5 [==============================] - 0s 19ms/step - loss: 0.0320 - mae: 0.1344 - val_loss: 0.0666 - val_mae: 0.1945\n",
      "Epoch 38/50\n",
      "5/5 [==============================] - 0s 19ms/step - loss: 0.0312 - mae: 0.1323 - val_loss: 0.0661 - val_mae: 0.1933\n",
      "Epoch 39/50\n",
      "5/5 [==============================] - 0s 19ms/step - loss: 0.0299 - mae: 0.1295 - val_loss: 0.0636 - val_mae: 0.1895\n",
      "Epoch 40/50\n",
      "5/5 [==============================] - 0s 18ms/step - loss: 0.0288 - mae: 0.1271 - val_loss: 0.0625 - val_mae: 0.1872\n",
      "Epoch 41/50\n",
      "5/5 [==============================] - 0s 20ms/step - loss: 0.0280 - mae: 0.1252 - val_loss: 0.0615 - val_mae: 0.1854\n",
      "Epoch 42/50\n",
      "5/5 [==============================] - 0s 20ms/step - loss: 0.0271 - mae: 0.1230 - val_loss: 0.0605 - val_mae: 0.1830\n",
      "Epoch 43/50\n",
      "5/5 [==============================] - 0s 18ms/step - loss: 0.0263 - mae: 0.1209 - val_loss: 0.0596 - val_mae: 0.1814\n",
      "Epoch 44/50\n",
      "5/5 [==============================] - 0s 19ms/step - loss: 0.0256 - mae: 0.1189 - val_loss: 0.0582 - val_mae: 0.1787\n",
      "Epoch 45/50\n",
      "5/5 [==============================] - 0s 18ms/step - loss: 0.0248 - mae: 0.1169 - val_loss: 0.0578 - val_mae: 0.1781\n",
      "Epoch 46/50\n",
      "5/5 [==============================] - 0s 19ms/step - loss: 0.0242 - mae: 0.1151 - val_loss: 0.0582 - val_mae: 0.1790\n",
      "Epoch 47/50\n",
      "5/5 [==============================] - 0s 19ms/step - loss: 0.0235 - mae: 0.1139 - val_loss: 0.0581 - val_mae: 0.1790\n",
      "Epoch 48/50\n",
      "5/5 [==============================] - 0s 20ms/step - loss: 0.0229 - mae: 0.1121 - val_loss: 0.0575 - val_mae: 0.1780\n",
      "Epoch 49/50\n",
      "5/5 [==============================] - 0s 19ms/step - loss: 0.0223 - mae: 0.1106 - val_loss: 0.0562 - val_mae: 0.1760\n",
      "Epoch 50/50\n",
      "5/5 [==============================] - 0s 19ms/step - loss: 0.0217 - mae: 0.1089 - val_loss: 0.0552 - val_mae: 0.1739\n",
      "Model: \"sequential_12\"\n",
      "_________________________________________________________________\n",
      " Layer (type)                Output Shape              Param #   \n",
      "=================================================================\n",
      " dense_48 (Dense)            (None, 16)                224       \n",
      "                                                                 \n",
      " dense_49 (Dense)            (None, 50)                850       \n",
      "                                                                 \n",
      " dense_50 (Dense)            (None, 10)                510       \n",
      "                                                                 \n",
      " dense_51 (Dense)            (None, 3)                 33        \n",
      "                                                                 \n",
      "=================================================================\n",
      "Total params: 1,617\n",
      "Trainable params: 1,617\n",
      "Non-trainable params: 0\n",
      "_________________________________________________________________\n"
     ]
    }
   ],
   "source": [
    "history_1 = model_1.fit(x_train_tf, y_train_tf,\n",
    "                        batch_size=BATCH_SIZE,\n",
    "                        epochs=EPOCHS,\n",
    "                        validation_data=(x_test_tf, y_test_tf),\n",
    "                        validation_freq=1)\n",
    "\n",
    "model_1.summary()"
   ],
   "metadata": {
    "collapsed": false,
    "pycharm": {
     "name": "#%%\n"
    }
   }
  },
  {
   "cell_type": "markdown",
   "source": [
    "结果可视化，输出每轮训练后均方误差、损失函数随次数变化后的曲线。"
   ],
   "metadata": {
    "collapsed": false,
    "pycharm": {
     "name": "#%% md\n"
    }
   }
  },
  {
   "cell_type": "code",
   "execution_count": 146,
   "outputs": [],
   "source": [
    "def plot_results(history):\n",
    "    '''\n",
    "    history: 模型训练后返回的训练结果\n",
    "    '''\n",
    "    # 显示MAE\n",
    "    plt.figure(figsize=(10, 10))\n",
    "    epoch_range = range(1, EPOCHS + 1)  # 横轴范围\n",
    "    plt.plot(epoch_range, history.history['mae'], label = 'train_mae')\n",
    "    plt.plot(epoch_range, history.history['val_mae'], label = 'val_mae')\n",
    "    plt.title(\"MAE\")\n",
    "    plt.xlabel(\"Epoch\")\n",
    "    plt.ylabel(\"mae\")\n",
    "    plt.legend(loc = 'best')\n",
    "    plt.show()\n",
    "\n",
    "    # 显示LOSS\n",
    "    plt.figure(figsize=(10, 10))\n",
    "    plt.plot(epoch_range, history.history['loss'], label = 'train_loss')\n",
    "    plt.plot(epoch_range, history.history['val_loss'], label = 'val_moss')\n",
    "    plt.title(\"LOSS\")\n",
    "    plt.xlabel(\"Epoch\")\n",
    "    plt.ylabel(\"loss\")\n",
    "    plt.legend(loc = 'best')\n",
    "    plt.show()\n"
   ],
   "metadata": {
    "collapsed": false,
    "pycharm": {
     "name": "#%%\n"
    }
   }
  },
  {
   "cell_type": "code",
   "execution_count": 147,
   "outputs": [
    {
     "data": {
      "text/plain": "<Figure size 720x720 with 1 Axes>",
      "image/png": "[encoded data removed]"
     },
     "metadata": {},
     "output_type": "display_data"
    },
    {
     "data": {
      "text/plain": "<Figure size 720x720 with 1 Axes>",
      "image/png": "[encoded data removed]"
     },
     "metadata": {},
     "output_type": "display_data"
    }
   ],
   "source": [
    "plot_results(history_1)"
   ],
   "metadata": {
    "collapsed": false,
    "pycharm": {
     "name": "#%%\n"
    }
   }
  },
  {
   "cell_type": "markdown",
   "source": [
    "使用测试数据对模型进行验证。"
   ],
   "metadata": {
    "collapsed": false,
    "pycharm": {
     "name": "#%% md\n"
    }
   }
  },
  {
   "cell_type": "code",
   "execution_count": 148,
   "outputs": [
    {
     "name": "stdout",
     "output_type": "stream",
     "text": [
      "1/1 [==============================] - 0s 53ms/step - loss: 0.0552 - mae: 0.1739\n",
      "验证损失： 0.05521231144666672\n",
      "验证mae 0.17388075590133667\n"
     ]
    }
   ],
   "source": [
    "def model_evaluation(model):\n",
    "    eval_loss, eval_mae = model.evaluate(x_test_tf, y_test_tf, batch_size = BATCH_SIZE, verbose = 1)\n",
    "    print(\"验证损失：\", eval_loss)\n",
    "    print(\"验证mae\", eval_mae)\n",
    "\n",
    "model_evaluation(model_1)"
   ],
   "metadata": {
    "collapsed": false,
    "pycharm": {
     "name": "#%%\n"
    }
   }
  },
  {
   "cell_type": "markdown",
   "source": [
    "输出模型的混淆函数，准确率。"
   ],
   "metadata": {
    "collapsed": false,
    "pycharm": {
     "name": "#%% md\n"
    }
   }
  },
  {
   "cell_type": "code",
   "execution_count": 149,
   "outputs": [
    {
     "name": "stdout",
     "output_type": "stream",
     "text": [
      "F1_Score:  0.4366744366744366\n"
     ]
    },
    {
     "data": {
      "text/plain": "<Figure size 576x576 with 2 Axes>",
      "image/png": "[encoded data removed]"
     },
     "metadata": {},
     "output_type": "display_data"
    }
   ],
   "source": [
    "# y_pred = model.predict_classes(x_test_tf) # TF中新版本已经弃用此方法，使用下面方法获取测试数据\n",
    "predict_x=model_1.predict(x_test_tf)\n",
    "y_pred=np.argmax(predict_x,axis=1)\n",
    "print(\"F1_Score: \", f1_score(y_test_tf, y_pred, average=\"macro\"))\n",
    "con_mat = confusion_matrix(y_test_tf, y_pred)\n",
    "con_mat_norm = con_mat.astype('float') / con_mat.sum(axis=1)[:, np.newaxis]  # 归一化\n",
    "con_mat_norm = np.around(con_mat_norm, decimals=2)\n",
    "\n",
    "# 绘制混淆矩阵\n",
    "plt.figure(figsize=(8, 8))\n",
    "sns.heatmap(con_mat_norm, annot=True, cmap='Blues')\n",
    "\n",
    "plt.ylim(0, 5)\n",
    "plt.xlabel('Predicted labels')\n",
    "plt.ylabel('True labels')\n",
    "plt.show()"
   ],
   "metadata": {
    "collapsed": false,
    "pycharm": {
     "name": "#%%\n"
    }
   }
  },
  {
   "cell_type": "markdown",
   "source": [
    "改变隐藏层网络，这里创建规格为$13\\times 32\\times 100\\times 64\\times3$的神经网络，保持其他条件不变，训练并测试该神经网络。"
   ],
   "metadata": {
    "collapsed": false,
    "pycharm": {
     "name": "#%% md\n"
    }
   }
  },
  {
   "cell_type": "code",
   "execution_count": 150,
   "outputs": [
    {
     "name": "stdout",
     "output_type": "stream",
     "text": [
      "Epoch 1/50\n",
      "5/5 [==============================] - 1s 94ms/step - loss: 1.6528 - mae: 1.0451 - val_loss: 1.4779 - val_mae: 0.9616\n",
      "Epoch 2/50\n",
      "5/5 [==============================] - 0s 19ms/step - loss: 1.4186 - mae: 0.9426 - val_loss: 1.3009 - val_mae: 0.8905\n",
      "Epoch 3/50\n",
      "5/5 [==============================] - 0s 24ms/step - loss: 1.2566 - mae: 0.8744 - val_loss: 1.1671 - val_mae: 0.8263\n",
      "Epoch 4/50\n",
      "5/5 [==============================] - 0s 20ms/step - loss: 1.1350 - mae: 0.8204 - val_loss: 1.0484 - val_mae: 0.7697\n",
      "Epoch 5/50\n",
      "5/5 [==============================] - 0s 20ms/step - loss: 1.0150 - mae: 0.7667 - val_loss: 0.9349 - val_mae: 0.7134\n",
      "Epoch 6/50\n",
      "5/5 [==============================] - 0s 22ms/step - loss: 0.8966 - mae: 0.7068 - val_loss: 0.8257 - val_mae: 0.6610\n",
      "Epoch 7/50\n",
      "5/5 [==============================] - 0s 19ms/step - loss: 0.7662 - mae: 0.6410 - val_loss: 0.7110 - val_mae: 0.6048\n",
      "Epoch 8/50\n",
      "5/5 [==============================] - 0s 18ms/step - loss: 0.6420 - mae: 0.5721 - val_loss: 0.5814 - val_mae: 0.5406\n",
      "Epoch 9/50\n",
      "5/5 [==============================] - 0s 18ms/step - loss: 0.5130 - mae: 0.5009 - val_loss: 0.4594 - val_mae: 0.4746\n",
      "Epoch 10/50\n",
      "5/5 [==============================] - 0s 19ms/step - loss: 0.3931 - mae: 0.4346 - val_loss: 0.3465 - val_mae: 0.4146\n",
      "Epoch 11/50\n",
      "5/5 [==============================] - 0s 19ms/step - loss: 0.2777 - mae: 0.3761 - val_loss: 0.2499 - val_mae: 0.3727\n",
      "Epoch 12/50\n",
      "5/5 [==============================] - 0s 19ms/step - loss: 0.1936 - mae: 0.3276 - val_loss: 0.1750 - val_mae: 0.3255\n",
      "Epoch 13/50\n",
      "5/5 [==============================] - 0s 22ms/step - loss: 0.1334 - mae: 0.2824 - val_loss: 0.1266 - val_mae: 0.2789\n",
      "Epoch 14/50\n",
      "5/5 [==============================] - 0s 20ms/step - loss: 0.1046 - mae: 0.2503 - val_loss: 0.1041 - val_mae: 0.2442\n",
      "Epoch 15/50\n",
      "5/5 [==============================] - 0s 19ms/step - loss: 0.0882 - mae: 0.2281 - val_loss: 0.0923 - val_mae: 0.2258\n",
      "Epoch 16/50\n",
      "5/5 [==============================] - 0s 19ms/step - loss: 0.0770 - mae: 0.2142 - val_loss: 0.0861 - val_mae: 0.2198\n",
      "Epoch 17/50\n",
      "5/5 [==============================] - 0s 19ms/step - loss: 0.0678 - mae: 0.1995 - val_loss: 0.0805 - val_mae: 0.2133\n",
      "Epoch 18/50\n",
      "5/5 [==============================] - 0s 19ms/step - loss: 0.0612 - mae: 0.1891 - val_loss: 0.0756 - val_mae: 0.2058\n",
      "Epoch 19/50\n",
      "5/5 [==============================] - 0s 19ms/step - loss: 0.0562 - mae: 0.1812 - val_loss: 0.0719 - val_mae: 0.2015\n",
      "Epoch 20/50\n",
      "5/5 [==============================] - 0s 18ms/step - loss: 0.0521 - mae: 0.1751 - val_loss: 0.0688 - val_mae: 0.1975\n",
      "Epoch 21/50\n",
      "5/5 [==============================] - 0s 18ms/step - loss: 0.0487 - mae: 0.1689 - val_loss: 0.0659 - val_mae: 0.1928\n",
      "Epoch 22/50\n",
      "5/5 [==============================] - 0s 20ms/step - loss: 0.0459 - mae: 0.1628 - val_loss: 0.0629 - val_mae: 0.1888\n",
      "Epoch 23/50\n",
      "5/5 [==============================] - 0s 19ms/step - loss: 0.0430 - mae: 0.1566 - val_loss: 0.0609 - val_mae: 0.1869\n",
      "Epoch 24/50\n",
      "5/5 [==============================] - 0s 18ms/step - loss: 0.0403 - mae: 0.1511 - val_loss: 0.0607 - val_mae: 0.1857\n",
      "Epoch 25/50\n",
      "5/5 [==============================] - 0s 18ms/step - loss: 0.0383 - mae: 0.1467 - val_loss: 0.0598 - val_mae: 0.1836\n",
      "Epoch 26/50\n",
      "5/5 [==============================] - 0s 19ms/step - loss: 0.0363 - mae: 0.1424 - val_loss: 0.0577 - val_mae: 0.1798\n",
      "Epoch 27/50\n",
      "5/5 [==============================] - 0s 20ms/step - loss: 0.0346 - mae: 0.1388 - val_loss: 0.0557 - val_mae: 0.1761\n",
      "Epoch 28/50\n",
      "5/5 [==============================] - 0s 18ms/step - loss: 0.0327 - mae: 0.1347 - val_loss: 0.0555 - val_mae: 0.1747\n",
      "Epoch 29/50\n",
      "5/5 [==============================] - 0s 18ms/step - loss: 0.0314 - mae: 0.1320 - val_loss: 0.0560 - val_mae: 0.1745\n",
      "Epoch 30/50\n",
      "5/5 [==============================] - 0s 18ms/step - loss: 0.0298 - mae: 0.1285 - val_loss: 0.0546 - val_mae: 0.1723\n",
      "Epoch 31/50\n",
      "5/5 [==============================] - 0s 18ms/step - loss: 0.0285 - mae: 0.1251 - val_loss: 0.0538 - val_mae: 0.1705\n",
      "Epoch 32/50\n",
      "5/5 [==============================] - 0s 18ms/step - loss: 0.0271 - mae: 0.1217 - val_loss: 0.0535 - val_mae: 0.1695\n",
      "Epoch 33/50\n",
      "5/5 [==============================] - 0s 18ms/step - loss: 0.0261 - mae: 0.1194 - val_loss: 0.0548 - val_mae: 0.1708\n",
      "Epoch 34/50\n",
      "5/5 [==============================] - 0s 18ms/step - loss: 0.0250 - mae: 0.1168 - val_loss: 0.0547 - val_mae: 0.1700\n",
      "Epoch 35/50\n",
      "5/5 [==============================] - 0s 18ms/step - loss: 0.0240 - mae: 0.1141 - val_loss: 0.0530 - val_mae: 0.1660\n",
      "Epoch 36/50\n",
      "5/5 [==============================] - 0s 20ms/step - loss: 0.0232 - mae: 0.1118 - val_loss: 0.0531 - val_mae: 0.1662\n",
      "Epoch 37/50\n",
      "5/5 [==============================] - 0s 19ms/step - loss: 0.0223 - mae: 0.1095 - val_loss: 0.0537 - val_mae: 0.1671\n",
      "Epoch 38/50\n",
      "5/5 [==============================] - 0s 22ms/step - loss: 0.0215 - mae: 0.1070 - val_loss: 0.0532 - val_mae: 0.1658\n",
      "Epoch 39/50\n",
      "5/5 [==============================] - 0s 19ms/step - loss: 0.0208 - mae: 0.1052 - val_loss: 0.0527 - val_mae: 0.1647\n",
      "Epoch 40/50\n",
      "5/5 [==============================] - 0s 19ms/step - loss: 0.0201 - mae: 0.1036 - val_loss: 0.0536 - val_mae: 0.1659\n",
      "Epoch 41/50\n",
      "5/5 [==============================] - 0s 19ms/step - loss: 0.0195 - mae: 0.1019 - val_loss: 0.0533 - val_mae: 0.1651\n",
      "Epoch 42/50\n",
      "5/5 [==============================] - 0s 18ms/step - loss: 0.0188 - mae: 0.1001 - val_loss: 0.0527 - val_mae: 0.1640\n",
      "Epoch 43/50\n",
      "5/5 [==============================] - 0s 19ms/step - loss: 0.0182 - mae: 0.0984 - val_loss: 0.0528 - val_mae: 0.1641\n",
      "Epoch 44/50\n",
      "5/5 [==============================] - 0s 19ms/step - loss: 0.0177 - mae: 0.0970 - val_loss: 0.0524 - val_mae: 0.1633\n",
      "Epoch 45/50\n",
      "5/5 [==============================] - 0s 22ms/step - loss: 0.0172 - mae: 0.0956 - val_loss: 0.0520 - val_mae: 0.1624\n",
      "Epoch 46/50\n",
      "5/5 [==============================] - 0s 19ms/step - loss: 0.0167 - mae: 0.0940 - val_loss: 0.0528 - val_mae: 0.1635\n",
      "Epoch 47/50\n",
      "5/5 [==============================] - 0s 19ms/step - loss: 0.0162 - mae: 0.0925 - val_loss: 0.0529 - val_mae: 0.1635\n",
      "Epoch 48/50\n",
      "5/5 [==============================] - 0s 22ms/step - loss: 0.0158 - mae: 0.0916 - val_loss: 0.0519 - val_mae: 0.1623\n",
      "Epoch 49/50\n",
      "5/5 [==============================] - 0s 19ms/step - loss: 0.0153 - mae: 0.0902 - val_loss: 0.0529 - val_mae: 0.1634\n",
      "Epoch 50/50\n",
      "5/5 [==============================] - 0s 18ms/step - loss: 0.0150 - mae: 0.0891 - val_loss: 0.0533 - val_mae: 0.1635\n",
      "Model: \"sequential_13\"\n",
      "_________________________________________________________________\n",
      " Layer (type)                Output Shape              Param #   \n",
      "=================================================================\n",
      " dense_52 (Dense)            (None, 32)                448       \n",
      "                                                                 \n",
      " dense_53 (Dense)            (None, 50)                1650      \n",
      "                                                                 \n",
      " dense_54 (Dense)            (None, 32)                1632      \n",
      "                                                                 \n",
      " dense_55 (Dense)            (None, 3)                 99        \n",
      "                                                                 \n",
      "=================================================================\n",
      "Total params: 3,829\n",
      "Trainable params: 3,829\n",
      "Non-trainable params: 0\n",
      "_________________________________________________________________\n"
     ]
    }
   ],
   "source": [
    "model_2 = tf.keras.Sequential([\n",
    "    tf.keras.layers.Dense(32, activation='relu', input_shape=[13]),\n",
    "    tf.keras.layers.Dense(50, activation='relu'),\n",
    "    tf.keras.layers.Dense(32, activation='relu'),\n",
    "    tf.keras.layers.Dense(3)\n",
    "])\n",
    "\n",
    "model_2.compile(\n",
    "    # 优化器\n",
    "    optimizer=tf.keras.optimizers.Adam(learning_rate=LEARNING_RATE),\n",
    "    # 损失函数\n",
    "    loss='mse',\n",
    "    # 评估函数\n",
    "    metrics=['mae'])\n",
    "\n",
    "history_2 = model_2.fit(x_train_tf, y_train_tf,\n",
    "                        batch_size=BATCH_SIZE,\n",
    "                        epochs=EPOCHS,\n",
    "                        validation_data=(x_test_tf, y_test_tf),\n",
    "                        validation_freq=1)\n",
    "\n",
    "model_2.summary()"
   ],
   "metadata": {
    "collapsed": false,
    "pycharm": {
     "name": "#%%\n"
    }
   }
  },
  {
   "cell_type": "markdown",
   "source": [
    "新模型结果可视化，输出每轮训练后均方误差、损失函数随次数变化后的曲线。"
   ],
   "metadata": {
    "collapsed": false,
    "pycharm": {
     "name": "#%% md\n"
    }
   }
  },
  {
   "cell_type": "code",
   "execution_count": 151,
   "outputs": [
    {
     "data": {
      "text/plain": "<Figure size 720x720 with 1 Axes>",
      "image/png": "[encoded data removed]"
     },
     "metadata": {},
     "output_type": "display_data"
    },
    {
     "data": {
      "text/plain": "<Figure size 720x720 with 1 Axes>",
      "image/png": "[encoded data removed]"
     },
     "metadata": {},
     "output_type": "display_data"
    }
   ],
   "source": [
    "plot_results(history_2)"
   ],
   "metadata": {
    "collapsed": false,
    "pycharm": {
     "name": "#%%\n"
    }
   }
  },
  {
   "cell_type": "markdown",
   "source": [
    "输出新模型混淆矩阵"
   ],
   "metadata": {
    "collapsed": false,
    "pycharm": {
     "name": "#%% md\n"
    }
   }
  },
  {
   "cell_type": "code",
   "execution_count": 152,
   "outputs": [
    {
     "name": "stdout",
     "output_type": "stream",
     "text": [
      "1/1 [==============================] - 0s 50ms/step - loss: 0.0552 - mae: 0.1739\n",
      "验证损失： 0.05521231144666672\n",
      "验证mae 0.17388075590133667\n",
      "F1_Score:  0.4329004329004329\n"
     ]
    },
    {
     "data": {
      "text/plain": "<Figure size 576x576 with 2 Axes>",
      "image/png": "[encoded data removed]"
     },
     "metadata": {},
     "output_type": "display_data"
    }
   ],
   "source": [
    "model_evaluation(model_1)\n",
    "\n",
    "predict_x_2=model_2.predict(x_test_tf)\n",
    "y_pred_2=np.argmax(predict_x_2,axis=1)\n",
    "print(\"F1_Score: \", f1_score(y_test_tf, y_pred_2, average=\"macro\"))\n",
    "con_mat = confusion_matrix(y_test_tf, y_pred_2)\n",
    "con_mat_norm = con_mat.astype('float') / con_mat.sum(axis=1)[:, np.newaxis]  # 归一化\n",
    "con_mat_norm = np.around(con_mat_norm, decimals=2)\n",
    "\n",
    "# 绘制混淆矩阵\n",
    "plt.figure(figsize=(8, 8))\n",
    "sns.heatmap(con_mat_norm, annot=True, cmap='Blues')\n",
    "\n",
    "plt.ylim(0, 5)\n",
    "plt.xlabel('Predicted labels')\n",
    "plt.ylabel('True labels')\n",
    "plt.show()"
   ],
   "metadata": {
    "collapsed": false,
    "pycharm": {
     "name": "#%%\n"
    }
   }
  }
 ],
 "metadata": {
  "kernelspec": {
   "display_name": "Python 3",
   "language": "python",
   "name": "python3"
  },
  "language_info": {
   "codemirror_mode": {
    "name": "ipython",
    "version": 2
   },
   "file_extension": ".py",
   "mimetype": "text/x-python",
   "name": "python",
   "nbconvert_exporter": "python",
   "pygments_lexer": "ipython2",
   "version": "2.7.6"
  }
 },
 "nbformat": 4,
 "nbformat_minor": 0
}