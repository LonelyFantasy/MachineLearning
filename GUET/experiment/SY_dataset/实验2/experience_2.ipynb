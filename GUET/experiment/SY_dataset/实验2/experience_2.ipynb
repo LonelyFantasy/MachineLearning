{
 "cells": [
  {
   "cell_type": "code",
   "execution_count": 183,
   "metadata": {
    "collapsed": true
   },
   "outputs": [],
   "source": [
    "# Import List\n",
    "from sklearn.neural_network import MLPClassifier\n",
    "from sklearn.model_selection import train_test_split\n",
    "from sklearn.preprocessing import StandardScaler, LabelBinarizer\n",
    "import numpy as np\n",
    "\n",
    "import pandas as pd\n"
   ]
  },
  {
   "cell_type": "markdown",
   "source": [
    "# 实验2\n",
    "\n",
    "## 标准BP算法\n",
    "\n",
    "首先需要对数据进行归一化处理，便于神经网络的使用。"
   ],
   "metadata": {
    "collapsed": false
   }
  },
  {
   "cell_type": "code",
   "execution_count": 184,
   "outputs": [],
   "source": [
    "# 读取所有数据（不包括第一行参数）\n",
    "wine_data = np.genfromtxt('wine_data.csv', delimiter=',', skip_header=1)\n",
    "\n",
    "# 读取所有特征数据，排除最后一列（列标签）\n",
    "X = wine_data[:, 0:13]\n",
    "# 标签列读取\n",
    "y = wine_data[:, 13]\n",
    "\n",
    "# 划分70%训练集，30%测试集\n",
    "x_train, x_test, y_train, y_test = train_test_split(X, y, test_size=0.3, train_size=0.7)\n",
    "# 数据标准化\n",
    "label_train = LabelBinarizer().fit_transform(y_train)"
   ],
   "metadata": {
    "collapsed": false,
    "pycharm": {
     "name": "#%%\n"
    }
   }
  },
  {
   "cell_type": "markdown",
   "source": [
    "设置神经网络参数。包括学习率、迭代次数、神经节点设置。"
   ],
   "metadata": {
    "collapsed": false
   }
  },
  {
   "cell_type": "code",
   "execution_count": 185,
   "outputs": [],
   "source": [
    "# 学习率\n",
    "rate = 0.11\n",
    "# 迭代次数\n",
    "step = 10000\n",
    "\n",
    "# 随机设置神经权值，13输入，3输出中间隐藏层100个神经元\n",
    "v = np.random.random((13, 100)) * 2 - 1  # 输入层->隐层\n",
    "w = np.random.random((100, 3)) * 2 - 1  # 隐层->输出层"
   ],
   "metadata": {
    "collapsed": false,
    "pycharm": {
     "name": "#%%\n"
    }
   }
  },
  {
   "cell_type": "markdown",
   "source": [
    "激活函数$sigmoid()$与其导数函数如下。"
   ],
   "metadata": {
    "collapsed": false
   }
  },
  {
   "cell_type": "code",
   "execution_count": 186,
   "outputs": [],
   "source": [
    "def sigmoid(x):\n",
    "    return 1 / (1 + np.exp(-x))\n",
    "\n",
    "\n",
    "def de_sigmoid(x):\n",
    "    return x * (1 - x)"
   ],
   "metadata": {
    "collapsed": false,
    "pycharm": {
     "name": "#%%\n"
    }
   }
  },
  {
   "cell_type": "markdown",
   "source": [
    "创建训练函数\n",
    "标准BP算法核心要点如下：\n",
    "\n",
    "1. 随机初始化节点的权值。\n",
    "2. 按照激活函数公式计算出样本误差。\n",
    "3. 根据样本误差反推出权值梯度项。\n",
    "4. 更新节点权值。\n",
    "\n",
    "反复执行上述过程，直到达到设定的训练次数。"
   ],
   "metadata": {
    "collapsed": false
   }
  },
  {
   "cell_type": "code",
   "execution_count": 187,
   "outputs": [
    {
     "name": "stderr",
     "output_type": "stream",
     "text": [
      "/home/orekimai/anaconda3/envs/MachineLearning/lib/python3.7/site-packages/ipykernel_launcher.py:2: RuntimeWarning: overflow encountered in exp\n",
      "  \n"
     ]
    },
    {
     "name": "stdout",
     "output_type": "stream",
     "text": [
      "step: 0 acc: 0.35185185185185186\n",
      "step: 1000 acc: 0.3888888888888889\n",
      "step: 2000 acc: 0.25925925925925924\n",
      "step: 3000 acc: 0.3888888888888889\n",
      "step: 4000 acc: 0.25925925925925924\n",
      "step: 5000 acc: 0.25925925925925924\n",
      "step: 6000 acc: 0.3888888888888889\n",
      "step: 7000 acc: 0.3888888888888889\n",
      "step: 8000 acc: 0.25925925925925924\n",
      "step: 9000 acc: 0.25925925925925924\n",
      "step: 10000 acc: 0.35185185185185186\n"
     ]
    }
   ],
   "source": [
    "def standard_bp_train(train_x, train_y, train_rate, train_step):\n",
    "    # 导入神经节点\n",
    "    global v, w\n",
    "    for n in range(train_step + 1):\n",
    "        # 随机选择样本\n",
    "        i = np.random.randint(train_x.shape[0])\n",
    "        x = train_x[i]\n",
    "        x = np.atleast_2d(x)\n",
    "\n",
    "        # 节点激活\n",
    "        L1 = sigmoid(np.dot(x, v))  # 输入层->隐层\n",
    "        L2 = sigmoid(np.dot(L1, w))  # 隐层->输出层\n",
    "\n",
    "        # 误差反向反馈\n",
    "        L2_delta = (train_y[i] - L2) * de_sigmoid(L2)  # 输出层->隐层\n",
    "        L1_delta = L2_delta.dot(w.T) * de_sigmoid(L1)  # 隐层->输入层\n",
    "\n",
    "        # 权值更新\n",
    "        w = w + train_rate * L1.T.dot(L2_delta)  # 隐层->输出层\n",
    "        v = v + train_rate * x.T.dot(L1_delta)  # 输入层->隐层\n",
    "\n",
    "        # 每1000次训练对网络进行测试，输出测试准确率\n",
    "        if n % 1000 == 0:\n",
    "            output = predict(x_test)\n",
    "            predictions = np.argmax(output, axis=1)  # 选择概率最大的输出点作为结果，输出所在列编号，对应分类结果\n",
    "            acc = np.mean(np.equal(predictions, y_test))  # 对比测试样本，求准确率\n",
    "            print(\"step:\", n, \"acc:\", acc)\n",
    "\n",
    "\n",
    "def predict(x):\n",
    "    L1 = sigmoid(np.dot(x, v))\n",
    "    L2 = sigmoid(np.dot(L1, w))\n",
    "    return L2\n",
    "\n",
    "\n",
    "standard_bp_train(x_train, label_train, rate, step)"
   ],
   "metadata": {
    "collapsed": false,
    "pycharm": {
     "name": "#%%\n"
    }
   }
  },
  {
   "cell_type": "markdown",
   "source": [
    "通过运行标准BP算法可以发现，单层神经网络中神经点之间的权重在每次放入样本训练后都会发生改变，改变次数与训练次数相关，即：标准BP算法更新规则是基于每次样本而去修改。"
   ],
   "metadata": {
    "collapsed": false
   }
  },
  {
   "cell_type": "markdown",
   "source": [
    "## 累计BP算法\n",
    "累计BP算法"
   ],
   "metadata": {
    "collapsed": false
   }
  },
  {
   "cell_type": "code",
   "execution_count": 188,
   "outputs": [],
   "source": [
    "def sum_bp_train(train_x, train_y, train_rate, train_step):\n",
    "    return\n",
    "\n"
   ],
   "metadata": {
    "collapsed": false,
    "pycharm": {
     "name": "#%%\n"
    }
   }
  },
  {
   "cell_type": "markdown",
   "source": [
    "## 构建神经网络\n",
    "\n",
    "使用TensorFlow搭建神经网络。"
   ],
   "metadata": {
    "collapsed": false
   }
  },
  {
   "cell_type": "code",
   "execution_count": 189,
   "outputs": [],
   "source": [
    "# Import List\n",
    "import tensorflow as tf\n",
    "import seaborn as sns\n",
    "from tensorflow.keras import layers, optimizers\n",
    "from sklearn.metrics import confusion_matrix, f1_score, precision_score\n",
    "from matplotlib import pyplot as plt"
   ],
   "metadata": {
    "collapsed": false,
    "pycharm": {
     "name": "#%%\n"
    }
   }
  },
  {
   "cell_type": "markdown",
   "source": [
    "导入数据，并划分训练集与测试集。"
   ],
   "metadata": {
    "collapsed": false
   }
  },
  {
   "cell_type": "code",
   "execution_count": 190,
   "outputs": [
    {
     "name": "stdout",
     "output_type": "stream",
     "text": [
      "[[ 1.51861254 -0.5622498   0.23205254 ...  0.36217728  1.84791957\n",
      "   1.01300893]\n",
      " [ 0.24628963 -0.49941338 -0.82799632 ...  0.40605066  1.1134493\n",
      "   0.96524152]\n",
      " [ 0.19687903  0.02123125  1.10933436 ...  0.31830389  0.78858745\n",
      "   1.39514818]\n",
      " ...\n",
      " [ 0.33275817  1.74474449 -0.38935541 ... -1.61212515 -1.48544548\n",
      "   0.28057537]\n",
      " [ 0.20923168  0.22769377  0.01273209 ... -1.56825176 -1.40069891\n",
      "   0.29649784]\n",
      " [ 1.39508604  1.58316512  1.36520822 ... -1.52437837 -1.42894777\n",
      "  -0.59516041]]\n"
     ]
    }
   ],
   "source": [
    "# 读取所有数据（不包括第一行参数）\n",
    "wine_data_tf = np.genfromtxt('wine_data.csv', delimiter=',', skip_header=1)\n",
    "# 读取所有特征数据，排除最后一列（列标签）\n",
    "X_tf = wine_data_tf[:, 0:13]\n",
    "# 标签列读取\n",
    "y_tf = wine_data_tf[:, 13]\n",
    "\n",
    "# 数据归一化\n",
    "scaler = StandardScaler()\n",
    "X_scaler = scaler.fit_transform(X_tf)\n",
    "print(X_scaler)\n",
    "\n",
    "# 划分训练集测试集\n",
    "x_train_tf, x_test_tf, y_train_tf, y_test_tf = train_test_split(X_scaler, y_tf, stratify=y, random_state=42, test_size=0.2)\n",
    "# 数据标准化\n",
    "label_train_tf = LabelBinarizer().fit_transform(y_train_tf)"
   ],
   "metadata": {
    "collapsed": false,
    "pycharm": {
     "name": "#%%\n"
    }
   }
  },
  {
   "cell_type": "markdown",
   "source": [
    "创建TensorFlow神经网络，设置输入层、隐藏层和输出层的大小。"
   ],
   "metadata": {
    "collapsed": false
   }
  },
  {
   "cell_type": "code",
   "execution_count": 191,
   "outputs": [],
   "source": [
    "# 使用keras的层堆叠创建神经网络，包含输入层、隐层和输出层\n",
    "model = tf.keras.Sequential([\n",
    "    layers.Dense(16, activation='relu', input_shape=[13]),\n",
    "    layers.Dense(50, activation='relu'),\n",
    "    layers.Dense(10, activation='relu'),\n",
    "    layers.Dense(3)\n",
    "])\n",
    "\n",
    "# 参数设置\n",
    "LEARNING_RATE = 0.001  # 学习率\n",
    "EPOCHS = 50  # 训练轮数\n",
    "BATCH_SIZE = 32  # 每轮训练进入的数据量\n",
    "\n",
    "# 通过compile调整网络学习参数\n",
    "model.compile(\n",
    "    # 优化器\n",
    "    optimizer=optimizers.Adam(learning_rate=LEARNING_RATE),\n",
    "    # 损失函数\n",
    "    loss='mse',\n",
    "    # 评估函数\n",
    "    metrics=['mae'])"
   ],
   "metadata": {
    "collapsed": false,
    "pycharm": {
     "name": "#%%\n"
    }
   }
  },
  {
   "cell_type": "markdown",
   "source": [
    "向模型输入数据进行训练"
   ],
   "metadata": {
    "collapsed": false
   }
  },
  {
   "cell_type": "code",
   "execution_count": 192,
   "outputs": [
    {
     "name": "stdout",
     "output_type": "stream",
     "text": [
      "Epoch 1/50\n",
      "5/5 [==============================] - 1s 91ms/step - loss: 1.7764 - mae: 1.0679 - val_loss: 1.6223 - val_mae: 1.0290\n",
      "Epoch 2/50\n",
      "5/5 [==============================] - 0s 22ms/step - loss: 1.6307 - mae: 1.0325 - val_loss: 1.4616 - val_mae: 0.9644\n",
      "Epoch 3/50\n",
      "5/5 [==============================] - 0s 22ms/step - loss: 1.3768 - mae: 0.9420 - val_loss: 1.3135 - val_mae: 0.9052\n",
      "Epoch 4/50\n",
      "5/5 [==============================] - 0s 23ms/step - loss: 1.1447 - mae: 0.8399 - val_loss: 1.1470 - val_mae: 0.8409\n",
      "Epoch 5/50\n",
      "5/5 [==============================] - 0s 23ms/step - loss: 0.9984 - mae: 0.7827 - val_loss: 0.9863 - val_mae: 0.7760\n",
      "Epoch 6/50\n",
      "5/5 [==============================] - 0s 22ms/step - loss: 0.8995 - mae: 0.7531 - val_loss: 0.8289 - val_mae: 0.7070\n",
      "Epoch 7/50\n",
      "5/5 [==============================] - 0s 22ms/step - loss: 0.8329 - mae: 0.7294 - val_loss: 0.6804 - val_mae: 0.6350\n",
      "Epoch 8/50\n",
      "5/5 [==============================] - 0s 23ms/step - loss: 0.6028 - mae: 0.6145 - val_loss: 0.5510 - val_mae: 0.5686\n",
      "Epoch 9/50\n",
      "5/5 [==============================] - 0s 22ms/step - loss: 0.5069 - mae: 0.5697 - val_loss: 0.4394 - val_mae: 0.5061\n",
      "Epoch 10/50\n",
      "5/5 [==============================] - 0s 24ms/step - loss: 0.4170 - mae: 0.5271 - val_loss: 0.3462 - val_mae: 0.4533\n",
      "Epoch 11/50\n",
      "5/5 [==============================] - 0s 22ms/step - loss: 0.3106 - mae: 0.4579 - val_loss: 0.2791 - val_mae: 0.4067\n",
      "Epoch 12/50\n",
      "5/5 [==============================] - 0s 22ms/step - loss: 0.2417 - mae: 0.4071 - val_loss: 0.2343 - val_mae: 0.3676\n",
      "Epoch 13/50\n",
      "5/5 [==============================] - 0s 22ms/step - loss: 0.1940 - mae: 0.3669 - val_loss: 0.2070 - val_mae: 0.3432\n",
      "Epoch 14/50\n",
      "5/5 [==============================] - 0s 22ms/step - loss: 0.1806 - mae: 0.3542 - val_loss: 0.1920 - val_mae: 0.3273\n",
      "Epoch 15/50\n",
      "5/5 [==============================] - 0s 23ms/step - loss: 0.1538 - mae: 0.3225 - val_loss: 0.1827 - val_mae: 0.3194\n",
      "Epoch 16/50\n",
      "5/5 [==============================] - 0s 22ms/step - loss: 0.1493 - mae: 0.3127 - val_loss: 0.1755 - val_mae: 0.3104\n",
      "Epoch 17/50\n",
      "5/5 [==============================] - 0s 21ms/step - loss: 0.1347 - mae: 0.2957 - val_loss: 0.1672 - val_mae: 0.2986\n",
      "Epoch 18/50\n",
      "5/5 [==============================] - 0s 22ms/step - loss: 0.1362 - mae: 0.2985 - val_loss: 0.1587 - val_mae: 0.2882\n",
      "Epoch 19/50\n",
      "5/5 [==============================] - 0s 22ms/step - loss: 0.1210 - mae: 0.2769 - val_loss: 0.1536 - val_mae: 0.2816\n",
      "Epoch 20/50\n",
      "5/5 [==============================] - 0s 23ms/step - loss: 0.1132 - mae: 0.2665 - val_loss: 0.1485 - val_mae: 0.2768\n",
      "Epoch 21/50\n",
      "5/5 [==============================] - 0s 22ms/step - loss: 0.1063 - mae: 0.2611 - val_loss: 0.1436 - val_mae: 0.2722\n",
      "Epoch 22/50\n",
      "5/5 [==============================] - 0s 22ms/step - loss: 0.1021 - mae: 0.2530 - val_loss: 0.1380 - val_mae: 0.2653\n",
      "Epoch 23/50\n",
      "5/5 [==============================] - 0s 22ms/step - loss: 0.0933 - mae: 0.2423 - val_loss: 0.1335 - val_mae: 0.2609\n",
      "Epoch 24/50\n",
      "5/5 [==============================] - 0s 21ms/step - loss: 0.0876 - mae: 0.2339 - val_loss: 0.1292 - val_mae: 0.2572\n",
      "Epoch 25/50\n",
      "5/5 [==============================] - 0s 22ms/step - loss: 0.0853 - mae: 0.2264 - val_loss: 0.1263 - val_mae: 0.2566\n",
      "Epoch 26/50\n",
      "5/5 [==============================] - 0s 21ms/step - loss: 0.0854 - mae: 0.2305 - val_loss: 0.1226 - val_mae: 0.2550\n",
      "Epoch 27/50\n",
      "5/5 [==============================] - 0s 22ms/step - loss: 0.0797 - mae: 0.2214 - val_loss: 0.1192 - val_mae: 0.2520\n",
      "Epoch 28/50\n",
      "5/5 [==============================] - 0s 22ms/step - loss: 0.0723 - mae: 0.2069 - val_loss: 0.1155 - val_mae: 0.2483\n",
      "Epoch 29/50\n",
      "5/5 [==============================] - 0s 22ms/step - loss: 0.0745 - mae: 0.2148 - val_loss: 0.1113 - val_mae: 0.2432\n",
      "Epoch 30/50\n",
      "5/5 [==============================] - 0s 23ms/step - loss: 0.0710 - mae: 0.2067 - val_loss: 0.1081 - val_mae: 0.2405\n",
      "Epoch 31/50\n",
      "5/5 [==============================] - 0s 22ms/step - loss: 0.0705 - mae: 0.2065 - val_loss: 0.1044 - val_mae: 0.2345\n",
      "Epoch 32/50\n",
      "5/5 [==============================] - 0s 22ms/step - loss: 0.0653 - mae: 0.2016 - val_loss: 0.1016 - val_mae: 0.2316\n",
      "Epoch 33/50\n",
      "5/5 [==============================] - 0s 22ms/step - loss: 0.0685 - mae: 0.2066 - val_loss: 0.0988 - val_mae: 0.2284\n",
      "Epoch 34/50\n",
      "5/5 [==============================] - 0s 22ms/step - loss: 0.0599 - mae: 0.1913 - val_loss: 0.0961 - val_mae: 0.2260\n",
      "Epoch 35/50\n",
      "5/5 [==============================] - 0s 22ms/step - loss: 0.0575 - mae: 0.1844 - val_loss: 0.0929 - val_mae: 0.2217\n",
      "Epoch 36/50\n",
      "5/5 [==============================] - 0s 23ms/step - loss: 0.0526 - mae: 0.1779 - val_loss: 0.0902 - val_mae: 0.2190\n",
      "Epoch 37/50\n",
      "5/5 [==============================] - 0s 22ms/step - loss: 0.0607 - mae: 0.1946 - val_loss: 0.0879 - val_mae: 0.2151\n",
      "Epoch 38/50\n",
      "5/5 [==============================] - 0s 22ms/step - loss: 0.0557 - mae: 0.1848 - val_loss: 0.0858 - val_mae: 0.2121\n",
      "Epoch 39/50\n",
      "5/5 [==============================] - 0s 23ms/step - loss: 0.0489 - mae: 0.1729 - val_loss: 0.0839 - val_mae: 0.2068\n",
      "Epoch 40/50\n",
      "5/5 [==============================] - 0s 22ms/step - loss: 0.0480 - mae: 0.1700 - val_loss: 0.0816 - val_mae: 0.2069\n",
      "Epoch 41/50\n",
      "5/5 [==============================] - 0s 22ms/step - loss: 0.0485 - mae: 0.1685 - val_loss: 0.0796 - val_mae: 0.2052\n",
      "Epoch 42/50\n",
      "5/5 [==============================] - 0s 22ms/step - loss: 0.0442 - mae: 0.1622 - val_loss: 0.0777 - val_mae: 0.2009\n",
      "Epoch 43/50\n",
      "5/5 [==============================] - 0s 21ms/step - loss: 0.0491 - mae: 0.1715 - val_loss: 0.0759 - val_mae: 0.1969\n",
      "Epoch 44/50\n",
      "5/5 [==============================] - 0s 21ms/step - loss: 0.0471 - mae: 0.1663 - val_loss: 0.0738 - val_mae: 0.1952\n",
      "Epoch 45/50\n",
      "5/5 [==============================] - 0s 22ms/step - loss: 0.0455 - mae: 0.1645 - val_loss: 0.0718 - val_mae: 0.1941\n",
      "Epoch 46/50\n",
      "5/5 [==============================] - 0s 22ms/step - loss: 0.0411 - mae: 0.1555 - val_loss: 0.0701 - val_mae: 0.1930\n",
      "Epoch 47/50\n",
      "5/5 [==============================] - 0s 22ms/step - loss: 0.0396 - mae: 0.1519 - val_loss: 0.0686 - val_mae: 0.1878\n",
      "Epoch 48/50\n",
      "5/5 [==============================] - 0s 22ms/step - loss: 0.0390 - mae: 0.1518 - val_loss: 0.0680 - val_mae: 0.1861\n",
      "Epoch 49/50\n",
      "5/5 [==============================] - 0s 23ms/step - loss: 0.0384 - mae: 0.1502 - val_loss: 0.0675 - val_mae: 0.1856\n",
      "Epoch 50/50\n",
      "5/5 [==============================] - 0s 22ms/step - loss: 0.0351 - mae: 0.1394 - val_loss: 0.0662 - val_mae: 0.1819\n",
      "Model: \"sequential_13\"\n",
      "_________________________________________________________________\n",
      "Layer (type)                 Output Shape              Param #   \n",
      "=================================================================\n",
      "dense_52 (Dense)             (None, 16)                224       \n",
      "_________________________________________________________________\n",
      "dense_53 (Dense)             (None, 50)                850       \n",
      "_________________________________________________________________\n",
      "dense_54 (Dense)             (None, 10)                510       \n",
      "_________________________________________________________________\n",
      "dense_55 (Dense)             (None, 3)                 33        \n",
      "=================================================================\n",
      "Total params: 1,617\n",
      "Trainable params: 1,617\n",
      "Non-trainable params: 0\n",
      "_________________________________________________________________\n"
     ]
    }
   ],
   "source": [
    "history_1 = model.fit(x_train_tf, y_train_tf,\n",
    "          batch_size=BATCH_SIZE,\n",
    "          epochs=EPOCHS,\n",
    "          validation_data=(x_test_tf, y_test_tf),\n",
    "          validation_freq=1)\n",
    "\n",
    "model.summary()"
   ],
   "metadata": {
    "collapsed": false,
    "pycharm": {
     "name": "#%%\n"
    }
   }
  },
  {
   "cell_type": "markdown",
   "source": [
    "结果可视化，输出每轮训练后均方误差、损失函数随次数变化后的曲线。"
   ],
   "metadata": {
    "collapsed": false
   }
  },
  {
   "cell_type": "code",
   "execution_count": 193,
   "outputs": [],
   "source": [
    "def plot_results(history):\n",
    "    '''\n",
    "    history: 模型训练后返回的训练结果\n",
    "    '''\n",
    "    # 显示MAE\n",
    "    plt.figure(figsize=(10, 10))\n",
    "    epoch_range = range(1, EPOCHS + 1)  # 横轴范围\n",
    "    plt.plot(epoch_range, history.history['mae'], label = 'train_mae')\n",
    "    plt.plot(epoch_range, history.history['val_mae'], label = 'val_mae')\n",
    "    plt.title(\"MAE\")\n",
    "    plt.xlabel(\"Epoch\")\n",
    "    plt.ylabel(\"mae\")\n",
    "    plt.legend(loc = 'best')\n",
    "    plt.show()\n",
    "\n",
    "    # 显示LOSS\n",
    "    plt.figure(figsize=(10, 10))\n",
    "    plt.plot(epoch_range, history.history['loss'], label = 'train_loss')\n",
    "    plt.plot(epoch_range, history.history['val_loss'], label = 'val_moss')\n",
    "    plt.title(\"LOSS\")\n",
    "    plt.xlabel(\"Epoch\")\n",
    "    plt.ylabel(\"loss\")\n",
    "    plt.legend(loc = 'best')\n",
    "    plt.show()\n"
   ],
   "metadata": {
    "collapsed": false,
    "pycharm": {
     "name": "#%%\n"
    }
   }
  },
  {
   "cell_type": "code",
   "execution_count": 194,
   "outputs": [
    {
     "data": {
      "text/plain": "<Figure size 720x720 with 1 Axes>",
      "image/png": "[encoded data removed]"
     },
     "metadata": {
      "needs_background": "light"
     },
     "output_type": "display_data"
    },
    {
     "data": {
      "text/plain": "<Figure size 720x720 with 1 Axes>",
      "image/png": "[encoded data removed]"
     },
     "metadata": {
      "needs_background": "light"
     },
     "output_type": "display_data"
    }
   ],
   "source": [
    "plot_results(history_1)"
   ],
   "metadata": {
    "collapsed": false,
    "pycharm": {
     "name": "#%%\n"
    }
   }
  },
  {
   "cell_type": "markdown",
   "source": [
    "对模型进行验证"
   ],
   "metadata": {
    "collapsed": false
   }
  },
  {
   "cell_type": "code",
   "execution_count": 195,
   "outputs": [
    {
     "name": "stdout",
     "output_type": "stream",
     "text": [
      "2/2 [==============================] - 0s 5ms/step - loss: 0.0662 - mae: 0.1819\n",
      "验证损失： 0.06623736023902893\n",
      "验证mae 0.1818578541278839\n"
     ]
    }
   ],
   "source": [
    "def model_evaluation(model):\n",
    "    eval_loss, eval_mae = model.evaluate(x_test_tf, y_test_tf, batch_size = BATCH_SIZE, verbose = 1)\n",
    "    print(\"验证损失：\", eval_loss)\n",
    "    print(\"验证mae\", eval_mae)\n",
    "\n",
    "model_evaluation(model)"
   ],
   "metadata": {
    "collapsed": false,
    "pycharm": {
     "name": "#%%\n"
    }
   }
  },
  {
   "cell_type": "markdown",
   "source": [
    "输出模型的混淆函数，准确率"
   ],
   "metadata": {
    "collapsed": false
   }
  },
  {
   "cell_type": "code",
   "execution_count": 196,
   "outputs": [
    {
     "name": "stdout",
     "output_type": "stream",
     "text": [
      "WARNING:tensorflow:6 out of the last 11 calls to <function Model.make_predict_function.<locals>.predict_function at 0x7f51ef1733b0> triggered tf.function retracing. Tracing is expensive and the excessive number of tracings could be due to (1) creating @tf.function repeatedly in a loop, (2) passing tensors with different shapes, (3) passing Python objects instead of tensors. For (1), please define your @tf.function outside of the loop. For (2), @tf.function has experimental_relax_shapes=True option that relaxes argument shapes that can avoid unnecessary retracing. For (3), please refer to https://www.tensorflow.org/guide/function#controlling_retracing and https://www.tensorflow.org/api_docs/python/tf/function for  more details.\n",
      "F1_Score:  0.3895424836601307\n"
     ]
    },
    {
     "name": "stderr",
     "output_type": "stream",
     "text": [
      "/home/orekimai/anaconda3/envs/MachineLearning/lib/python3.7/site-packages/tensorflow/python/keras/engine/sequential.py:450: UserWarning: `model.predict_classes()` is deprecated and will be removed after 2021-01-01. Please use instead:* `np.argmax(model.predict(x), axis=-1)`,   if your model does multi-class classification   (e.g. if it uses a `softmax` last-layer activation).* `(model.predict(x) > 0.5).astype(\"int32\")`,   if your model does binary classification   (e.g. if it uses a `sigmoid` last-layer activation).\n",
      "  warnings.warn('`model.predict_classes()` is deprecated and '\n"
     ]
    },
    {
     "data": {
      "text/plain": "<Figure size 576x576 with 2 Axes>",
      "image/png": "[encoded data removed]"
     },
     "metadata": {
      "needs_background": "light"
     },
     "output_type": "display_data"
    }
   ],
   "source": [
    "y_pred = model.predict_classes(x_test_tf)\n",
    "print(\"F1_Score: \", f1_score(y_test_tf, y_pred, average=\"macro\"))\n",
    "con_mat = confusion_matrix(y_test_tf, y_pred)\n",
    "con_mat_norm = con_mat.astype('float') / con_mat.sum(axis=1)[:, np.newaxis]  # 归一化\n",
    "con_mat_norm = np.around(con_mat_norm, decimals=2)\n",
    "\n",
    "# === plot ===\n",
    "plt.figure(figsize=(8, 8))\n",
    "sns.heatmap(con_mat_norm, annot=True, cmap='Blues')\n",
    "\n",
    "plt.ylim(0, 5)\n",
    "plt.xlabel('Predicted labels')\n",
    "plt.ylabel('True labels')\n",
    "plt.show()"
   ],
   "metadata": {
    "collapsed": false,
    "pycharm": {
     "name": "#%%\n"
    }
   }
  }
 ],
 "metadata": {
  "kernelspec": {
   "display_name": "Python 3",
   "language": "python",
   "name": "python3"
  },
  "language_info": {
   "codemirror_mode": {
    "name": "ipython",
    "version": 2
   },
   "file_extension": ".py",
   "mimetype": "text/x-python",
   "name": "python",
   "nbconvert_exporter": "python",
   "pygments_lexer": "ipython2",
   "version": "2.7.6"
  }
 },
 "nbformat": 4,
 "nbformat_minor": 0
}