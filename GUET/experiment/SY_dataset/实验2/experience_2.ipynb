{
 "cells": [
  {
   "cell_type": "code",
   "execution_count": 1,
   "metadata": {
    "collapsed": true,
    "pycharm": {
     "name": "#%%\n"
    }
   },
   "outputs": [],
   "source": [
    "# Import List\n",
    "from sklearn.metrics import mean_squared_error\n",
    "from sklearn.model_selection import train_test_split\n",
    "from sklearn.preprocessing import StandardScaler, LabelBinarizer\n",
    "import numpy as np"
   ]
  },
  {
   "cell_type": "markdown",
   "source": [
    "# 实验2\n",
    "\n",
    "## 标准BP算法\n",
    "\n",
    "首先需要对数据进行归一化处理，便于神经网络的使用。"
   ],
   "metadata": {
    "collapsed": false,
    "pycharm": {
     "name": "#%% md\n"
    }
   }
  },
  {
   "cell_type": "code",
   "execution_count": 2,
   "outputs": [],
   "source": [
    "# 读取所有数据（不包括第一行参数）\n",
    "wine_data = np.genfromtxt('wine_data.csv', delimiter=',', skip_header=1)\n",
    "\n",
    "# 读取所有特征数据，排除最后一列（列标签）\n",
    "X = wine_data[:, 0:13]\n",
    "# 标签列读取\n",
    "y = wine_data[:, 13]\n",
    "\n",
    "# 划分70%训练集，30%测试集\n",
    "x_train, x_test, y_train, y_test = train_test_split(X, y, test_size=0.3, train_size=0.7)\n",
    "# 数据标准化\n",
    "label_train = LabelBinarizer().fit_transform(y_train)"
   ],
   "metadata": {
    "collapsed": false,
    "pycharm": {
     "name": "#%%\n"
    }
   }
  },
  {
   "cell_type": "markdown",
   "source": [
    "设置神经网络参数。包括学习率、迭代次数、神经节点设置。"
   ],
   "metadata": {
    "collapsed": false,
    "pycharm": {
     "name": "#%% md\n"
    }
   }
  },
  {
   "cell_type": "code",
   "execution_count": 3,
   "outputs": [],
   "source": [
    "# 学习率\n",
    "rate = 0.11\n",
    "# 迭代次数\n",
    "step = 10000\n",
    "\n",
    "# 随机设置神经权值，13输入，3输出中间隐藏层100个神经元\n",
    "v = np.random.random((13, 100)) * 2 - 1  # 输入层->隐层\n",
    "w = np.random.random((100, 3)) * 2 - 1  # 隐层->输出层"
   ],
   "metadata": {
    "collapsed": false,
    "pycharm": {
     "name": "#%%\n"
    }
   }
  },
  {
   "cell_type": "markdown",
   "source": [
    "激活函数$sigmoid()$与其导数函数如下。"
   ],
   "metadata": {
    "collapsed": false,
    "pycharm": {
     "name": "#%% md\n"
    }
   }
  },
  {
   "cell_type": "code",
   "execution_count": 4,
   "outputs": [],
   "source": [
    "def sigmoid(x):\n",
    "    return 1 / (1 + np.exp(-x))\n",
    "\n",
    "\n",
    "def de_sigmoid(x):\n",
    "    return x * (1 - x)"
   ],
   "metadata": {
    "collapsed": false,
    "pycharm": {
     "name": "#%%\n"
    }
   }
  },
  {
   "cell_type": "markdown",
   "source": [
    "创建训练函数\n",
    "标准BP算法核心要点如下：\n",
    "```\n",
    "Algorithms 标准BP算法\n",
    "----\n",
    "    输入： 训练集 D，学习率 η.\n",
    "    过程：\n",
    "        1. 随即初始化连接权与阈值 (ω，θ).\n",
    "        2. Repeat：\n",
    "        3.   for x_k，y_k in D:\n",
    "        4.     根据当前参数计算出样本误差 E_k.\n",
    "        5.     根据公式计算出随机梯度项 g_k.\n",
    "        6.     根据公式更新 (ω，θ).\n",
    "        7.   end for\n",
    "        8. until 达到停止条件\n",
    "    输出：(ω，θ) - 即相应的多层前馈神经网络.\n",
    "----\n",
    "```"
   ],
   "metadata": {
    "collapsed": false,
    "pycharm": {
     "name": "#%% md\n"
    }
   }
  },
  {
   "cell_type": "code",
   "execution_count": 5,
   "outputs": [
    {
     "name": "stderr",
     "output_type": "stream",
     "text": [
      "/var/folders/85/kk7q3wb94jz88s0bdn7qntkw0000gn/T/ipykernel_3646/174309813.py:2: RuntimeWarning: overflow encountered in exp\n",
      "  return 1 / (1 + np.exp(-x))\n",
      "/var/folders/85/kk7q3wb94jz88s0bdn7qntkw0000gn/T/ipykernel_3646/174309813.py:2: RuntimeWarning: overflow encountered in exp\n",
      "  return 1 / (1 + np.exp(-x))\n",
      "/var/folders/85/kk7q3wb94jz88s0bdn7qntkw0000gn/T/ipykernel_3646/174309813.py:2: RuntimeWarning: overflow encountered in exp\n",
      "  return 1 / (1 + np.exp(-x))\n",
      "/var/folders/85/kk7q3wb94jz88s0bdn7qntkw0000gn/T/ipykernel_3646/174309813.py:2: RuntimeWarning: overflow encountered in exp\n",
      "  return 1 / (1 + np.exp(-x))\n",
      "/var/folders/85/kk7q3wb94jz88s0bdn7qntkw0000gn/T/ipykernel_3646/174309813.py:2: RuntimeWarning: overflow encountered in exp\n",
      "  return 1 / (1 + np.exp(-x))\n"
     ]
    },
    {
     "name": "stdout",
     "output_type": "stream",
     "text": [
      "step: 0 acc: 0.4444444444444444\n",
      "error: 0 error 0.5555555555555556\n",
      "step: 1000 acc: 0.4444444444444444\n",
      "error: 1000 error 0.5555555555555556\n",
      "step: 2000 acc: 0.2037037037037037\n",
      "error: 2000 error 1.8518518518518519\n",
      "step: 3000 acc: 0.35185185185185186\n",
      "error: 3000 error 1.2592592592592593\n",
      "step: 4000 acc: 0.4444444444444444\n",
      "error: 4000 error 0.5555555555555556\n",
      "step: 5000 acc: 0.4444444444444444\n",
      "error: 5000 error 0.5555555555555556\n",
      "step: 6000 acc: 0.35185185185185186\n",
      "error: 6000 error 1.2592592592592593\n"
     ]
    },
    {
     "name": "stderr",
     "output_type": "stream",
     "text": [
      "/var/folders/85/kk7q3wb94jz88s0bdn7qntkw0000gn/T/ipykernel_3646/174309813.py:2: RuntimeWarning: overflow encountered in exp\n",
      "  return 1 / (1 + np.exp(-x))\n",
      "/var/folders/85/kk7q3wb94jz88s0bdn7qntkw0000gn/T/ipykernel_3646/174309813.py:2: RuntimeWarning: overflow encountered in exp\n",
      "  return 1 / (1 + np.exp(-x))\n",
      "/var/folders/85/kk7q3wb94jz88s0bdn7qntkw0000gn/T/ipykernel_3646/174309813.py:2: RuntimeWarning: overflow encountered in exp\n",
      "  return 1 / (1 + np.exp(-x))\n"
     ]
    },
    {
     "name": "stdout",
     "output_type": "stream",
     "text": [
      "step: 7000 acc: 0.2037037037037037\n",
      "error: 7000 error 1.8518518518518519\n",
      "step: 8000 acc: 0.4444444444444444\n",
      "error: 8000 error 0.5555555555555556\n",
      "step: 9000 acc: 0.4444444444444444\n",
      "error: 9000 error 0.5555555555555556\n"
     ]
    },
    {
     "name": "stderr",
     "output_type": "stream",
     "text": [
      "/var/folders/85/kk7q3wb94jz88s0bdn7qntkw0000gn/T/ipykernel_3646/174309813.py:2: RuntimeWarning: overflow encountered in exp\n",
      "  return 1 / (1 + np.exp(-x))\n",
      "/var/folders/85/kk7q3wb94jz88s0bdn7qntkw0000gn/T/ipykernel_3646/174309813.py:2: RuntimeWarning: overflow encountered in exp\n",
      "  return 1 / (1 + np.exp(-x))\n",
      "/var/folders/85/kk7q3wb94jz88s0bdn7qntkw0000gn/T/ipykernel_3646/174309813.py:2: RuntimeWarning: overflow encountered in exp\n",
      "  return 1 / (1 + np.exp(-x))\n"
     ]
    },
    {
     "name": "stdout",
     "output_type": "stream",
     "text": [
      "step: 10000 acc: 0.4444444444444444\n",
      "error: 10000 error 0.5555555555555556\n"
     ]
    }
   ],
   "source": [
    "error_list=[]\n",
    "def standard_bp_train(train_x, train_y, train_rate, train_step):\n",
    "    # 导入神经节点\n",
    "    global v, w\n",
    "    for n in range(train_step + 1):\n",
    "        # 随机选择样本\n",
    "        i = np.random.randint(train_x.shape[0])\n",
    "        x = train_x[i]\n",
    "        x = np.atleast_2d(x)\n",
    "\n",
    "        # 节点激活\n",
    "        L1 = sigmoid(np.dot(x, v))  # 输入层->隐层\n",
    "        L2 = sigmoid(np.dot(L1, w))  # 隐层->输出层\n",
    "\n",
    "        # 误差反向反馈\n",
    "        L2_delta = (train_y[i] - L2) * de_sigmoid(L2)  # 输出层->隐层\n",
    "        L1_delta = L2_delta.dot(w.T) * de_sigmoid(L1)  # 隐层->输入层\n",
    "\n",
    "        # 权值更新\n",
    "        w = w + train_rate * L1.T.dot(L2_delta)  # 隐层->输出层\n",
    "        v = v + train_rate * x.T.dot(L1_delta)  # 输入层->隐层\n",
    "\n",
    "        # 每1000次训练对网络进行测试，输出测试准确率\n",
    "        if n % 1000 == 0:\n",
    "            output = predict(x_test)\n",
    "            predictions = np.argmax(output, axis=1)  # 选择概率最大的输出点作为结果，输出所在列编号，对应分类结果\n",
    "            acc = np.mean(np.equal(predictions, y_test))  # 对比测试样本，求准确率\n",
    "            print(\"step:\", n, \"acc:\", acc)\n",
    "            error=repr(mean_squared_error(y_test, predictions))\n",
    "            error_list.append(error)\n",
    "            print(\"error:\",n,\"error\",error)\n",
    "\n",
    "\n",
    "def predict(x):\n",
    "    L1 = sigmoid(np.dot(x, v))\n",
    "    L2 = sigmoid(np.dot(L1, w))\n",
    "    return L2\n",
    "\n",
    "\n",
    "standard_bp_train(x_train, label_train, rate, step)"
   ],
   "metadata": {
    "collapsed": false,
    "pycharm": {
     "name": "#%%\n"
    }
   }
  },
  {
   "cell_type": "markdown",
   "source": [
    "输出均方误差随训练次数的变换。"
   ],
   "metadata": {
    "collapsed": false
   }
  },
  {
   "cell_type": "markdown",
   "source": [
    "通过运行标准BP算法可以发现，单层神经网络中神经点之间的权重在每次放入样本训练后都会发生改变，改变次数与训练次数相关，即：标准BP算法更新规则是基于每次样本而去修改。"
   ],
   "metadata": {
    "collapsed": false
   }
  },
  {
   "cell_type": "markdown",
   "source": [
    "## 累计BP算法\n",
    "\n",
    "累计BP算法实现步骤如下：\n",
    "```\n",
    "Algorithms 累积BP算法\n",
    "----\n",
    "    输入： 训练集 D，学习率 η，迭代次数 n.\n",
    "    过程：\n",
    "        1. 随即初始化连接权与阈值 (ω，θ).\n",
    "        2. Repeat：\n",
    "        3.     根据当前参数计算出累积误差 E.\n",
    "        4.     根据公式计算出标准梯度项 g.\n",
    "        5.     根据公式更新 (ω，θ).\n",
    "        6.     n = n-1\n",
    "        7. until n=0 or 达到停止条件\n",
    "    输出：(ω，θ) - 即相应的多层前馈神经网络.\n",
    "----\n",
    "```"
   ],
   "metadata": {
    "collapsed": false,
    "pycharm": {
     "name": "#%% md\n"
    }
   }
  },
  {
   "cell_type": "code",
   "execution_count": 6,
   "outputs": [
    {
     "name": "stdout",
     "output_type": "stream",
     "text": [
      "step: 0 acc: 0.4444444444444444\n",
      "error: 0 error 0.5555555555555556\n",
      "step: 0 acc: 0.4444444444444444\n",
      "error: 0 error 0.5555555555555556\n",
      "step: 0 acc: 0.4444444444444444\n",
      "error: 0 error 0.5555555555555556\n",
      "step: 0 acc: 0.4444444444444444\n",
      "error: 0 error 0.5555555555555556\n",
      "step: 0 acc: 0.4444444444444444\n",
      "error: 0 error 0.5555555555555556\n",
      "step: 0 acc: 0.4444444444444444\n",
      "error: 0 error 0.5555555555555556\n",
      "step: 0 acc: 0.4444444444444444\n",
      "error: 0 error 0.5555555555555556\n",
      "step: 0 acc: 0.4444444444444444\n",
      "error: 0 error 0.5555555555555556\n",
      "step: 0 acc: 0.4444444444444444\n",
      "error: 0 error 0.5555555555555556\n",
      "step: 0 acc: 0.4444444444444444\n",
      "error: 0 error 0.5555555555555556\n",
      "step: 0 acc: 0.4444444444444444\n",
      "error: 0 error 0.5555555555555556\n",
      "step: 0 acc: 0.4444444444444444\n",
      "error: 0 error 0.5555555555555556\n",
      "step: 0 acc: 0.4444444444444444\n",
      "error: 0 error 0.5555555555555556\n",
      "step: 0 acc: 0.4444444444444444\n",
      "error: 0 error 0.5555555555555556\n",
      "step: 0 acc: 0.4444444444444444\n",
      "error: 0 error 0.5555555555555556\n",
      "step: 0 acc: 0.4444444444444444\n",
      "error: 0 error 0.5555555555555556\n",
      "step: 0 acc: 0.4444444444444444\n",
      "error: 0 error 0.5555555555555556\n",
      "step: 0 acc: 0.4444444444444444\n",
      "error: 0 error 0.5555555555555556\n",
      "step: 0 acc: 0.4444444444444444\n",
      "error: 0 error 0.5555555555555556\n",
      "step: 0 acc: 0.4444444444444444\n",
      "error: 0 error 0.5555555555555556\n",
      "step: 0 acc: 0.4444444444444444\n",
      "error: 0 error 0.5555555555555556\n"
     ]
    },
    {
     "name": "stderr",
     "output_type": "stream",
     "text": [
      "/var/folders/85/kk7q3wb94jz88s0bdn7qntkw0000gn/T/ipykernel_3646/174309813.py:2: RuntimeWarning: overflow encountered in exp\n",
      "  return 1 / (1 + np.exp(-x))\n",
      "/var/folders/85/kk7q3wb94jz88s0bdn7qntkw0000gn/T/ipykernel_3646/174309813.py:2: RuntimeWarning: overflow encountered in exp\n",
      "  return 1 / (1 + np.exp(-x))\n",
      "/var/folders/85/kk7q3wb94jz88s0bdn7qntkw0000gn/T/ipykernel_3646/174309813.py:2: RuntimeWarning: overflow encountered in exp\n",
      "  return 1 / (1 + np.exp(-x))\n",
      "/var/folders/85/kk7q3wb94jz88s0bdn7qntkw0000gn/T/ipykernel_3646/174309813.py:2: RuntimeWarning: overflow encountered in exp\n",
      "  return 1 / (1 + np.exp(-x))\n",
      "/var/folders/85/kk7q3wb94jz88s0bdn7qntkw0000gn/T/ipykernel_3646/174309813.py:2: RuntimeWarning: overflow encountered in exp\n",
      "  return 1 / (1 + np.exp(-x))\n",
      "/var/folders/85/kk7q3wb94jz88s0bdn7qntkw0000gn/T/ipykernel_3646/174309813.py:2: RuntimeWarning: overflow encountered in exp\n",
      "  return 1 / (1 + np.exp(-x))\n",
      "/var/folders/85/kk7q3wb94jz88s0bdn7qntkw0000gn/T/ipykernel_3646/174309813.py:2: RuntimeWarning: overflow encountered in exp\n",
      "  return 1 / (1 + np.exp(-x))\n",
      "/var/folders/85/kk7q3wb94jz88s0bdn7qntkw0000gn/T/ipykernel_3646/174309813.py:2: RuntimeWarning: overflow encountered in exp\n",
      "  return 1 / (1 + np.exp(-x))\n",
      "/var/folders/85/kk7q3wb94jz88s0bdn7qntkw0000gn/T/ipykernel_3646/174309813.py:2: RuntimeWarning: overflow encountered in exp\n",
      "  return 1 / (1 + np.exp(-x))\n",
      "/var/folders/85/kk7q3wb94jz88s0bdn7qntkw0000gn/T/ipykernel_3646/174309813.py:2: RuntimeWarning: overflow encountered in exp\n",
      "  return 1 / (1 + np.exp(-x))\n",
      "/var/folders/85/kk7q3wb94jz88s0bdn7qntkw0000gn/T/ipykernel_3646/174309813.py:2: RuntimeWarning: overflow encountered in exp\n",
      "  return 1 / (1 + np.exp(-x))\n",
      "/var/folders/85/kk7q3wb94jz88s0bdn7qntkw0000gn/T/ipykernel_3646/174309813.py:2: RuntimeWarning: overflow encountered in exp\n",
      "  return 1 / (1 + np.exp(-x))\n",
      "/var/folders/85/kk7q3wb94jz88s0bdn7qntkw0000gn/T/ipykernel_3646/174309813.py:2: RuntimeWarning: overflow encountered in exp\n",
      "  return 1 / (1 + np.exp(-x))\n",
      "/var/folders/85/kk7q3wb94jz88s0bdn7qntkw0000gn/T/ipykernel_3646/174309813.py:2: RuntimeWarning: overflow encountered in exp\n",
      "  return 1 / (1 + np.exp(-x))\n",
      "/var/folders/85/kk7q3wb94jz88s0bdn7qntkw0000gn/T/ipykernel_3646/174309813.py:2: RuntimeWarning: overflow encountered in exp\n",
      "  return 1 / (1 + np.exp(-x))\n",
      "/var/folders/85/kk7q3wb94jz88s0bdn7qntkw0000gn/T/ipykernel_3646/174309813.py:2: RuntimeWarning: overflow encountered in exp\n",
      "  return 1 / (1 + np.exp(-x))\n",
      "/var/folders/85/kk7q3wb94jz88s0bdn7qntkw0000gn/T/ipykernel_3646/174309813.py:2: RuntimeWarning: overflow encountered in exp\n",
      "  return 1 / (1 + np.exp(-x))\n",
      "/var/folders/85/kk7q3wb94jz88s0bdn7qntkw0000gn/T/ipykernel_3646/174309813.py:2: RuntimeWarning: overflow encountered in exp\n",
      "  return 1 / (1 + np.exp(-x))\n",
      "/var/folders/85/kk7q3wb94jz88s0bdn7qntkw0000gn/T/ipykernel_3646/174309813.py:2: RuntimeWarning: overflow encountered in exp\n",
      "  return 1 / (1 + np.exp(-x))\n",
      "/var/folders/85/kk7q3wb94jz88s0bdn7qntkw0000gn/T/ipykernel_3646/174309813.py:2: RuntimeWarning: overflow encountered in exp\n",
      "  return 1 / (1 + np.exp(-x))\n",
      "/var/folders/85/kk7q3wb94jz88s0bdn7qntkw0000gn/T/ipykernel_3646/174309813.py:2: RuntimeWarning: overflow encountered in exp\n",
      "  return 1 / (1 + np.exp(-x))\n",
      "/var/folders/85/kk7q3wb94jz88s0bdn7qntkw0000gn/T/ipykernel_3646/174309813.py:2: RuntimeWarning: overflow encountered in exp\n",
      "  return 1 / (1 + np.exp(-x))\n",
      "/var/folders/85/kk7q3wb94jz88s0bdn7qntkw0000gn/T/ipykernel_3646/174309813.py:2: RuntimeWarning: overflow encountered in exp\n",
      "  return 1 / (1 + np.exp(-x))\n",
      "/var/folders/85/kk7q3wb94jz88s0bdn7qntkw0000gn/T/ipykernel_3646/174309813.py:2: RuntimeWarning: overflow encountered in exp\n",
      "  return 1 / (1 + np.exp(-x))\n"
     ]
    },
    {
     "name": "stdout",
     "output_type": "stream",
     "text": [
      "step: 0 acc: 0.4444444444444444\n",
      "error: 0 error 0.5555555555555556\n",
      "step: 0 acc: 0.4444444444444444\n",
      "error: 0 error 0.5555555555555556\n",
      "step: 0 acc: 0.4444444444444444\n",
      "error: 0 error 0.5555555555555556\n",
      "step: 0 acc: 0.4444444444444444\n",
      "error: 0 error 0.5555555555555556\n",
      "step: 0 acc: 0.4444444444444444\n",
      "error: 0 error 0.5555555555555556\n",
      "step: 0 acc: 0.4444444444444444\n",
      "error: 0 error 0.5555555555555556\n",
      "step: 0 acc: 0.4444444444444444\n",
      "error: 0 error 0.5555555555555556\n",
      "step: 0 acc: 0.4444444444444444\n",
      "error: 0 error 0.5555555555555556\n",
      "step: 0 acc: 0.4444444444444444\n",
      "error: 0 error 0.5555555555555556\n",
      "step: 0 acc: 0.4444444444444444\n",
      "error: 0 error 0.5555555555555556\n",
      "step: 0 acc: 0.4444444444444444\n",
      "error: 0 error 0.5555555555555556\n",
      "step: 0 acc: 0.4444444444444444\n",
      "error: 0 error 0.5555555555555556\n",
      "step: 0 acc: 0.4444444444444444\n",
      "error: 0 error 0.5555555555555556\n",
      "step: 0 acc: 0.4444444444444444\n",
      "error: 0 error 0.5555555555555556\n",
      "step: 0 acc: 0.4444444444444444\n",
      "error: 0 error 0.5555555555555556\n",
      "step: 0 acc: 0.4444444444444444\n",
      "error: 0 error 0.5555555555555556\n",
      "step: 0 acc: 0.4444444444444444\n",
      "error: 0 error 0.5555555555555556\n",
      "step: 0 acc: 0.4444444444444444\n",
      "error: 0 error 0.5555555555555556\n",
      "step: 0 acc: 0.4444444444444444\n",
      "error: 0 error 0.5555555555555556\n",
      "step: 0 acc: 0.4444444444444444\n",
      "error: 0 error 0.5555555555555556\n",
      "step: 0 acc: 0.4444444444444444\n",
      "error: 0 error 0.5555555555555556\n",
      "step: 0 acc: 0.4444444444444444\n",
      "error: 0 error 0.5555555555555556\n"
     ]
    },
    {
     "name": "stderr",
     "output_type": "stream",
     "text": [
      "/var/folders/85/kk7q3wb94jz88s0bdn7qntkw0000gn/T/ipykernel_3646/174309813.py:2: RuntimeWarning: overflow encountered in exp\n",
      "  return 1 / (1 + np.exp(-x))\n",
      "/var/folders/85/kk7q3wb94jz88s0bdn7qntkw0000gn/T/ipykernel_3646/174309813.py:2: RuntimeWarning: overflow encountered in exp\n",
      "  return 1 / (1 + np.exp(-x))\n",
      "/var/folders/85/kk7q3wb94jz88s0bdn7qntkw0000gn/T/ipykernel_3646/174309813.py:2: RuntimeWarning: overflow encountered in exp\n",
      "  return 1 / (1 + np.exp(-x))\n",
      "/var/folders/85/kk7q3wb94jz88s0bdn7qntkw0000gn/T/ipykernel_3646/174309813.py:2: RuntimeWarning: overflow encountered in exp\n",
      "  return 1 / (1 + np.exp(-x))\n",
      "/var/folders/85/kk7q3wb94jz88s0bdn7qntkw0000gn/T/ipykernel_3646/174309813.py:2: RuntimeWarning: overflow encountered in exp\n",
      "  return 1 / (1 + np.exp(-x))\n",
      "/var/folders/85/kk7q3wb94jz88s0bdn7qntkw0000gn/T/ipykernel_3646/174309813.py:2: RuntimeWarning: overflow encountered in exp\n",
      "  return 1 / (1 + np.exp(-x))\n",
      "/var/folders/85/kk7q3wb94jz88s0bdn7qntkw0000gn/T/ipykernel_3646/174309813.py:2: RuntimeWarning: overflow encountered in exp\n",
      "  return 1 / (1 + np.exp(-x))\n",
      "/var/folders/85/kk7q3wb94jz88s0bdn7qntkw0000gn/T/ipykernel_3646/174309813.py:2: RuntimeWarning: overflow encountered in exp\n",
      "  return 1 / (1 + np.exp(-x))\n",
      "/var/folders/85/kk7q3wb94jz88s0bdn7qntkw0000gn/T/ipykernel_3646/174309813.py:2: RuntimeWarning: overflow encountered in exp\n",
      "  return 1 / (1 + np.exp(-x))\n",
      "/var/folders/85/kk7q3wb94jz88s0bdn7qntkw0000gn/T/ipykernel_3646/174309813.py:2: RuntimeWarning: overflow encountered in exp\n",
      "  return 1 / (1 + np.exp(-x))\n",
      "/var/folders/85/kk7q3wb94jz88s0bdn7qntkw0000gn/T/ipykernel_3646/174309813.py:2: RuntimeWarning: overflow encountered in exp\n",
      "  return 1 / (1 + np.exp(-x))\n",
      "/var/folders/85/kk7q3wb94jz88s0bdn7qntkw0000gn/T/ipykernel_3646/174309813.py:2: RuntimeWarning: overflow encountered in exp\n",
      "  return 1 / (1 + np.exp(-x))\n",
      "/var/folders/85/kk7q3wb94jz88s0bdn7qntkw0000gn/T/ipykernel_3646/174309813.py:2: RuntimeWarning: overflow encountered in exp\n",
      "  return 1 / (1 + np.exp(-x))\n",
      "/var/folders/85/kk7q3wb94jz88s0bdn7qntkw0000gn/T/ipykernel_3646/174309813.py:2: RuntimeWarning: overflow encountered in exp\n",
      "  return 1 / (1 + np.exp(-x))\n",
      "/var/folders/85/kk7q3wb94jz88s0bdn7qntkw0000gn/T/ipykernel_3646/174309813.py:2: RuntimeWarning: overflow encountered in exp\n",
      "  return 1 / (1 + np.exp(-x))\n",
      "/var/folders/85/kk7q3wb94jz88s0bdn7qntkw0000gn/T/ipykernel_3646/174309813.py:2: RuntimeWarning: overflow encountered in exp\n",
      "  return 1 / (1 + np.exp(-x))\n",
      "/var/folders/85/kk7q3wb94jz88s0bdn7qntkw0000gn/T/ipykernel_3646/174309813.py:2: RuntimeWarning: overflow encountered in exp\n",
      "  return 1 / (1 + np.exp(-x))\n",
      "/var/folders/85/kk7q3wb94jz88s0bdn7qntkw0000gn/T/ipykernel_3646/174309813.py:2: RuntimeWarning: overflow encountered in exp\n",
      "  return 1 / (1 + np.exp(-x))\n",
      "/var/folders/85/kk7q3wb94jz88s0bdn7qntkw0000gn/T/ipykernel_3646/174309813.py:2: RuntimeWarning: overflow encountered in exp\n",
      "  return 1 / (1 + np.exp(-x))\n",
      "/var/folders/85/kk7q3wb94jz88s0bdn7qntkw0000gn/T/ipykernel_3646/174309813.py:2: RuntimeWarning: overflow encountered in exp\n",
      "  return 1 / (1 + np.exp(-x))\n"
     ]
    },
    {
     "name": "stdout",
     "output_type": "stream",
     "text": [
      "step: 0 acc: 0.4444444444444444\n",
      "error: 0 error 0.5555555555555556\n",
      "step: 0 acc: 0.4444444444444444\n",
      "error: 0 error 0.5555555555555556\n",
      "step: 0 acc: 0.4444444444444444\n",
      "error: 0 error 0.5555555555555556\n",
      "step: 0 acc: 0.4444444444444444\n",
      "error: 0 error 0.5555555555555556\n",
      "step: 0 acc: 0.4444444444444444\n",
      "error: 0 error 0.5555555555555556\n",
      "step: 0 acc: 0.4444444444444444\n",
      "error: 0 error 0.5555555555555556\n",
      "step: 0 acc: 0.4444444444444444\n",
      "error: 0 error 0.5555555555555556\n",
      "step: 0 acc: 0.4444444444444444\n",
      "error: 0 error 0.5555555555555556\n",
      "step: 0 acc: 0.4444444444444444\n",
      "error: 0 error 0.5555555555555556\n",
      "step: 0 acc: 0.4444444444444444\n",
      "error: 0 error 0.5555555555555556\n",
      "step: 0 acc: 0.4444444444444444\n",
      "error: 0 error 0.5555555555555556\n",
      "step: 0 acc: 0.4444444444444444\n",
      "error: 0 error 0.5555555555555556\n",
      "step: 0 acc: 0.4444444444444444\n",
      "error: 0 error 0.5555555555555556\n",
      "step: 0 acc: 0.4444444444444444\n",
      "error: 0 error 0.5555555555555556\n",
      "step: 0 acc: 0.4444444444444444\n",
      "error: 0 error 0.5555555555555556\n",
      "step: 0 acc: 0.4444444444444444\n",
      "error: 0 error 0.5555555555555556\n",
      "step: 0 acc: 0.4444444444444444\n",
      "error: 0 error 0.5555555555555556\n",
      "step: 0 acc: 0.4444444444444444\n",
      "error: 0 error 0.5555555555555556\n",
      "step: 0 acc: 0.4444444444444444\n",
      "error: 0 error 0.5555555555555556\n"
     ]
    },
    {
     "name": "stderr",
     "output_type": "stream",
     "text": [
      "/var/folders/85/kk7q3wb94jz88s0bdn7qntkw0000gn/T/ipykernel_3646/174309813.py:2: RuntimeWarning: overflow encountered in exp\n",
      "  return 1 / (1 + np.exp(-x))\n",
      "/var/folders/85/kk7q3wb94jz88s0bdn7qntkw0000gn/T/ipykernel_3646/174309813.py:2: RuntimeWarning: overflow encountered in exp\n",
      "  return 1 / (1 + np.exp(-x))\n",
      "/var/folders/85/kk7q3wb94jz88s0bdn7qntkw0000gn/T/ipykernel_3646/174309813.py:2: RuntimeWarning: overflow encountered in exp\n",
      "  return 1 / (1 + np.exp(-x))\n",
      "/var/folders/85/kk7q3wb94jz88s0bdn7qntkw0000gn/T/ipykernel_3646/174309813.py:2: RuntimeWarning: overflow encountered in exp\n",
      "  return 1 / (1 + np.exp(-x))\n",
      "/var/folders/85/kk7q3wb94jz88s0bdn7qntkw0000gn/T/ipykernel_3646/174309813.py:2: RuntimeWarning: overflow encountered in exp\n",
      "  return 1 / (1 + np.exp(-x))\n",
      "/var/folders/85/kk7q3wb94jz88s0bdn7qntkw0000gn/T/ipykernel_3646/174309813.py:2: RuntimeWarning: overflow encountered in exp\n",
      "  return 1 / (1 + np.exp(-x))\n",
      "/var/folders/85/kk7q3wb94jz88s0bdn7qntkw0000gn/T/ipykernel_3646/174309813.py:2: RuntimeWarning: overflow encountered in exp\n",
      "  return 1 / (1 + np.exp(-x))\n",
      "/var/folders/85/kk7q3wb94jz88s0bdn7qntkw0000gn/T/ipykernel_3646/174309813.py:2: RuntimeWarning: overflow encountered in exp\n",
      "  return 1 / (1 + np.exp(-x))\n",
      "/var/folders/85/kk7q3wb94jz88s0bdn7qntkw0000gn/T/ipykernel_3646/174309813.py:2: RuntimeWarning: overflow encountered in exp\n",
      "  return 1 / (1 + np.exp(-x))\n",
      "/var/folders/85/kk7q3wb94jz88s0bdn7qntkw0000gn/T/ipykernel_3646/174309813.py:2: RuntimeWarning: overflow encountered in exp\n",
      "  return 1 / (1 + np.exp(-x))\n",
      "/var/folders/85/kk7q3wb94jz88s0bdn7qntkw0000gn/T/ipykernel_3646/174309813.py:2: RuntimeWarning: overflow encountered in exp\n",
      "  return 1 / (1 + np.exp(-x))\n",
      "/var/folders/85/kk7q3wb94jz88s0bdn7qntkw0000gn/T/ipykernel_3646/174309813.py:2: RuntimeWarning: overflow encountered in exp\n",
      "  return 1 / (1 + np.exp(-x))\n",
      "/var/folders/85/kk7q3wb94jz88s0bdn7qntkw0000gn/T/ipykernel_3646/174309813.py:2: RuntimeWarning: overflow encountered in exp\n",
      "  return 1 / (1 + np.exp(-x))\n",
      "/var/folders/85/kk7q3wb94jz88s0bdn7qntkw0000gn/T/ipykernel_3646/174309813.py:2: RuntimeWarning: overflow encountered in exp\n",
      "  return 1 / (1 + np.exp(-x))\n",
      "/var/folders/85/kk7q3wb94jz88s0bdn7qntkw0000gn/T/ipykernel_3646/174309813.py:2: RuntimeWarning: overflow encountered in exp\n",
      "  return 1 / (1 + np.exp(-x))\n",
      "/var/folders/85/kk7q3wb94jz88s0bdn7qntkw0000gn/T/ipykernel_3646/174309813.py:2: RuntimeWarning: overflow encountered in exp\n",
      "  return 1 / (1 + np.exp(-x))\n",
      "/var/folders/85/kk7q3wb94jz88s0bdn7qntkw0000gn/T/ipykernel_3646/174309813.py:2: RuntimeWarning: overflow encountered in exp\n",
      "  return 1 / (1 + np.exp(-x))\n",
      "/var/folders/85/kk7q3wb94jz88s0bdn7qntkw0000gn/T/ipykernel_3646/174309813.py:2: RuntimeWarning: overflow encountered in exp\n",
      "  return 1 / (1 + np.exp(-x))\n",
      "/var/folders/85/kk7q3wb94jz88s0bdn7qntkw0000gn/T/ipykernel_3646/174309813.py:2: RuntimeWarning: overflow encountered in exp\n",
      "  return 1 / (1 + np.exp(-x))\n"
     ]
    },
    {
     "name": "stdout",
     "output_type": "stream",
     "text": [
      "step: 0 acc: 0.4444444444444444\n",
      "error: 0 error 0.5555555555555556\n",
      "step: 0 acc: 0.4444444444444444\n",
      "error: 0 error 0.5555555555555556\n",
      "step: 0 acc: 0.4444444444444444\n",
      "error: 0 error 0.5555555555555556\n",
      "step: 0 acc: 0.4444444444444444\n",
      "error: 0 error 0.5555555555555556\n",
      "step: 0 acc: 0.4444444444444444\n",
      "error: 0 error 0.5555555555555556\n",
      "step: 0 acc: 0.4444444444444444\n",
      "error: 0 error 0.5555555555555556\n",
      "step: 0 acc: 0.4444444444444444\n",
      "error: 0 error 0.5555555555555556\n",
      "step: 0 acc: 0.4444444444444444\n",
      "error: 0 error 0.5555555555555556\n",
      "step: 0 acc: 0.4444444444444444\n",
      "error: 0 error 0.5555555555555556\n",
      "step: 0 acc: 0.4444444444444444\n",
      "error: 0 error 0.5555555555555556\n",
      "step: 0 acc: 0.4444444444444444\n",
      "error: 0 error 0.5555555555555556\n",
      "step: 0 acc: 0.4444444444444444\n",
      "error: 0 error 0.5555555555555556\n",
      "step: 0 acc: 0.4444444444444444\n",
      "error: 0 error 0.5555555555555556\n",
      "step: 0 acc: 0.4444444444444444\n",
      "error: 0 error 0.5555555555555556\n",
      "step: 0 acc: 0.4444444444444444\n",
      "error: 0 error 0.5555555555555556\n",
      "step: 0 acc: 0.4444444444444444\n",
      "error: 0 error 0.5555555555555556\n",
      "step: 0 acc: 0.4444444444444444\n",
      "error: 0 error 0.5555555555555556\n",
      "step: 0 acc: 0.4444444444444444\n",
      "error: 0 error 0.5555555555555556\n",
      "step: 0 acc: 0.4444444444444444\n",
      "error: 0 error 0.5555555555555556\n",
      "step: 0 acc: 0.4444444444444444\n",
      "error: 0 error 0.5555555555555556\n"
     ]
    },
    {
     "name": "stderr",
     "output_type": "stream",
     "text": [
      "/var/folders/85/kk7q3wb94jz88s0bdn7qntkw0000gn/T/ipykernel_3646/174309813.py:2: RuntimeWarning: overflow encountered in exp\n",
      "  return 1 / (1 + np.exp(-x))\n",
      "/var/folders/85/kk7q3wb94jz88s0bdn7qntkw0000gn/T/ipykernel_3646/174309813.py:2: RuntimeWarning: overflow encountered in exp\n",
      "  return 1 / (1 + np.exp(-x))\n",
      "/var/folders/85/kk7q3wb94jz88s0bdn7qntkw0000gn/T/ipykernel_3646/174309813.py:2: RuntimeWarning: overflow encountered in exp\n",
      "  return 1 / (1 + np.exp(-x))\n",
      "/var/folders/85/kk7q3wb94jz88s0bdn7qntkw0000gn/T/ipykernel_3646/174309813.py:2: RuntimeWarning: overflow encountered in exp\n",
      "  return 1 / (1 + np.exp(-x))\n",
      "/var/folders/85/kk7q3wb94jz88s0bdn7qntkw0000gn/T/ipykernel_3646/174309813.py:2: RuntimeWarning: overflow encountered in exp\n",
      "  return 1 / (1 + np.exp(-x))\n",
      "/var/folders/85/kk7q3wb94jz88s0bdn7qntkw0000gn/T/ipykernel_3646/174309813.py:2: RuntimeWarning: overflow encountered in exp\n",
      "  return 1 / (1 + np.exp(-x))\n",
      "/var/folders/85/kk7q3wb94jz88s0bdn7qntkw0000gn/T/ipykernel_3646/174309813.py:2: RuntimeWarning: overflow encountered in exp\n",
      "  return 1 / (1 + np.exp(-x))\n",
      "/var/folders/85/kk7q3wb94jz88s0bdn7qntkw0000gn/T/ipykernel_3646/174309813.py:2: RuntimeWarning: overflow encountered in exp\n",
      "  return 1 / (1 + np.exp(-x))\n",
      "/var/folders/85/kk7q3wb94jz88s0bdn7qntkw0000gn/T/ipykernel_3646/174309813.py:2: RuntimeWarning: overflow encountered in exp\n",
      "  return 1 / (1 + np.exp(-x))\n",
      "/var/folders/85/kk7q3wb94jz88s0bdn7qntkw0000gn/T/ipykernel_3646/174309813.py:2: RuntimeWarning: overflow encountered in exp\n",
      "  return 1 / (1 + np.exp(-x))\n",
      "/var/folders/85/kk7q3wb94jz88s0bdn7qntkw0000gn/T/ipykernel_3646/174309813.py:2: RuntimeWarning: overflow encountered in exp\n",
      "  return 1 / (1 + np.exp(-x))\n",
      "/var/folders/85/kk7q3wb94jz88s0bdn7qntkw0000gn/T/ipykernel_3646/174309813.py:2: RuntimeWarning: overflow encountered in exp\n",
      "  return 1 / (1 + np.exp(-x))\n",
      "/var/folders/85/kk7q3wb94jz88s0bdn7qntkw0000gn/T/ipykernel_3646/174309813.py:2: RuntimeWarning: overflow encountered in exp\n",
      "  return 1 / (1 + np.exp(-x))\n",
      "/var/folders/85/kk7q3wb94jz88s0bdn7qntkw0000gn/T/ipykernel_3646/174309813.py:2: RuntimeWarning: overflow encountered in exp\n",
      "  return 1 / (1 + np.exp(-x))\n",
      "/var/folders/85/kk7q3wb94jz88s0bdn7qntkw0000gn/T/ipykernel_3646/174309813.py:2: RuntimeWarning: overflow encountered in exp\n",
      "  return 1 / (1 + np.exp(-x))\n",
      "/var/folders/85/kk7q3wb94jz88s0bdn7qntkw0000gn/T/ipykernel_3646/174309813.py:2: RuntimeWarning: overflow encountered in exp\n",
      "  return 1 / (1 + np.exp(-x))\n",
      "/var/folders/85/kk7q3wb94jz88s0bdn7qntkw0000gn/T/ipykernel_3646/174309813.py:2: RuntimeWarning: overflow encountered in exp\n",
      "  return 1 / (1 + np.exp(-x))\n",
      "/var/folders/85/kk7q3wb94jz88s0bdn7qntkw0000gn/T/ipykernel_3646/174309813.py:2: RuntimeWarning: overflow encountered in exp\n",
      "  return 1 / (1 + np.exp(-x))\n",
      "/var/folders/85/kk7q3wb94jz88s0bdn7qntkw0000gn/T/ipykernel_3646/174309813.py:2: RuntimeWarning: overflow encountered in exp\n",
      "  return 1 / (1 + np.exp(-x))\n",
      "/var/folders/85/kk7q3wb94jz88s0bdn7qntkw0000gn/T/ipykernel_3646/174309813.py:2: RuntimeWarning: overflow encountered in exp\n",
      "  return 1 / (1 + np.exp(-x))\n"
     ]
    },
    {
     "name": "stdout",
     "output_type": "stream",
     "text": [
      "step: 0 acc: 0.4444444444444444\n",
      "error: 0 error 0.5555555555555556\n",
      "step: 0 acc: 0.4444444444444444\n",
      "error: 0 error 0.5555555555555556\n",
      "step: 0 acc: 0.4444444444444444\n",
      "error: 0 error 0.5555555555555556\n",
      "step: 0 acc: 0.4444444444444444\n",
      "error: 0 error 0.5555555555555556\n",
      "step: 0 acc: 0.4444444444444444\n",
      "error: 0 error 0.5555555555555556\n",
      "step: 0 acc: 0.4444444444444444\n",
      "error: 0 error 0.5555555555555556\n",
      "step: 0 acc: 0.4444444444444444\n",
      "error: 0 error 0.5555555555555556\n",
      "step: 0 acc: 0.4444444444444444\n",
      "error: 0 error 0.5555555555555556\n",
      "step: 0 acc: 0.4444444444444444\n",
      "error: 0 error 0.5555555555555556\n",
      "step: 0 acc: 0.4444444444444444\n",
      "error: 0 error 0.5555555555555556\n",
      "step: 0 acc: 0.4444444444444444\n",
      "error: 0 error 0.5555555555555556\n",
      "step: 0 acc: 0.4444444444444444\n",
      "error: 0 error 0.5555555555555556\n",
      "step: 0 acc: 0.4444444444444444\n",
      "error: 0 error 0.5555555555555556\n",
      "step: 0 acc: 0.4444444444444444\n",
      "error: 0 error 0.5555555555555556\n",
      "step: 0 acc: 0.4444444444444444\n",
      "error: 0 error 0.5555555555555556\n",
      "step: 0 acc: 0.4444444444444444\n",
      "error: 0 error 0.5555555555555556\n",
      "step: 0 acc: 0.4444444444444444\n",
      "error: 0 error 0.5555555555555556\n",
      "step: 0 acc: 0.4444444444444444\n",
      "error: 0 error 0.5555555555555556\n"
     ]
    },
    {
     "name": "stderr",
     "output_type": "stream",
     "text": [
      "/var/folders/85/kk7q3wb94jz88s0bdn7qntkw0000gn/T/ipykernel_3646/174309813.py:2: RuntimeWarning: overflow encountered in exp\n",
      "  return 1 / (1 + np.exp(-x))\n",
      "/var/folders/85/kk7q3wb94jz88s0bdn7qntkw0000gn/T/ipykernel_3646/174309813.py:2: RuntimeWarning: overflow encountered in exp\n",
      "  return 1 / (1 + np.exp(-x))\n",
      "/var/folders/85/kk7q3wb94jz88s0bdn7qntkw0000gn/T/ipykernel_3646/174309813.py:2: RuntimeWarning: overflow encountered in exp\n",
      "  return 1 / (1 + np.exp(-x))\n",
      "/var/folders/85/kk7q3wb94jz88s0bdn7qntkw0000gn/T/ipykernel_3646/174309813.py:2: RuntimeWarning: overflow encountered in exp\n",
      "  return 1 / (1 + np.exp(-x))\n",
      "/var/folders/85/kk7q3wb94jz88s0bdn7qntkw0000gn/T/ipykernel_3646/174309813.py:2: RuntimeWarning: overflow encountered in exp\n",
      "  return 1 / (1 + np.exp(-x))\n",
      "/var/folders/85/kk7q3wb94jz88s0bdn7qntkw0000gn/T/ipykernel_3646/174309813.py:2: RuntimeWarning: overflow encountered in exp\n",
      "  return 1 / (1 + np.exp(-x))\n",
      "/var/folders/85/kk7q3wb94jz88s0bdn7qntkw0000gn/T/ipykernel_3646/174309813.py:2: RuntimeWarning: overflow encountered in exp\n",
      "  return 1 / (1 + np.exp(-x))\n",
      "/var/folders/85/kk7q3wb94jz88s0bdn7qntkw0000gn/T/ipykernel_3646/174309813.py:2: RuntimeWarning: overflow encountered in exp\n",
      "  return 1 / (1 + np.exp(-x))\n",
      "/var/folders/85/kk7q3wb94jz88s0bdn7qntkw0000gn/T/ipykernel_3646/174309813.py:2: RuntimeWarning: overflow encountered in exp\n",
      "  return 1 / (1 + np.exp(-x))\n",
      "/var/folders/85/kk7q3wb94jz88s0bdn7qntkw0000gn/T/ipykernel_3646/174309813.py:2: RuntimeWarning: overflow encountered in exp\n",
      "  return 1 / (1 + np.exp(-x))\n",
      "/var/folders/85/kk7q3wb94jz88s0bdn7qntkw0000gn/T/ipykernel_3646/174309813.py:2: RuntimeWarning: overflow encountered in exp\n",
      "  return 1 / (1 + np.exp(-x))\n",
      "/var/folders/85/kk7q3wb94jz88s0bdn7qntkw0000gn/T/ipykernel_3646/174309813.py:2: RuntimeWarning: overflow encountered in exp\n",
      "  return 1 / (1 + np.exp(-x))\n",
      "/var/folders/85/kk7q3wb94jz88s0bdn7qntkw0000gn/T/ipykernel_3646/174309813.py:2: RuntimeWarning: overflow encountered in exp\n",
      "  return 1 / (1 + np.exp(-x))\n",
      "/var/folders/85/kk7q3wb94jz88s0bdn7qntkw0000gn/T/ipykernel_3646/174309813.py:2: RuntimeWarning: overflow encountered in exp\n",
      "  return 1 / (1 + np.exp(-x))\n",
      "/var/folders/85/kk7q3wb94jz88s0bdn7qntkw0000gn/T/ipykernel_3646/174309813.py:2: RuntimeWarning: overflow encountered in exp\n",
      "  return 1 / (1 + np.exp(-x))\n",
      "/var/folders/85/kk7q3wb94jz88s0bdn7qntkw0000gn/T/ipykernel_3646/174309813.py:2: RuntimeWarning: overflow encountered in exp\n",
      "  return 1 / (1 + np.exp(-x))\n",
      "/var/folders/85/kk7q3wb94jz88s0bdn7qntkw0000gn/T/ipykernel_3646/174309813.py:2: RuntimeWarning: overflow encountered in exp\n",
      "  return 1 / (1 + np.exp(-x))\n",
      "/var/folders/85/kk7q3wb94jz88s0bdn7qntkw0000gn/T/ipykernel_3646/174309813.py:2: RuntimeWarning: overflow encountered in exp\n",
      "  return 1 / (1 + np.exp(-x))\n"
     ]
    }
   ],
   "source": [
    "# 随机设置神经权值，13输入，3输出中间隐藏层100个神经元\n",
    "v1 = np.random.random((13, 100)) * 2 - 1  # 输入层->隐层\n",
    "w1 = np.random.random((100, 3)) * 2 - 1  # 隐层->输出层\n",
    "y_pred_acc = []\n",
    "\n",
    "def acc_bp_train(train_x, train_y, train_step, train_rate):\n",
    "    global v1, w1\n",
    "    iter=1\n",
    "    while iter < train_step+1:\n",
    "        for n in range(train_x.shape[0]):\n",
    "            # 随机选取一个数据\n",
    "            i = np.random.randint(train_x.shape[0])\n",
    "            x = train_x[i]\n",
    "            # 获取一个数据,将输入视为至少转换为二维的数组。\n",
    "            x = np.atleast_2d(x)\n",
    "\n",
    "             # 节点激活\n",
    "            L1 = sigmoid(np.dot(x, v1))  # 输入层->隐层\n",
    "            L2 = sigmoid(np.dot(L1, w1))  # 隐层->输出层\n",
    "\n",
    "            # 误差反向反馈\n",
    "            L2_delta = (train_y[i] - L2) * de_sigmoid(L2)  # 输出层->隐层\n",
    "            L1_delta = L2_delta.dot(w1.T) * de_sigmoid(L1)  # 隐层->输入层\n",
    "\n",
    "            # 权值更新\n",
    "            w1 = w1 + train_rate * L1.T.dot(L2_delta)  # 隐层->输出层\n",
    "            v1 = v1 + train_rate * x.T.dot(L1_delta)  # 输入层->隐层\n",
    "\n",
    "            # 每训练1000次预测一次准确率\n",
    "            if n % 1000 == 0:\n",
    "                output = predict(x_test)\n",
    "                # 投票选预测最大的数作为分类结果\n",
    "                predictions = np.argmax(output, axis=1)\n",
    "                acc = np.mean(np.equal(predictions, y_test))\n",
    "                error=repr(mean_squared_error(y_test, predictions))\n",
    "                error_list.append(error)\n",
    "                print(\"step:\", n, \"acc:\", acc)\n",
    "                print(\"error:\",n,\"error\",error)\n",
    "        # 取最后一次训练的预测结果\n",
    "        iter = iter + 1\n",
    "        y_pred_acc.append(predictions)\n",
    "\n",
    "acc_bp_train(x_train, label_train, 100, rate)"
   ],
   "metadata": {
    "collapsed": false,
    "pycharm": {
     "name": "#%%\n"
    }
   }
  },
  {
   "cell_type": "markdown",
   "source": [
    "## 构建神经网络\n",
    "\n",
    "使用TensorFlow搭建神经网络。本次使用工具Keras构建神经网络，后端使用TensorFlow训练。"
   ],
   "metadata": {
    "collapsed": false,
    "pycharm": {
     "name": "#%% md\n"
    }
   }
  },
  {
   "cell_type": "code",
   "execution_count": 7,
   "outputs": [],
   "source": [
    "# Import List\n",
    "import tensorflow as tf\n",
    "import seaborn as sns\n",
    "from sklearn.metrics import confusion_matrix, f1_score, precision_score\n",
    "from matplotlib import pyplot as plt"
   ],
   "metadata": {
    "collapsed": false,
    "pycharm": {
     "name": "#%%\n"
    }
   }
  },
  {
   "cell_type": "markdown",
   "source": [
    "导入数据，并划分训练集与测试集。\n",
    "其中，数据分割函数`train_test_split`中的`stratify`参数保证了训练集与测试集的葡萄酒品类比例与总样本中的比例相同。`shuffle`参数让数据进行分割前进行洗牌操作。"
   ],
   "metadata": {
    "collapsed": false,
    "pycharm": {
     "name": "#%% md\n"
    }
   }
  },
  {
   "cell_type": "code",
   "execution_count": 8,
   "outputs": [],
   "source": [
    "# 读取所有数据（不包括第一行参数）\n",
    "wine_data_tf = np.genfromtxt('wine_data.csv', delimiter=',', skip_header=1)\n",
    "# 读取所有特征数据，排除最后一列（列标签）\n",
    "X_tf = wine_data_tf[:, 0:13]\n",
    "# 标签列读取\n",
    "y_tf = wine_data_tf[:, 13]\n",
    "\n",
    "# 数据归一化\n",
    "scaler = StandardScaler()\n",
    "X_scaler = scaler.fit_transform(X_tf)\n",
    "\n",
    "# 划分训练集测试集\n",
    "x_train_tf, x_test_tf, y_train_tf, y_test_tf = train_test_split(X_scaler, y_tf, stratify=y, random_state=42, test_size=0.1, shuffle=True)\n",
    "# 数据标准化\n",
    "label_train_tf = LabelBinarizer().fit_transform(y_train_tf)"
   ],
   "metadata": {
    "collapsed": false,
    "pycharm": {
     "name": "#%%\n"
    }
   }
  },
  {
   "cell_type": "markdown",
   "source": [
    "创建TensorFlow神经网络，设置输入层、隐藏层和输出层的大小。Keras提供了非常直观的网络搭建方法，实验中使用`keras.Sequential()`序列化方法搭建网络。网络中按照顺序依次设置隐层网络的个数、激活函数，定义输入、输出口数量。\n",
    "这里首先搭建了$13\\times 16\\times 50\\times 10\\times3$的神经网络，隐层使用`Relu`激活函数。学习率设置为0.001，训练轮数为50，每轮训练进入的数据量为32。\n",
    "其次还需要设置网络的相应学习参数，包括了网络所用的损失函数、优化器等。"
   ],
   "metadata": {
    "collapsed": false,
    "pycharm": {
     "name": "#%% md\n"
    }
   }
  },
  {
   "cell_type": "code",
   "execution_count": 9,
   "outputs": [
    {
     "name": "stderr",
     "output_type": "stream",
     "text": [
      "2022-04-19 08:48:40.842138: I tensorflow/core/platform/cpu_feature_guard.cc:151] This TensorFlow binary is optimized with oneAPI Deep Neural Network Library (oneDNN) to use the following CPU instructions in performance-critical operations:  AVX2 FMA\n",
      "To enable them in other operations, rebuild TensorFlow with the appropriate compiler flags.\n"
     ]
    }
   ],
   "source": [
    "# 使用keras的层堆叠创建神经网络，包含输入层、隐层和输出层\n",
    "model_1 = tf.keras.Sequential([\n",
    "    tf.keras.layers.Dense(16, activation='relu', input_shape=[13]),\n",
    "    tf.keras.layers.Dense(50, activation='relu'),\n",
    "    tf.keras.layers.Dense(10, activation='relu'),\n",
    "    tf.keras.layers.Dense(3)\n",
    "])\n",
    "\n",
    "# 参数设置\n",
    "LEARNING_RATE = 0.001  # 学习率\n",
    "EPOCHS = 50  # 训练轮数\n",
    "BATCH_SIZE = 32  # 每轮训练进入的数据量\n",
    "\n",
    "# 通过compile调整网络学习参数\n",
    "model_1.compile(\n",
    "    # 优化器\n",
    "    optimizer=tf.keras.optimizers.Adam(learning_rate=LEARNING_RATE),\n",
    "    # 损失函数\n",
    "    loss='mse',\n",
    "    # 评估函数\n",
    "    metrics=['mae'])"
   ],
   "metadata": {
    "collapsed": false,
    "pycharm": {
     "name": "#%%\n"
    }
   }
  },
  {
   "cell_type": "markdown",
   "source": [
    "向模型输入数据进行训练"
   ],
   "metadata": {
    "collapsed": false,
    "pycharm": {
     "name": "#%% md\n"
    }
   }
  },
  {
   "cell_type": "code",
   "execution_count": 10,
   "outputs": [
    {
     "name": "stdout",
     "output_type": "stream",
     "text": [
      "Epoch 1/50\n",
      "5/5 [==============================] - 1s 51ms/step - loss: 1.6231 - mae: 1.0580 - val_loss: 1.5199 - val_mae: 1.0251\n",
      "Epoch 2/50\n",
      "5/5 [==============================] - 0s 8ms/step - loss: 1.4384 - mae: 0.9882 - val_loss: 1.3537 - val_mae: 0.9648\n",
      "Epoch 3/50\n",
      "5/5 [==============================] - 0s 8ms/step - loss: 1.2974 - mae: 0.9375 - val_loss: 1.2129 - val_mae: 0.9128\n",
      "Epoch 4/50\n",
      "5/5 [==============================] - 0s 10ms/step - loss: 1.1761 - mae: 0.8927 - val_loss: 1.0871 - val_mae: 0.8667\n",
      "Epoch 5/50\n",
      "5/5 [==============================] - 0s 12ms/step - loss: 1.0688 - mae: 0.8522 - val_loss: 0.9634 - val_mae: 0.8160\n",
      "Epoch 6/50\n",
      "5/5 [==============================] - 0s 13ms/step - loss: 0.9497 - mae: 0.8019 - val_loss: 0.8372 - val_mae: 0.7573\n",
      "Epoch 7/50\n",
      "5/5 [==============================] - 0s 14ms/step - loss: 0.8250 - mae: 0.7456 - val_loss: 0.7015 - val_mae: 0.6883\n",
      "Epoch 8/50\n",
      "5/5 [==============================] - 0s 13ms/step - loss: 0.6921 - mae: 0.6808 - val_loss: 0.5593 - val_mae: 0.6079\n",
      "Epoch 9/50\n",
      "5/5 [==============================] - 0s 13ms/step - loss: 0.5540 - mae: 0.6035 - val_loss: 0.4191 - val_mae: 0.5156\n",
      "Epoch 10/50\n",
      "5/5 [==============================] - 0s 15ms/step - loss: 0.4218 - mae: 0.5240 - val_loss: 0.2939 - val_mae: 0.4315\n",
      "Epoch 11/50\n",
      "5/5 [==============================] - 0s 9ms/step - loss: 0.3051 - mae: 0.4449 - val_loss: 0.1959 - val_mae: 0.3547\n",
      "Epoch 12/50\n",
      "5/5 [==============================] - 0s 10ms/step - loss: 0.2155 - mae: 0.3725 - val_loss: 0.1350 - val_mae: 0.2913\n",
      "Epoch 13/50\n",
      "5/5 [==============================] - 0s 10ms/step - loss: 0.1617 - mae: 0.3256 - val_loss: 0.1086 - val_mae: 0.2565\n",
      "Epoch 14/50\n",
      "5/5 [==============================] - 0s 11ms/step - loss: 0.1345 - mae: 0.2915 - val_loss: 0.1002 - val_mae: 0.2407\n",
      "Epoch 15/50\n",
      "5/5 [==============================] - 0s 10ms/step - loss: 0.1222 - mae: 0.2708 - val_loss: 0.0979 - val_mae: 0.2319\n",
      "Epoch 16/50\n",
      "5/5 [==============================] - 0s 12ms/step - loss: 0.1132 - mae: 0.2609 - val_loss: 0.0958 - val_mae: 0.2310\n",
      "Epoch 17/50\n",
      "5/5 [==============================] - 0s 10ms/step - loss: 0.1053 - mae: 0.2533 - val_loss: 0.0926 - val_mae: 0.2289\n",
      "Epoch 18/50\n",
      "5/5 [==============================] - 0s 10ms/step - loss: 0.0980 - mae: 0.2449 - val_loss: 0.0873 - val_mae: 0.2211\n",
      "Epoch 19/50\n",
      "5/5 [==============================] - 0s 12ms/step - loss: 0.0916 - mae: 0.2359 - val_loss: 0.0825 - val_mae: 0.2143\n",
      "Epoch 20/50\n",
      "5/5 [==============================] - 0s 10ms/step - loss: 0.0852 - mae: 0.2261 - val_loss: 0.0793 - val_mae: 0.2093\n",
      "Epoch 21/50\n",
      "5/5 [==============================] - 0s 9ms/step - loss: 0.0805 - mae: 0.2186 - val_loss: 0.0773 - val_mae: 0.2078\n",
      "Epoch 22/50\n",
      "5/5 [==============================] - 0s 11ms/step - loss: 0.0760 - mae: 0.2115 - val_loss: 0.0761 - val_mae: 0.2056\n",
      "Epoch 23/50\n",
      "5/5 [==============================] - 0s 10ms/step - loss: 0.0722 - mae: 0.2055 - val_loss: 0.0748 - val_mae: 0.2038\n",
      "Epoch 24/50\n",
      "5/5 [==============================] - 0s 8ms/step - loss: 0.0689 - mae: 0.1995 - val_loss: 0.0736 - val_mae: 0.2002\n",
      "Epoch 25/50\n",
      "5/5 [==============================] - 0s 11ms/step - loss: 0.0655 - mae: 0.1933 - val_loss: 0.0733 - val_mae: 0.2005\n",
      "Epoch 26/50\n",
      "5/5 [==============================] - 0s 10ms/step - loss: 0.0623 - mae: 0.1877 - val_loss: 0.0727 - val_mae: 0.1990\n",
      "Epoch 27/50\n",
      "5/5 [==============================] - 0s 10ms/step - loss: 0.0597 - mae: 0.1836 - val_loss: 0.0722 - val_mae: 0.1992\n",
      "Epoch 28/50\n",
      "5/5 [==============================] - 0s 9ms/step - loss: 0.0567 - mae: 0.1787 - val_loss: 0.0715 - val_mae: 0.1975\n",
      "Epoch 29/50\n",
      "5/5 [==============================] - 0s 9ms/step - loss: 0.0541 - mae: 0.1742 - val_loss: 0.0708 - val_mae: 0.1954\n",
      "Epoch 30/50\n",
      "5/5 [==============================] - 0s 10ms/step - loss: 0.0520 - mae: 0.1705 - val_loss: 0.0703 - val_mae: 0.1943\n",
      "Epoch 31/50\n",
      "5/5 [==============================] - 0s 12ms/step - loss: 0.0500 - mae: 0.1670 - val_loss: 0.0698 - val_mae: 0.1939\n",
      "Epoch 32/50\n",
      "5/5 [==============================] - 0s 11ms/step - loss: 0.0479 - mae: 0.1638 - val_loss: 0.0695 - val_mae: 0.1934\n",
      "Epoch 33/50\n",
      "5/5 [==============================] - 0s 9ms/step - loss: 0.0463 - mae: 0.1613 - val_loss: 0.0686 - val_mae: 0.1923\n",
      "Epoch 34/50\n",
      "5/5 [==============================] - 0s 9ms/step - loss: 0.0444 - mae: 0.1575 - val_loss: 0.0678 - val_mae: 0.1883\n",
      "Epoch 35/50\n",
      "5/5 [==============================] - 0s 9ms/step - loss: 0.0429 - mae: 0.1546 - val_loss: 0.0676 - val_mae: 0.1875\n",
      "Epoch 36/50\n",
      "5/5 [==============================] - 0s 8ms/step - loss: 0.0413 - mae: 0.1515 - val_loss: 0.0669 - val_mae: 0.1877\n",
      "Epoch 37/50\n",
      "5/5 [==============================] - 0s 8ms/step - loss: 0.0400 - mae: 0.1499 - val_loss: 0.0668 - val_mae: 0.1876\n",
      "Epoch 38/50\n",
      "5/5 [==============================] - 0s 10ms/step - loss: 0.0385 - mae: 0.1469 - val_loss: 0.0660 - val_mae: 0.1856\n",
      "Epoch 39/50\n",
      "5/5 [==============================] - 0s 11ms/step - loss: 0.0372 - mae: 0.1442 - val_loss: 0.0654 - val_mae: 0.1834\n",
      "Epoch 40/50\n",
      "5/5 [==============================] - 0s 11ms/step - loss: 0.0361 - mae: 0.1421 - val_loss: 0.0647 - val_mae: 0.1827\n",
      "Epoch 41/50\n",
      "5/5 [==============================] - 0s 12ms/step - loss: 0.0350 - mae: 0.1399 - val_loss: 0.0643 - val_mae: 0.1813\n",
      "Epoch 42/50\n",
      "5/5 [==============================] - 0s 11ms/step - loss: 0.0340 - mae: 0.1379 - val_loss: 0.0640 - val_mae: 0.1805\n",
      "Epoch 43/50\n",
      "5/5 [==============================] - 0s 10ms/step - loss: 0.0330 - mae: 0.1360 - val_loss: 0.0631 - val_mae: 0.1799\n",
      "Epoch 44/50\n",
      "5/5 [==============================] - 0s 9ms/step - loss: 0.0321 - mae: 0.1344 - val_loss: 0.0626 - val_mae: 0.1797\n",
      "Epoch 45/50\n",
      "5/5 [==============================] - 0s 9ms/step - loss: 0.0310 - mae: 0.1323 - val_loss: 0.0619 - val_mae: 0.1782\n",
      "Epoch 46/50\n",
      "5/5 [==============================] - 0s 11ms/step - loss: 0.0303 - mae: 0.1302 - val_loss: 0.0623 - val_mae: 0.1778\n",
      "Epoch 47/50\n",
      "5/5 [==============================] - 0s 9ms/step - loss: 0.0295 - mae: 0.1280 - val_loss: 0.0622 - val_mae: 0.1773\n",
      "Epoch 48/50\n",
      "5/5 [==============================] - 0s 9ms/step - loss: 0.0287 - mae: 0.1266 - val_loss: 0.0615 - val_mae: 0.1764\n",
      "Epoch 49/50\n",
      "5/5 [==============================] - 0s 8ms/step - loss: 0.0280 - mae: 0.1251 - val_loss: 0.0611 - val_mae: 0.1757\n",
      "Epoch 50/50\n",
      "5/5 [==============================] - 0s 8ms/step - loss: 0.0274 - mae: 0.1237 - val_loss: 0.0610 - val_mae: 0.1748\n",
      "Model: \"sequential\"\n",
      "_________________________________________________________________\n",
      " Layer (type)                Output Shape              Param #   \n",
      "=================================================================\n",
      " dense (Dense)               (None, 16)                224       \n",
      "                                                                 \n",
      " dense_1 (Dense)             (None, 50)                850       \n",
      "                                                                 \n",
      " dense_2 (Dense)             (None, 10)                510       \n",
      "                                                                 \n",
      " dense_3 (Dense)             (None, 3)                 33        \n",
      "                                                                 \n",
      "=================================================================\n",
      "Total params: 1,617\n",
      "Trainable params: 1,617\n",
      "Non-trainable params: 0\n",
      "_________________________________________________________________\n"
     ]
    }
   ],
   "source": [
    "history_1 = model_1.fit(x_train_tf, y_train_tf,\n",
    "                        batch_size=BATCH_SIZE,\n",
    "                        epochs=EPOCHS,\n",
    "                        validation_data=(x_test_tf, y_test_tf),\n",
    "                        validation_freq=1)\n",
    "\n",
    "model_1.summary()"
   ],
   "metadata": {
    "collapsed": false,
    "pycharm": {
     "name": "#%%\n"
    }
   }
  },
  {
   "cell_type": "markdown",
   "source": [
    "结果可视化，输出每轮训练后均方误差、损失函数随次数变化后的曲线。"
   ],
   "metadata": {
    "collapsed": false,
    "pycharm": {
     "name": "#%% md\n"
    }
   }
  },
  {
   "cell_type": "code",
   "execution_count": 11,
   "outputs": [],
   "source": [
    "def plot_results(history):\n",
    "    '''\n",
    "    history: 模型训练后返回的训练结果\n",
    "    '''\n",
    "    # 显示MAE\n",
    "    plt.figure(figsize=(10, 10))\n",
    "    epoch_range = range(1, EPOCHS + 1)  # 横轴范围\n",
    "    plt.plot(epoch_range, history.history['mae'], label = 'train_mae')\n",
    "    plt.plot(epoch_range, history.history['val_mae'], label = 'val_mae')\n",
    "    plt.title(\"MAE\")\n",
    "    plt.xlabel(\"Epoch\")\n",
    "    plt.ylabel(\"mae\")\n",
    "    plt.legend(loc = 'best')\n",
    "    plt.show()\n",
    "\n",
    "    # 显示LOSS\n",
    "    plt.figure(figsize=(10, 10))\n",
    "    plt.plot(epoch_range, history.history['loss'], label = 'train_loss')\n",
    "    plt.plot(epoch_range, history.history['val_loss'], label = 'val_moss')\n",
    "    plt.title(\"LOSS\")\n",
    "    plt.xlabel(\"Epoch\")\n",
    "    plt.ylabel(\"loss\")\n",
    "    plt.legend(loc = 'best')\n",
    "    plt.show()\n"
   ],
   "metadata": {
    "collapsed": false,
    "pycharm": {
     "name": "#%%\n"
    }
   }
  },
  {
   "cell_type": "code",
   "execution_count": 12,
   "outputs": [
    {
     "data": {
      "text/plain": "<Figure size 720x720 with 1 Axes>",
      "image/png": "[encoded data removed]"
     },
     "metadata": {
      "needs_background": "light"
     },
     "output_type": "display_data"
    },
    {
     "data": {
      "text/plain": "<Figure size 720x720 with 1 Axes>",
      "image/png": "[encoded data removed]"
     },
     "metadata": {
      "needs_background": "light"
     },
     "output_type": "display_data"
    }
   ],
   "source": [
    "plot_results(history_1)"
   ],
   "metadata": {
    "collapsed": false,
    "pycharm": {
     "name": "#%%\n"
    }
   }
  },
  {
   "cell_type": "markdown",
   "source": [
    "使用测试数据对模型进行验证。"
   ],
   "metadata": {
    "collapsed": false,
    "pycharm": {
     "name": "#%% md\n"
    }
   }
  },
  {
   "cell_type": "code",
   "execution_count": 13,
   "outputs": [
    {
     "name": "stdout",
     "output_type": "stream",
     "text": [
      "1/1 [==============================] - 0s 17ms/step - loss: 0.0610 - mae: 0.1748\n",
      "验证损失： 0.061024829745292664\n",
      "验证mae 0.1747676581144333\n"
     ]
    }
   ],
   "source": [
    "def model_evaluation(model):\n",
    "    eval_loss, eval_mae = model.evaluate(x_test_tf, y_test_tf, batch_size = BATCH_SIZE, verbose = 1)\n",
    "    print(\"验证损失：\", eval_loss)\n",
    "    print(\"验证mae\", eval_mae)\n",
    "\n",
    "model_evaluation(model_1)"
   ],
   "metadata": {
    "collapsed": false,
    "pycharm": {
     "name": "#%%\n"
    }
   }
  },
  {
   "cell_type": "markdown",
   "source": [
    "输出模型的混淆函数，准确率。"
   ],
   "metadata": {
    "collapsed": false,
    "pycharm": {
     "name": "#%% md\n"
    }
   }
  },
  {
   "cell_type": "code",
   "execution_count": 14,
   "outputs": [
    {
     "name": "stdout",
     "output_type": "stream",
     "text": [
      "F1_Score:  0.3682539682539683\n"
     ]
    },
    {
     "data": {
      "text/plain": "<Figure size 576x576 with 2 Axes>",
      "image/png": "[encoded data removed]"
     },
     "metadata": {
      "needs_background": "light"
     },
     "output_type": "display_data"
    }
   ],
   "source": [
    "# y_pred = model.predict_classes(x_test_tf) # TF中新版本已经弃用此方法，使用下面方法获取测试数据\n",
    "predict_x=model_1.predict(x_test_tf)\n",
    "y_pred=np.argmax(predict_x,axis=1)\n",
    "print(\"F1_Score: \", f1_score(y_test_tf, y_pred, average=\"macro\"))\n",
    "con_mat = confusion_matrix(y_test_tf, y_pred)\n",
    "con_mat_norm = con_mat.astype('float') / con_mat.sum(axis=1)[:, np.newaxis]  # 归一化\n",
    "con_mat_norm = np.around(con_mat_norm, decimals=2)\n",
    "\n",
    "# 绘制混淆矩阵\n",
    "plt.figure(figsize=(8, 8))\n",
    "sns.heatmap(con_mat_norm, annot=True, cmap='Blues')\n",
    "\n",
    "plt.ylim(0, 5)\n",
    "plt.xlabel('Predicted labels')\n",
    "plt.ylabel('True labels')\n",
    "plt.show()"
   ],
   "metadata": {
    "collapsed": false,
    "pycharm": {
     "name": "#%%\n"
    }
   }
  },
  {
   "cell_type": "markdown",
   "source": [
    "改变隐藏层网络，这里创建规格为$13\\times 32\\times 100\\times 64\\times3$的神经网络，保持其他条件不变，训练并测试该神经网络。"
   ],
   "metadata": {
    "collapsed": false,
    "pycharm": {
     "name": "#%% md\n"
    }
   }
  },
  {
   "cell_type": "code",
   "execution_count": 15,
   "outputs": [
    {
     "name": "stdout",
     "output_type": "stream",
     "text": [
      "Epoch 1/50\n",
      "5/5 [==============================] - 1s 76ms/step - loss: 1.4299 - mae: 0.9523 - val_loss: 1.3488 - val_mae: 0.9297\n",
      "Epoch 2/50\n",
      "5/5 [==============================] - 0s 9ms/step - loss: 1.2034 - mae: 0.8662 - val_loss: 1.1433 - val_mae: 0.8480\n",
      "Epoch 3/50\n",
      "5/5 [==============================] - 0s 10ms/step - loss: 1.0149 - mae: 0.7989 - val_loss: 0.9552 - val_mae: 0.7768\n",
      "Epoch 4/50\n",
      "5/5 [==============================] - 0s 12ms/step - loss: 0.8305 - mae: 0.7240 - val_loss: 0.7810 - val_mae: 0.6976\n",
      "Epoch 5/50\n",
      "5/5 [==============================] - 0s 10ms/step - loss: 0.6559 - mae: 0.6403 - val_loss: 0.5892 - val_mae: 0.6026\n",
      "Epoch 6/50\n",
      "5/5 [==============================] - 0s 11ms/step - loss: 0.4738 - mae: 0.5494 - val_loss: 0.3976 - val_mae: 0.4941\n",
      "Epoch 7/50\n",
      "5/5 [==============================] - 0s 11ms/step - loss: 0.3013 - mae: 0.4490 - val_loss: 0.2390 - val_mae: 0.3880\n",
      "Epoch 8/50\n",
      "5/5 [==============================] - 0s 13ms/step - loss: 0.1761 - mae: 0.3522 - val_loss: 0.1354 - val_mae: 0.2994\n",
      "Epoch 9/50\n",
      "5/5 [==============================] - 0s 12ms/step - loss: 0.1147 - mae: 0.2838 - val_loss: 0.0990 - val_mae: 0.2624\n",
      "Epoch 10/50\n",
      "5/5 [==============================] - 0s 13ms/step - loss: 0.0946 - mae: 0.2440 - val_loss: 0.0967 - val_mae: 0.2440\n",
      "Epoch 11/50\n",
      "5/5 [==============================] - 0s 10ms/step - loss: 0.0827 - mae: 0.2168 - val_loss: 0.0942 - val_mae: 0.2448\n",
      "Epoch 12/50\n",
      "5/5 [==============================] - 0s 10ms/step - loss: 0.0695 - mae: 0.2014 - val_loss: 0.0912 - val_mae: 0.2444\n",
      "Epoch 13/50\n",
      "5/5 [==============================] - 0s 10ms/step - loss: 0.0640 - mae: 0.1937 - val_loss: 0.0883 - val_mae: 0.2419\n",
      "Epoch 14/50\n",
      "5/5 [==============================] - 0s 8ms/step - loss: 0.0590 - mae: 0.1855 - val_loss: 0.0803 - val_mae: 0.2283\n",
      "Epoch 15/50\n",
      "5/5 [==============================] - 0s 8ms/step - loss: 0.0525 - mae: 0.1727 - val_loss: 0.0702 - val_mae: 0.2106\n",
      "Epoch 16/50\n",
      "5/5 [==============================] - 0s 8ms/step - loss: 0.0474 - mae: 0.1641 - val_loss: 0.0648 - val_mae: 0.1994\n",
      "Epoch 17/50\n",
      "5/5 [==============================] - 0s 9ms/step - loss: 0.0455 - mae: 0.1610 - val_loss: 0.0619 - val_mae: 0.1931\n",
      "Epoch 18/50\n",
      "5/5 [==============================] - 0s 10ms/step - loss: 0.0434 - mae: 0.1573 - val_loss: 0.0599 - val_mae: 0.1890\n",
      "Epoch 19/50\n",
      "5/5 [==============================] - 0s 10ms/step - loss: 0.0409 - mae: 0.1522 - val_loss: 0.0589 - val_mae: 0.1881\n",
      "Epoch 20/50\n",
      "5/5 [==============================] - 0s 11ms/step - loss: 0.0387 - mae: 0.1471 - val_loss: 0.0578 - val_mae: 0.1872\n",
      "Epoch 21/50\n",
      "5/5 [==============================] - 0s 11ms/step - loss: 0.0371 - mae: 0.1432 - val_loss: 0.0572 - val_mae: 0.1865\n",
      "Epoch 22/50\n",
      "5/5 [==============================] - 0s 11ms/step - loss: 0.0355 - mae: 0.1397 - val_loss: 0.0558 - val_mae: 0.1833\n",
      "Epoch 23/50\n",
      "5/5 [==============================] - 0s 11ms/step - loss: 0.0341 - mae: 0.1366 - val_loss: 0.0543 - val_mae: 0.1800\n",
      "Epoch 24/50\n",
      "5/5 [==============================] - 0s 9ms/step - loss: 0.0325 - mae: 0.1335 - val_loss: 0.0529 - val_mae: 0.1761\n",
      "Epoch 25/50\n",
      "5/5 [==============================] - 0s 10ms/step - loss: 0.0311 - mae: 0.1303 - val_loss: 0.0522 - val_mae: 0.1739\n",
      "Epoch 26/50\n",
      "5/5 [==============================] - 0s 11ms/step - loss: 0.0299 - mae: 0.1277 - val_loss: 0.0520 - val_mae: 0.1725\n",
      "Epoch 27/50\n",
      "5/5 [==============================] - 0s 12ms/step - loss: 0.0289 - mae: 0.1257 - val_loss: 0.0512 - val_mae: 0.1702\n",
      "Epoch 28/50\n",
      "5/5 [==============================] - 0s 13ms/step - loss: 0.0276 - mae: 0.1227 - val_loss: 0.0510 - val_mae: 0.1695\n",
      "Epoch 29/50\n",
      "5/5 [==============================] - 0s 11ms/step - loss: 0.0266 - mae: 0.1206 - val_loss: 0.0505 - val_mae: 0.1679\n",
      "Epoch 30/50\n",
      "5/5 [==============================] - 0s 12ms/step - loss: 0.0258 - mae: 0.1184 - val_loss: 0.0496 - val_mae: 0.1661\n",
      "Epoch 31/50\n",
      "5/5 [==============================] - 0s 10ms/step - loss: 0.0248 - mae: 0.1163 - val_loss: 0.0495 - val_mae: 0.1653\n",
      "Epoch 32/50\n",
      "5/5 [==============================] - 0s 9ms/step - loss: 0.0239 - mae: 0.1139 - val_loss: 0.0492 - val_mae: 0.1642\n",
      "Epoch 33/50\n",
      "5/5 [==============================] - 0s 9ms/step - loss: 0.0231 - mae: 0.1121 - val_loss: 0.0486 - val_mae: 0.1636\n",
      "Epoch 34/50\n",
      "5/5 [==============================] - 0s 10ms/step - loss: 0.0222 - mae: 0.1100 - val_loss: 0.0479 - val_mae: 0.1627\n",
      "Epoch 35/50\n",
      "5/5 [==============================] - 0s 8ms/step - loss: 0.0215 - mae: 0.1082 - val_loss: 0.0478 - val_mae: 0.1617\n",
      "Epoch 36/50\n",
      "5/5 [==============================] - 0s 8ms/step - loss: 0.0210 - mae: 0.1067 - val_loss: 0.0476 - val_mae: 0.1613\n",
      "Epoch 37/50\n",
      "5/5 [==============================] - 0s 8ms/step - loss: 0.0202 - mae: 0.1045 - val_loss: 0.0477 - val_mae: 0.1611\n",
      "Epoch 38/50\n",
      "5/5 [==============================] - 0s 8ms/step - loss: 0.0196 - mae: 0.1027 - val_loss: 0.0474 - val_mae: 0.1604\n",
      "Epoch 39/50\n",
      "5/5 [==============================] - 0s 10ms/step - loss: 0.0191 - mae: 0.1014 - val_loss: 0.0463 - val_mae: 0.1588\n",
      "Epoch 40/50\n",
      "5/5 [==============================] - 0s 11ms/step - loss: 0.0185 - mae: 0.0997 - val_loss: 0.0464 - val_mae: 0.1588\n",
      "Epoch 41/50\n",
      "5/5 [==============================] - 0s 8ms/step - loss: 0.0180 - mae: 0.0984 - val_loss: 0.0456 - val_mae: 0.1577\n",
      "Epoch 42/50\n",
      "5/5 [==============================] - 0s 13ms/step - loss: 0.0173 - mae: 0.0963 - val_loss: 0.0457 - val_mae: 0.1573\n",
      "Epoch 43/50\n",
      "5/5 [==============================] - 0s 10ms/step - loss: 0.0167 - mae: 0.0944 - val_loss: 0.0457 - val_mae: 0.1569\n",
      "Epoch 44/50\n",
      "5/5 [==============================] - 0s 9ms/step - loss: 0.0163 - mae: 0.0930 - val_loss: 0.0457 - val_mae: 0.1565\n",
      "Epoch 45/50\n",
      "5/5 [==============================] - 0s 10ms/step - loss: 0.0158 - mae: 0.0917 - val_loss: 0.0447 - val_mae: 0.1553\n",
      "Epoch 46/50\n",
      "5/5 [==============================] - 0s 8ms/step - loss: 0.0153 - mae: 0.0902 - val_loss: 0.0444 - val_mae: 0.1549\n",
      "Epoch 47/50\n",
      "5/5 [==============================] - 0s 9ms/step - loss: 0.0149 - mae: 0.0892 - val_loss: 0.0445 - val_mae: 0.1548\n",
      "Epoch 48/50\n",
      "5/5 [==============================] - 0s 11ms/step - loss: 0.0144 - mae: 0.0872 - val_loss: 0.0447 - val_mae: 0.1541\n",
      "Epoch 49/50\n",
      "5/5 [==============================] - 0s 9ms/step - loss: 0.0141 - mae: 0.0862 - val_loss: 0.0438 - val_mae: 0.1534\n",
      "Epoch 50/50\n",
      "5/5 [==============================] - 0s 11ms/step - loss: 0.0138 - mae: 0.0853 - val_loss: 0.0442 - val_mae: 0.1531\n",
      "Model: \"sequential_1\"\n",
      "_________________________________________________________________\n",
      " Layer (type)                Output Shape              Param #   \n",
      "=================================================================\n",
      " dense_4 (Dense)             (None, 32)                448       \n",
      "                                                                 \n",
      " dense_5 (Dense)             (None, 50)                1650      \n",
      "                                                                 \n",
      " dense_6 (Dense)             (None, 32)                1632      \n",
      "                                                                 \n",
      " dense_7 (Dense)             (None, 3)                 99        \n",
      "                                                                 \n",
      "=================================================================\n",
      "Total params: 3,829\n",
      "Trainable params: 3,829\n",
      "Non-trainable params: 0\n",
      "_________________________________________________________________\n"
     ]
    }
   ],
   "source": [
    "model_2 = tf.keras.Sequential([\n",
    "    tf.keras.layers.Dense(32, activation='relu', input_shape=[13]),\n",
    "    tf.keras.layers.Dense(50, activation='relu'),\n",
    "    tf.keras.layers.Dense(32, activation='relu'),\n",
    "    tf.keras.layers.Dense(3)\n",
    "])\n",
    "\n",
    "model_2.compile(\n",
    "    # 优化器\n",
    "    optimizer=tf.keras.optimizers.Adam(learning_rate=LEARNING_RATE),\n",
    "    # 损失函数\n",
    "    loss='mse',\n",
    "    # 评估函数\n",
    "    metrics=['mae'])\n",
    "\n",
    "history_2 = model_2.fit(x_train_tf, y_train_tf,\n",
    "                        batch_size=BATCH_SIZE,\n",
    "                        epochs=EPOCHS,\n",
    "                        validation_data=(x_test_tf, y_test_tf),\n",
    "                        validation_freq=1)\n",
    "\n",
    "model_2.summary()"
   ],
   "metadata": {
    "collapsed": false,
    "pycharm": {
     "name": "#%%\n"
    }
   }
  },
  {
   "cell_type": "markdown",
   "source": [
    "新模型结果可视化，输出每轮训练后均方误差、损失函数随次数变化后的曲线。"
   ],
   "metadata": {
    "collapsed": false,
    "pycharm": {
     "name": "#%% md\n"
    }
   }
  },
  {
   "cell_type": "code",
   "execution_count": 16,
   "outputs": [
    {
     "data": {
      "text/plain": "<Figure size 720x720 with 1 Axes>",
      "image/png": "[encoded data removed]"
     },
     "metadata": {
      "needs_background": "light"
     },
     "output_type": "display_data"
    },
    {
     "data": {
      "text/plain": "<Figure size 720x720 with 1 Axes>",
      "image/png": "[encoded data removed]"
     },
     "metadata": {
      "needs_background": "light"
     },
     "output_type": "display_data"
    }
   ],
   "source": [
    "plot_results(history_2)"
   ],
   "metadata": {
    "collapsed": false,
    "pycharm": {
     "name": "#%%\n"
    }
   }
  },
  {
   "cell_type": "markdown",
   "source": [
    "输出新模型混淆矩阵"
   ],
   "metadata": {
    "collapsed": false,
    "pycharm": {
     "name": "#%% md\n"
    }
   }
  },
  {
   "cell_type": "code",
   "execution_count": 17,
   "outputs": [
    {
     "name": "stdout",
     "output_type": "stream",
     "text": [
      "1/1 [==============================] - 0s 17ms/step - loss: 0.0610 - mae: 0.1748\n",
      "验证损失： 0.061024829745292664\n",
      "验证mae 0.1747676581144333\n",
      "F1_Score:  0.3861693861693862\n"
     ]
    },
    {
     "data": {
      "text/plain": "<Figure size 576x576 with 2 Axes>",
      "image/png": "[encoded data removed]"
     },
     "metadata": {
      "needs_background": "light"
     },
     "output_type": "display_data"
    }
   ],
   "source": [
    "model_evaluation(model_1)\n",
    "\n",
    "predict_x_2=model_2.predict(x_test_tf)\n",
    "y_pred_2=np.argmax(predict_x_2,axis=1)\n",
    "print(\"F1_Score: \", f1_score(y_test_tf, y_pred_2, average=\"macro\"))\n",
    "con_mat = confusion_matrix(y_test_tf, y_pred_2)\n",
    "con_mat_norm = con_mat.astype('float') / con_mat.sum(axis=1)[:, np.newaxis]  # 归一化\n",
    "con_mat_norm = np.around(con_mat_norm, decimals=2)\n",
    "\n",
    "# 绘制混淆矩阵\n",
    "plt.figure(figsize=(8, 8))\n",
    "sns.heatmap(con_mat_norm, annot=True, cmap='Blues')\n",
    "\n",
    "plt.ylim(0, 5)\n",
    "plt.xlabel('Predicted labels')\n",
    "plt.ylabel('True labels')\n",
    "plt.show()"
   ],
   "metadata": {
    "collapsed": false,
    "pycharm": {
     "name": "#%%\n"
    }
   }
  }
 ],
 "metadata": {
  "kernelspec": {
   "display_name": "Python 3",
   "language": "python",
   "name": "python3"
  },
  "language_info": {
   "codemirror_mode": {
    "name": "ipython",
    "version": 2
   },
   "file_extension": ".py",
   "mimetype": "text/x-python",
   "name": "python",
   "nbconvert_exporter": "python",
   "pygments_lexer": "ipython2",
   "version": "2.7.6"
  }
 },
 "nbformat": 4,
 "nbformat_minor": 0
}