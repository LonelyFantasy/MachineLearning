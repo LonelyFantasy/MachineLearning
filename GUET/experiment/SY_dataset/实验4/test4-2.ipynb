{
 "cells": [
  {
   "cell_type": "code",
   "execution_count": 41,
   "id": "6f1d611d",
   "metadata": {
    "pycharm": {
     "name": "#%%\n"
    }
   },
   "outputs": [],
   "source": [
    "# 导入库\n",
    "import pandas as pd\n",
    "from matplotlib import pyplot as plt\n",
    "import seaborn as sns\n",
    "from sklearn import preprocessing\n",
    "from sklearn.ensemble import RandomForestClassifier\n",
    "from sklearn.metrics import confusion_matrix, ConfusionMatrixDisplay, accuracy_score, precision_score, recall_score, \\\n",
    "    f1_score, precision_recall_curve\n",
    "from sklearn.model_selection import train_test_split, GridSearchCV"
   ]
  },
  {
   "cell_type": "code",
   "execution_count": 42,
   "id": "29f5e4a1",
   "metadata": {
    "pycharm": {
     "name": "#%%\n"
    }
   },
   "outputs": [
    {
     "name": "stdout",
     "output_type": "stream",
     "text": [
      "          tau1      tau2      tau3      tau4        p1        p2        p3  \\\n",
      "0     2.959060  3.079885  8.381025  9.780754  3.763085 -0.782604 -1.257395   \n",
      "1     9.304097  4.902524  3.047541  1.369357  5.067812 -1.940058 -1.872742   \n",
      "2     8.971707  8.848428  3.046479  1.214518  3.405158 -1.207456 -1.277210   \n",
      "3     0.716415  7.669600  4.486641  2.340563  3.963791 -1.027473 -1.938944   \n",
      "4     3.134112  7.608772  4.943759  9.857573  3.525811 -1.125531 -1.845975   \n",
      "...        ...       ...       ...       ...       ...       ...       ...   \n",
      "9995  2.930406  9.487627  2.376523  6.187797  3.343416 -0.658054 -1.449106   \n",
      "9996  3.392299  1.274827  2.954947  6.894759  4.349512 -1.663661 -0.952437   \n",
      "9997  2.364034  2.842030  8.776391  1.008906  4.299976 -1.380719 -0.943884   \n",
      "9998  9.631511  3.994398  2.757071  7.821347  2.514755 -0.966330 -0.649915   \n",
      "9999  6.530527  6.781790  4.349695  8.673138  3.492807 -1.390285 -1.532193   \n",
      "\n",
      "            p4        g1        g2        g3        g4      stab     stabf  \n",
      "0    -1.723086  0.650456  0.859578  0.887445  0.958034  0.055347  unstable  \n",
      "1    -1.255012  0.413441  0.862414  0.562139  0.781760 -0.005957    stable  \n",
      "2    -0.920492  0.163041  0.766689  0.839444  0.109853  0.003471  unstable  \n",
      "3    -0.997374  0.446209  0.976744  0.929381  0.362718  0.028871  unstable  \n",
      "4    -0.554305  0.797110  0.455450  0.656947  0.820923  0.049860  unstable  \n",
      "...        ...       ...       ...       ...       ...       ...       ...  \n",
      "9995 -1.236256  0.601709  0.779642  0.813512  0.608385  0.023892  unstable  \n",
      "9996 -1.733414  0.502079  0.567242  0.285880  0.366120 -0.025803    stable  \n",
      "9997 -1.975373  0.487838  0.986505  0.149286  0.145984 -0.031810    stable  \n",
      "9998 -0.898510  0.365246  0.587558  0.889118  0.818391  0.037789  unstable  \n",
      "9999 -0.570329  0.073056  0.505441  0.378761  0.942631  0.045263  unstable  \n",
      "\n",
      "[10000 rows x 14 columns]\n"
     ]
    }
   ],
   "source": [
    "# 数据处理,sep表示用逗号\",\"分割数据\n",
    "data  = pd.read_csv('Electrical Grid Data.csv',sep=',')\n",
    "print(data)"
   ]
  },
  {
   "cell_type": "code",
   "execution_count": 43,
   "id": "9e51c22f",
   "metadata": {
    "pycharm": {
     "name": "#%%\n"
    }
   },
   "outputs": [
    {
     "data": {
      "text/plain": "<Figure size 432x288 with 2 Axes>",
      "image/png": "[encoded data removed]"
     },
     "metadata": {},
     "output_type": "display_data"
    }
   ],
   "source": [
    "# 查看各列相关性,p1 = abs(p2 + p3 + p4),p1和p2、p3和p4为负相关\n",
    "corr = data.corr()\n",
    "corr.head()\n",
    "sns.heatmap(corr,xticklabels=corr.columns.values,yticklabels=corr.columns.values)\n",
    "plt.show()"
   ]
  },
  {
   "cell_type": "code",
   "execution_count": 44,
   "id": "5b3e6e79",
   "metadata": {
    "pycharm": {
     "name": "#%%\n"
    }
   },
   "outputs": [
    {
     "name": "stdout",
     "output_type": "stream",
     "text": [
      "['tau1', 'tau2', 'tau3', 'tau4', 'p1', 'p2', 'p3', 'p4', 'g1', 'g2', 'g3', 'g4', 'stab', 'stabf']\n"
     ]
    }
   ],
   "source": [
    "# 获取data的列名['tau1', 'tau2', 'tau3', 'tau4', 'p1', 'p2', 'p3', 'p4', 'g1', 'g2', 'g3', 'g4', 'stab', 'stabf']\n",
    "name_list = data.columns.values.tolist()\n",
    "print(name_list)"
   ]
  },
  {
   "cell_type": "code",
   "execution_count": 45,
   "id": "c0070260",
   "metadata": {
    "pycharm": {
     "name": "#%%\n"
    }
   },
   "outputs": [
    {
     "name": "stdout",
     "output_type": "stream",
     "text": [
      "             0         1         2         3         4\n",
      "tau1  2.959060  9.304097  8.971707  0.716415  3.134112\n",
      "tau2  3.079885  4.902524  8.848428  7.669600  7.608772\n",
      "tau3  8.381025  3.047541  3.046479  4.486641  4.943759\n",
      "tau4  9.780754  1.369357  1.214518  2.340563  9.857573\n",
      "p2   -0.782604 -1.940058 -1.207456 -1.027473 -1.125531\n",
      "p3   -1.257395 -1.872742 -1.277210 -1.938944 -1.845975\n",
      "p4   -1.723086 -1.255012 -0.920492 -0.997374 -0.554305\n",
      "g1    0.650456  0.413441  0.163041  0.446209  0.797110\n",
      "g2    0.859578  0.862414  0.766689  0.976744  0.455450\n",
      "g3    0.887445  0.562139  0.839444  0.929381  0.656947\n",
      "g4    0.958034  0.781760  0.109853  0.362718  0.820923\n"
     ]
    }
   ],
   "source": [
    "# 获取预测属性\n",
    "X = data.drop(['p1','stab','stabf'],axis=1)\n",
    "print(X.head().T)"
   ]
  },
  {
   "cell_type": "code",
   "execution_count": 46,
   "id": "012e3fad",
   "metadata": {
    "pycharm": {
     "name": "#%%\n"
    }
   },
   "outputs": [
    {
     "name": "stdout",
     "output_type": "stream",
     "text": [
      "0       unstable\n",
      "1         stable\n",
      "2       unstable\n",
      "3       unstable\n",
      "4       unstable\n",
      "          ...   \n",
      "9995    unstable\n",
      "9996      stable\n",
      "9997      stable\n",
      "9998    unstable\n",
      "9999    unstable\n",
      "Name: stabf, Length: 10000, dtype: object\n"
     ]
    }
   ],
   "source": [
    "# 类别标签\n",
    "y = data['stabf']\n",
    "print(y)"
   ]
  },
  {
   "cell_type": "code",
   "execution_count": 47,
   "id": "88fa1f53",
   "metadata": {
    "pycharm": {
     "name": "#%%\n"
    }
   },
   "outputs": [],
   "source": [
    "# 将标签字符转换成数字\n",
    "# 获取一个LabelEncoder\n",
    "enc = preprocessing.LabelEncoder()\n",
    "y = enc.fit_transform(y)"
   ]
  },
  {
   "cell_type": "code",
   "execution_count": 48,
   "id": "09bd8539",
   "metadata": {
    "pycharm": {
     "name": "#%%\n"
    }
   },
   "outputs": [],
   "source": [
    "# 划分训练集和训练集\n",
    "X_train, X_test, y_train, y_test = train_test_split(X, y, test_size=0.25, random_state=0)"
   ]
  },
  {
   "cell_type": "code",
   "execution_count": 49,
   "id": "cabcf958",
   "metadata": {
    "pycharm": {
     "name": "#%%\n"
    }
   },
   "outputs": [],
   "source": [
    "# 配置参数\n",
    "param = {'n_estimators':list((50,100,300)),'max_depth':list((3,5,7,9)),'criterion':['gini','entropy']}\n",
    "# 随机森林模型\n",
    "forest = RandomForestClassifier(param)\n",
    "# 用GridSearchCV进行调参\n",
    "gsearsh = GridSearchCV(estimator=forest,param_grid=param,n_jobs=-1).fit(X_train, y_train)"
   ]
  },
  {
   "cell_type": "code",
   "execution_count": 50,
   "id": "9e7af49b",
   "metadata": {
    "pycharm": {
     "name": "#%%\n"
    }
   },
   "outputs": [
    {
     "name": "stdout",
     "output_type": "stream",
     "text": [
      "{'criterion': 'entropy', 'max_depth': 9, 'n_estimators': 100}\n"
     ]
    }
   ],
   "source": [
    "# 最优的参数,类型为字典dict\n",
    "best_param = gsearsh.best_params_\n",
    "print(best_param)"
   ]
  },
  {
   "cell_type": "code",
   "execution_count": 51,
   "id": "5cf7f9ff",
   "metadata": {
    "pycharm": {
     "name": "#%%\n"
    }
   },
   "outputs": [
    {
     "data": {
      "text/plain": "RandomForestClassifier(criterion='entropy', n_jobs=-1, oob_score=True)"
     },
     "execution_count": 51,
     "metadata": {},
     "output_type": "execute_result"
    }
   ],
   "source": [
    "# 使用经过网格搜索得到的最优参数,n_jobs=-1表示用上所有的处理器\n",
    "rfc = RandomForestClassifier(n_estimators = best_param[\"n_estimators\"],\n",
    "                            criterion=best_param[\"criterion\"], oob_score=True,n_jobs=-1)\n",
    "rfc.fit(X_train, y_train)"
   ]
  },
  {
   "cell_type": "code",
   "execution_count": 52,
   "id": "ea5e7c4b",
   "metadata": {
    "pycharm": {
     "name": "#%%\n"
    }
   },
   "outputs": [],
   "source": [
    "# 对y_test进行预测\n",
    "y_pred = rfc.predict(X_test)\n",
    "# predict_proba返回的是对于预测为0/1的概率\n",
    "y_proba = rfc.predict_proba(X_test)\n",
    "# 正例的概率\n",
    "y_scores = y_proba[:,1]"
   ]
  },
  {
   "cell_type": "code",
   "execution_count": 53,
   "id": "ba6c751d",
   "metadata": {
    "pycharm": {
     "name": "#%%\n"
    }
   },
   "outputs": [
    {
     "name": "stdout",
     "output_type": "stream",
     "text": [
      "Confusion matrix is \n",
      " [[ 791  140]\n",
      " [  71 1498]]\n"
     ]
    }
   ],
   "source": [
    "# 输出混淆矩阵,混淆矩阵格式如下:\n",
    "# [TN FP]\n",
    "# [FN TP]\n",
    "cm = confusion_matrix(y_test,y_pred)\n",
    "print(\"Confusion matrix is \\n\",cm)\n",
    "# confusion_matrix(混淆矩阵), display_labels(标签名称列表)\n",
    "disp = ConfusionMatrixDisplay(confusion_matrix=cm, display_labels=['0','1'])"
   ]
  },
  {
   "cell_type": "code",
   "execution_count": 54,
   "id": "6d9d5f1e",
   "metadata": {
    "pycharm": {
     "name": "#%%\n"
    }
   },
   "outputs": [
    {
     "data": {
      "text/plain": "<Figure size 432x288 with 2 Axes>",
      "image/png": "[encoded data removed]"
     },
     "metadata": {},
     "output_type": "display_data"
    }
   ],
   "source": [
    "# 绘制混淆矩阵\n",
    "disp.plot()\n",
    "plt.title(\"Confusion matrix\")\n",
    "plt.show()"
   ]
  },
  {
   "cell_type": "code",
   "execution_count": 55,
   "id": "1934f3d3",
   "metadata": {
    "pycharm": {
     "name": "#%%\n"
    }
   },
   "outputs": [
    {
     "name": "stdout",
     "output_type": "stream",
     "text": [
      "Accuracy of Label is  0.9156\n"
     ]
    }
   ],
   "source": [
    "# 准确率accuracy=(TP+TN)/(TP+FP+TN+FN)\n",
    "print(\"Accuracy of Label is \",accuracy_score(y_test,y_pred))"
   ]
  },
  {
   "cell_type": "code",
   "execution_count": 56,
   "id": "0c9d40d0",
   "metadata": {
    "pycharm": {
     "name": "#%%\n"
    }
   },
   "outputs": [
    {
     "name": "stdout",
     "output_type": "stream",
     "text": [
      "Precision of Label is  0.9145299145299145\n"
     ]
    }
   ],
   "source": [
    "# 精确度 P = TP / (TP + FP)\n",
    "print(\"Precision of Label is \",precision_score(y_test,y_pred))"
   ]
  },
  {
   "cell_type": "code",
   "execution_count": 57,
   "id": "be477415",
   "metadata": {
    "pycharm": {
     "name": "#%%\n"
    }
   },
   "outputs": [
    {
     "name": "stdout",
     "output_type": "stream",
     "text": [
      "Recall of Label is 0.9547482472912683\n"
     ]
    }
   ],
   "source": [
    "# 召回率R = TP / (TP + FN)\n",
    "print(\"Recall of Label is\",recall_score(y_test,y_pred))"
   ]
  },
  {
   "cell_type": "code",
   "execution_count": 58,
   "id": "6d629a56",
   "metadata": {
    "pycharm": {
     "name": "#%%\n"
    }
   },
   "outputs": [
    {
     "name": "stdout",
     "output_type": "stream",
     "text": [
      "F1 of Label is 0.934206423448706\n"
     ]
    }
   ],
   "source": [
    "# F1度量 F1 = (2 x P x R) / (P + R)\n",
    "print(\"F1 of Label is\",f1_score(y_test,y_pred))"
   ]
  },
  {
   "cell_type": "code",
   "execution_count": 59,
   "id": "e5908cfc",
   "metadata": {
    "pycharm": {
     "name": "#%%\n"
    }
   },
   "outputs": [
    {
     "data": {
      "text/plain": "<Figure size 432x288 with 1 Axes>",
      "image/png": "[encoded data removed]"
     },
     "metadata": {},
     "output_type": "display_data"
    }
   ],
   "source": [
    "# 绘制P-R曲线\n",
    "precision, recall, thresholds = precision_recall_curve(y_test, y_scores)\n",
    "plt.figure(\"P-R Curve\")\n",
    "plt.title('Precision/Recall Curve')\n",
    "plt.xlabel('Recall')\n",
    "plt.ylabel('Precision')\n",
    "plt.plot(recall,precision)\n",
    "plt.show()"
   ]
  },
  {
   "cell_type": "code",
   "execution_count": 60,
   "id": "222d663c",
   "metadata": {
    "pycharm": {
     "name": "#%%\n"
    }
   },
   "outputs": [
    {
     "data": {
      "text/plain": "<Figure size 432x288 with 1 Axes>",
      "image/png": "[encoded data removed]"
     },
     "metadata": {},
     "output_type": "display_data"
    }
   ],
   "source": [
    "# 绘制ROC曲线\n",
    "from sklearn import metrics\n",
    "# 计算不同阈值下，fpr和tpr的组合值，其中fpr表示1-Specificity，tpr表示Sensitivity\n",
    "fpr,tpr,threshold = metrics.roc_curve(y_test, y_scores)\n",
    "\n",
    "# 计算AUC的值\n",
    "roc_auc = metrics.auc(fpr,tpr)\n",
    "# 绘制面积图\n",
    "plt.stackplot(fpr, tpr, color='steelblue', alpha = 0.5, edgecolor = 'black')\n",
    "# 添加边际线\n",
    "plt.plot(fpr, tpr, color='black', lw = 1)\n",
    "# 添加对角线\n",
    "plt.plot([0,1],[0,1], color = 'red', linestyle = '--')\n",
    "# 添加文本信息\n",
    "plt.text(0.5,0.3,'ROC curve (area = %0.2f)' % roc_auc)\n",
    "# 添加x轴与y轴标签\n",
    "plt.xlabel('1-Specificity')\n",
    "plt.ylabel('Sensitivity')\n",
    "# 显示图形\n",
    "plt.show()"
   ]
  },
  {
   "cell_type": "code",
   "execution_count": 60,
   "id": "20f2136d",
   "metadata": {
    "pycharm": {
     "name": "#%%\n"
    }
   },
   "outputs": [],
   "source": []
  }
 ],
 "metadata": {
  "kernelspec": {
   "display_name": "Python 3",
   "language": "python",
   "name": "python3"
  },
  "language_info": {
   "codemirror_mode": {
    "name": "ipython",
    "version": 3
   },
   "file_extension": ".py",
   "mimetype": "text/x-python",
   "name": "python",
   "nbconvert_exporter": "python",
   "pygments_lexer": "ipython3",
   "version": "3.8.13"
  }
 },
 "nbformat": 4,
 "nbformat_minor": 5
}