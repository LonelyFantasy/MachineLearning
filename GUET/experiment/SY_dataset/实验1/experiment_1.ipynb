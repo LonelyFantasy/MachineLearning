{
 "cells": [
  {
   "cell_type": "code",
   "execution_count": 559,
   "metadata": {
    "pycharm": {
     "name": "#%%\n"
    }
   },
   "outputs": [],
   "source": [
    "# Import Init List\n",
    "import graphviz\n",
    "from matplotlib import pyplot as plt\n",
    "from sklearn import linear_model, preprocessing\n",
    "from sklearn.metrics import mean_squared_error\n",
    "from statsmodels.sandbox.regression.predstd import wls_prediction_std\n",
    "from math import log\n",
    "from sklearn.tree import DecisionTreeClassifier\n",
    "from sklearn import tree\n",
    "from sklearn.metrics import classification_report, accuracy_score\n",
    "import statsmodels.api as sm\n",
    "import pandas as pd\n",
    "import numpy as np\n",
    "\n",
    "#Pyplot设置\n",
    "plt.rcParams['font.sans-serif']=['DejaVu Sans']  # 中文支持\n",
    "plt.rcParams['axes.unicode_minus']=False"
   ]
  },
  {
   "cell_type": "markdown",
   "metadata": {},
   "source": [
    "# 实验1\n",
    "\n",
    "## 线性回归模型试验\n",
    "\n",
    "### 设计算法，建立线性回归模型\n",
    "\n",
    "首先对给出数据进行图形化。使用`pyplot`渲染散点图"
   ]
  },
  {
   "cell_type": "code",
   "execution_count": 560,
   "metadata": {
    "collapsed": true,
    "pycharm": {
     "name": "#%%\n"
    }
   },
   "outputs": [
    {
     "data": {
      "text/plain": "<Figure size 432x288 with 1 Axes>",
      "image/png": "[encoded data removed]"
     },
     "metadata": {
      "needs_background": "light"
     },
     "output_type": "display_data"
    }
   ],
   "source": [
    "# 导入数据\n",
    "line_data = pd.read_csv('line-ext.csv')\n",
    "# 设置图表\n",
    "plt.scatter(line_data['YearsExperience'], line_data['Salary'])\n",
    "plt.show()"
   ]
  },
  {
   "cell_type": "markdown",
   "metadata": {},
   "source": [
    "通过散点图可以发现，数据呈现线性增长趋势。数据集中为一元参数，因此使用简单线性回归模型进行模型创建。\n",
    "由线性回归公式$f(x)=bx+a$，需要求解斜率$b$和截距$a$的值。两个参数求解公式：\n",
    "$$\n",
    "\\begin{align*}\n",
    "b &= \\frac{n\\sum_{i=1}^{n}x_iy_i-\\sum_{i=1}^{n}x_i\\sum_{i=1}^{n}y_i}{n\\sum_{i=1}^{n}x_i^2-(\\sum_{i=1}^{n}x_i)^2}\\\\\n",
    "a &= \\bar y - b\\bar x\n",
    "\\end{align*}\n",
    "$$"
   ]
  },
  {
   "cell_type": "code",
   "execution_count": 561,
   "metadata": {
    "pycharm": {
     "name": "#%%\n"
    }
   },
   "outputs": [
    {
     "name": "stdout",
     "output_type": "stream",
     "text": [
      "斜率b： 1.6953226421712224 \n",
      "截距a： 3.0077432426975887\n",
      "模型表达式：y = 1.6953226421712224 x + 3.0077432426975887\n"
     ]
    }
   ],
   "source": [
    "# 样本数量\n",
    "line_data_num = line_data.shape[0]\n",
    "# 参数和计算\n",
    "sum_x = line_data.YearsExperience.sum()\n",
    "sum_y = line_data.Salary.sum()\n",
    "sum_x_2 = line_data.YearsExperience.pow(2).sum()\n",
    "xy = line_data.YearsExperience * line_data.Salary\n",
    "sum_xy = xy.sum()\n",
    "# 根据公式计算回归模型的参数\n",
    "b = (sum_xy - sum_x * sum_y / line_data_num) / (sum_x_2 - sum_x **2 / line_data_num)\n",
    "a = line_data.Salary.mean() - b * line_data.YearsExperience.mean()\n",
    "\n",
    "print('斜率b：',b,'\\n截距a：',a)\n",
    "print('模型表达式：y =',b,'x +',a)"
   ]
  },
  {
   "cell_type": "markdown",
   "metadata": {},
   "source": [
    "散点图绘制以及输出均方误差$MSE$如下所示。"
   ]
  },
  {
   "cell_type": "code",
   "execution_count": 562,
   "metadata": {
    "pycharm": {
     "name": "#%%\n"
    }
   },
   "outputs": [
    {
     "data": {
      "text/plain": "<Figure size 432x288 with 1 Axes>",
      "image/png": "[encoded data removed]"
     },
     "metadata": {
      "needs_background": "light"
     },
     "output_type": "display_data"
    }
   ],
   "source": [
    "plt.scatter(line_data['YearsExperience'], line_data['Salary'])\n",
    "plt.plot(np.arange(0, 1, 0.1), b * np.arange(0, 1, 0.1) + a, c = 'red')\n",
    "plt.xlabel('YearsExperience')\n",
    "plt.ylabel('Salary')\n",
    "plt.title('Linear Regression')\n",
    "plt.show()"
   ]
  },
  {
   "cell_type": "code",
   "execution_count": 563,
   "outputs": [
    {
     "name": "stdout",
     "output_type": "stream",
     "text": [
      "均方误差MSE为： 0.006776245408407456\n"
     ]
    }
   ],
   "source": [
    "# 均方误差\n",
    "mse_res = []\n",
    "mse_pre = []\n",
    "lr_pre_x = []\n",
    "for index, row in line_data.iterrows():\n",
    "    mse_pre.append(float(row[1]))\n",
    "    mse_res.append(float(row[0] * b + a))\n",
    "    lr_pre_x.append(float(row[0]))\n",
    "print(\"均方误差MSE为：\", mean_squared_error(mse_res, mse_pre))"
   ],
   "metadata": {
    "collapsed": false,
    "pycharm": {
     "name": "#%%\n"
    }
   }
  },
  {
   "cell_type": "markdown",
   "metadata": {},
   "source": [
    "预测值为`x = 0.8452`时，有如下结果："
   ]
  },
  {
   "cell_type": "code",
   "execution_count": 564,
   "metadata": {
    "pycharm": {
     "name": "#%%\n"
    }
   },
   "outputs": [
    {
     "name": "stdout",
     "output_type": "stream",
     "text": [
      "计算预测值为： 4.440629939860706\n"
     ]
    }
   ],
   "source": [
    "key_value = 0.8452\n",
    "m = b * key_value + a\n",
    "print(\"计算预测值为：\", m)"
   ]
  },
  {
   "cell_type": "markdown",
   "metadata": {},
   "source": [
    "### 模型使用\n",
    "\n",
    "#### sklearn.LinearRegression\n",
    "\n",
    "使用过程：\n",
    "\n",
    "1. 导入模块，创建模块对象。\n",
    "2. 导入数据，向模型声明自变量、因变量。\n",
    "3. 模型训练。\n",
    "4. 对模型进行检验。\n",
    "5. 使用模型进行预测，查看模型训练的参数数据。"
   ]
  },
  {
   "cell_type": "code",
   "execution_count": 565,
   "metadata": {
    "pycharm": {
     "name": "#%%\n"
    }
   },
   "outputs": [
    {
     "name": "stdout",
     "output_type": "stream",
     "text": [
      "模型准确率： 0.9731300889856915\n"
     ]
    }
   ],
   "source": [
    "# 创建LinearRegression\n",
    "lr = linear_model.LinearRegression()\n",
    "\n",
    "# 添加自变量、因变量\n",
    "lr_x = line_data[['YearsExperience']]\n",
    "lr_y = line_data[['Salary']]\n",
    "\n",
    "# 模型训练\n",
    "lr.fit(lr_x, lr_y)\n",
    "\n",
    "# 模型检验，输出准确率\n",
    "print(\"模型准确率：\", lr.score(lr_x, lr_y))"
   ]
  },
  {
   "cell_type": "markdown",
   "metadata": {},
   "source": [
    "下面对模型预测回归方程和散点图进行输出"
   ]
  },
  {
   "cell_type": "code",
   "execution_count": 566,
   "outputs": [
    {
     "data": {
      "text/plain": "<Figure size 576x432 with 1 Axes>",
      "image/png": "[encoded data removed]"
     },
     "metadata": {
      "needs_background": "light"
     },
     "output_type": "display_data"
    }
   ],
   "source": [
    "fig, ax = plt.subplots(figsize=(8,6))\n",
    "ax.plot(line_data.YearsExperience, line_data.Salary, 'o', label='data') # 原始样本\n",
    "lr_pre = lr.predict(lr_x)   # 预测结果保存\n",
    "lr_pre_y = []\n",
    "for i in lr_pre:\n",
    "    for j in i:\n",
    "        lr_pre_y.append(float(j))\n",
    "plt.plot(lr_pre_x, lr_pre_y, color='red', linewidth=3)\n",
    "plt.xlabel('YearsExperience')\n",
    "plt.ylabel('Salary')\n",
    "plt.title('Linear Regression with linear_model.LinearRegression()')\n",
    "plt.show()"
   ],
   "metadata": {
    "collapsed": false,
    "pycharm": {
     "name": "#%%\n"
    }
   }
  },
  {
   "cell_type": "markdown",
   "metadata": {},
   "source": [
    "对给出待测试自变量进行预测：\n",
    "可以发现，该模型下预测结果与使用算法进行预测的结果基本一致。"
   ]
  },
  {
   "cell_type": "code",
   "execution_count": 567,
   "metadata": {
    "pycharm": {
     "name": "#%%\n"
    }
   },
   "outputs": [
    {
     "name": "stderr",
     "output_type": "stream",
     "text": [
      "/Users/orekimai/.conda/envs/MachineLearning/lib/python3.7/site-packages/sklearn/base.py:451: UserWarning: X does not have valid feature names, but LinearRegression was fitted with feature names\n",
      "  \"X does not have valid feature names, but\"\n"
     ]
    },
    {
     "data": {
      "text/plain": "array([[4.44062994]])"
     },
     "execution_count": 567,
     "metadata": {},
     "output_type": "execute_result"
    }
   ],
   "source": [
    "# 模型预测\n",
    "lr.predict([[key_value]])"
   ]
  },
  {
   "cell_type": "markdown",
   "metadata": {},
   "source": [
    "#### statsmodels.ols()\n",
    "\n",
    "使用过程：\n",
    "1. 导入`statesmodels.ols`模块。\n",
    "2. 设置自变量、因变量。\n",
    "3. 创建OLDS实例，设置对应参数。\n",
    "4. 模型训练。\n",
    "5. 模型检验预测。"
   ]
  },
  {
   "cell_type": "code",
   "execution_count": 568,
   "metadata": {
    "pycharm": {
     "name": "#%%\n"
    }
   },
   "outputs": [
    {
     "name": "stdout",
     "output_type": "stream",
     "text": [
      "                            OLS Regression Results                            \n",
      "==============================================================================\n",
      "Dep. Variable:                 Salary   R-squared:                       0.973\n",
      "Model:                            OLS   Adj. R-squared:                  0.973\n",
      "Method:                 Least Squares   F-statistic:                     7171.\n",
      "Date:                Tue, 29 Mar 2022   Prob (F-statistic):          1.80e-157\n",
      "Time:                        10:17:20   Log-Likelihood:                 215.65\n",
      "No. Observations:                 200   AIC:                            -427.3\n",
      "Df Residuals:                     198   BIC:                            -420.7\n",
      "Df Model:                           1                                         \n",
      "Covariance Type:            nonrobust                                         \n",
      "===================================================================================\n",
      "                      coef    std err          t      P>|t|      [0.025      0.975]\n",
      "-----------------------------------------------------------------------------------\n",
      "const               3.0077      0.011    264.002      0.000       2.985       3.030\n",
      "YearsExperience     1.6953      0.020     84.681      0.000       1.656       1.735\n",
      "==============================================================================\n",
      "Omnibus:                      108.875   Durbin-Watson:                   2.192\n",
      "Prob(Omnibus):                  0.000   Jarque-Bera (JB):               12.616\n",
      "Skew:                          -0.036   Prob(JB):                      0.00182\n",
      "Kurtosis:                       1.772   Cond. No.                         4.30\n",
      "==============================================================================\n",
      "\n",
      "Notes:\n",
      "[1] Standard Errors assume that the covariance matrix of the errors is correctly specified.\n"
     ]
    }
   ],
   "source": [
    "sm_x = line_data['YearsExperience']\n",
    "sm_y = line_data['Salary']\n",
    "sm_x = sm.add_constant(sm_x)    # 增加一个常数1，对应回归线在y轴上的截距\n",
    "sm_regression = sm.OLS(sm_y, sm_x)  # 使用最小二乘法对线性模型进行建模\n",
    "sm_model = sm_regression.fit()  # 模型训练\n",
    "\n",
    "# 模型检验与图像显示\n",
    "prstd, iv_l, iv_u = wls_prediction_std(sm_model)    # 导出模型标准偏差、预测上下界\n",
    "sm_result = sm_model.predict()  # 使用sm.predict()进行预测，样本数据不填写时为默认样本\n",
    "print(sm_model.summary())   # 输出模型信息"
   ]
  },
  {
   "cell_type": "markdown",
   "metadata": {},
   "source": [
    "`sm_model.summary()` 返回了回归分析的摘要。下面对导出数据进行说明：\n",
    "- `coef`：回归系数，表中对应了预测线性模型的截距与斜率。\n",
    "- `std err`：标准差，反映样本数据值与回归模型估计值之间的平均差异程度。\n",
    "- `t`：统计量，回归系数除以标准差，用于对每个回归系数分别进行检验，检验每个自变量对因变量的影响是否显著。\n",
    "\n",
    "下面对模型预测数据可视化。"
   ]
  },
  {
   "cell_type": "code",
   "execution_count": 569,
   "metadata": {
    "pycharm": {
     "name": "#%%\n"
    }
   },
   "outputs": [
    {
     "data": {
      "text/plain": "<Figure size 576x432 with 1 Axes>",
      "image/png": "[encoded data removed]"
     },
     "metadata": {
      "needs_background": "light"
     },
     "output_type": "display_data"
    }
   ],
   "source": [
    "# 图像显示\n",
    "fig, ax = plt.subplots(figsize=(8,6))\n",
    "ax.plot(line_data.YearsExperience, line_data.Salary, 'o', label='data') # 原始样本\n",
    "ax.plot(line_data.YearsExperience, sm_result, 'r--.', label=\"OLS\") # 预测结果\n",
    "ax.plot(line_data.YearsExperience, iv_u, 'r--') # 预测上界\n",
    "ax.plot(line_data.YearsExperience, iv_l, 'r--') # 预测下界\n",
    "ax.legend(loc='best')\n",
    "plt.xlabel('YearsExperience')\n",
    "plt.ylabel('Salary')\n",
    "plt.title('Linear Regression with statsmodels.olds()')\n",
    "plt.show()"
   ]
  },
  {
   "cell_type": "markdown",
   "metadata": {},
   "source": [
    "对给出待测试自变量进行预测：\n",
    "可以发现，该模型下预测结果与使用算法进行预测的结果基本一致。"
   ]
  },
  {
   "cell_type": "code",
   "execution_count": 570,
   "outputs": [
    {
     "name": "stdout",
     "output_type": "stream",
     "text": [
      "预测结果：\n",
      " 0    4.44063\n",
      "dtype: float64\n"
     ]
    }
   ],
   "source": [
    "# 结果预测\n",
    "pd_key = pd.DataFrame([[1.0, key_value]], columns=['const', 'YearsExperience']) # 添加截距项，否则结果有误\n",
    "sm_pre = sm_model.predict(pd_key)\n",
    "print(\"预测结果：\\n\", sm_pre)"
   ],
   "metadata": {
    "collapsed": false,
    "pycharm": {
     "name": "#%%\n"
    }
   }
  },
  {
   "cell_type": "markdown",
   "metadata": {},
   "source": [
    "## 决策树算法实验\n",
    "\n",
    "### 设计算法，建立线性回归模型\n",
    "\n",
    "决策树模型呈树形结构，在分类问题中，表示基于特征对实例进行分类的过程。它可以认为是`if-then`规则的集合，也可以认为是定义在特征空间与类空间上的条件概率分布。\n",
    "决策树分为三个步骤：特征选择、决策树生成和剪枝。\n",
    "首先，需要对数据进行初始化，加入特征信息。\n",
    "下面的代码中，对文本数据进行转换，使用`DataFrame`形式封装。其中，对于不同特征的取值，使用`sklearn`中的`LabelEncoder`转换成数字表示。\n",
    "数据转换完成后，划分25%数据作为测试样本`test_data`，75%为训练样本`train_data`。这里使用`DataFrame.sample`选取样本。\n",
    "\n",
    "#### 数据处理\n"
   ]
  },
  {
   "cell_type": "code",
   "execution_count": 571,
   "metadata": {
    "pycharm": {
     "name": "#%%\n"
    }
   },
   "outputs": [
    {
     "name": "stdout",
     "output_type": "stream",
     "text": [
      "    age  prescription  astigmatic  tearRate\n",
      "11    0             1           1         0\n",
      "10    0             1           1         1\n",
      "22    1             0           1         1\n",
      "14    0             0           1         1\n",
      "20    1             0           0         1\n",
      "1     2             1           0         0\n",
      "13    0             0           0         0\n",
      "23    1             0           1         0\n",
      "16    1             1           0         1\n",
      "8     0             1           0         1\n",
      "6     2             0           1         1\n",
      "17    1             1           0         0\n",
      "4     2             0           0         1\n",
      "2     2             1           1         1\n",
      "5     2             0           0         0\n",
      "18    1             1           1         1\n",
      "9     0             1           0         0\n",
      "7     2             0           1         0\n"
     ]
    }
   ],
   "source": [
    "# 读取文件\n",
    "data_path = 'glass-lenses.txt'\n",
    "f = open(data_path)\n",
    "data_line = f.readlines()\n",
    "\n",
    "label = ['age', 'prescription', 'astigmatic', 'tearRate']   # 数据标签\n",
    "data = []   # List结构数据\n",
    "lenses_target = []  # 样本对应结果List\n",
    "pd_data = pd.DataFrame(columns=label)   # 创建DataFrame，使用特征量作为列簇头。总样本。\n",
    "\n",
    "# txt文件流转为List结构\n",
    "for i in data_line: # 单行分割\n",
    "    a = i.split()[0:4]  # 前4列数据，左边为闭区间，右边为开区间\n",
    "    if len(i.split()) == 6:\n",
    "        a.append(i.split()[4] + ' ' + i.split()[5])\n",
    "        lenses_target.append(i.split()[4] + ' ' + i.split()[5])\n",
    "    else:\n",
    "        a.append(i.split()[4])\n",
    "        lenses_target.append(i.split()[4])\n",
    "    data.append(a)\n",
    "\n",
    "\n",
    "# List结构转为DataFrame结构\n",
    "for i in range(len(data)):\n",
    "    pd_data = pd_data.append(pd.DataFrame({'age':data[i][0], 'prescription':data[i][1], 'astigmatic':data[i][2], 'tearRate':data[i][3]}, index=[i]))\n",
    "\n",
    "le=preprocessing.LabelEncoder() # 将对应特征标签处理为数字化表示（0、1形式）\n",
    "\n",
    "for col in pd_data.columns: #将dataframe的每一列序列化\n",
    "    pd_data[col]=le.fit_transform(pd_data[col])\n",
    "\n",
    "\n",
    "# 划分样本\n",
    "train_data = pd_data.sample(frac=0.75, random_state=0, axis=0)  # 选取比例、随机种子、选取行\n",
    "train_target = []   # 对应样本的结果\n",
    "test_data = pd_data[~pd_data.index.isin(train_data.index)]  # 排除已选样本\n",
    "test_target = []\n",
    "\n",
    "# 同步样本结果\n",
    "for i in train_data.index:\n",
    "    train_target.append(lenses_target[i])\n",
    "for i in test_data.index:\n",
    "    test_target.append(lenses_target[i])\n",
    "\n"
   ]
  },
  {
   "cell_type": "markdown",
   "metadata": {},
   "source": [
    "特征取值转换如下：\n",
    "\n",
    "- age: ['pre': 0, 'presbyopic': 1, 'young': 2]\n",
    "- prescription: ['hyper': 0, 'myope': 1]\n",
    "- astigmatic: ['no': 0, 'yes': 1]\n",
    "- tearRate: ['normal': 0, 'reduced': 1]\n",
    "- class: ['hard': 0, no lenses': 1, 'soft': 2]\n",
    "\n",
    "数据处理完成后，开始进行过决策树算法的实现。\n",
    "\n",
    "#### 信息熵计算\n"
   ]
  },
  {
   "cell_type": "code",
   "execution_count": 571,
   "outputs": [],
   "source": [],
   "metadata": {
    "collapsed": false,
    "pycharm": {
     "name": "#%%\n"
    }
   }
  },
  {
   "cell_type": "markdown",
   "metadata": {},
   "source": [
    "#### 计算特征信息增益"
   ]
  },
  {
   "cell_type": "code",
   "execution_count": 571,
   "outputs": [],
   "source": [],
   "metadata": {
    "collapsed": false,
    "pycharm": {
     "name": "#%%\n"
    }
   }
  },
  {
   "cell_type": "markdown",
   "metadata": {},
   "source": [
    "### 模型使用\n",
    "\n",
    "#### sklearn.DecisionTreeClassifier\n",
    "\n",
    "根据要求，使用相应工具创建决策树ID3模型。创建决策树时，设置`criterion = 'entropy'`，然后使用`fit`进行训练，将特征值矩阵和分类结果作为参数传入，得到决策树分类器。"
   ]
  },
  {
   "cell_type": "code",
   "execution_count": 572,
   "metadata": {
    "pycharm": {
     "name": "#%%\n"
    }
   },
   "outputs": [
    {
     "data": {
      "text/plain": "DecisionTreeClassifier(criterion='entropy')"
     },
     "execution_count": 572,
     "metadata": {},
     "output_type": "execute_result"
    }
   ],
   "source": [
    "# 创建决策树，设置参数\n",
    "clf = DecisionTreeClassifier(criterion='entropy')\n",
    "# 导入训练特征、对应样本结果，对模型进行训练\n",
    "clf.fit(train_data, train_target)"
   ]
  },
  {
   "cell_type": "markdown",
   "source": [
    "训练完成后使用测试集对模型进行检验。"
   ],
   "metadata": {
    "collapsed": false
   }
  },
  {
   "cell_type": "code",
   "execution_count": 573,
   "outputs": [
    {
     "name": "stdout",
     "output_type": "stream",
     "text": [
      "              precision    recall  f1-score   support\n",
      "\n",
      "        hard       0.50      0.50      0.50         2\n",
      "   no lenses       0.67      0.67      0.67         3\n",
      "        soft       1.00      1.00      1.00         1\n",
      "\n",
      "    accuracy                           0.67         6\n",
      "   macro avg       0.72      0.72      0.72         6\n",
      "weighted avg       0.67      0.67      0.67         6\n",
      "\n"
     ]
    }
   ],
   "source": [
    "# 模型检验，输出混淆矩阵\n",
    "predictions = clf.predict(test_data)\n",
    "print(classification_report(test_target, predictions))"
   ],
   "metadata": {
    "collapsed": false,
    "pycharm": {
     "name": "#%%\n"
    }
   }
  },
  {
   "cell_type": "code",
   "execution_count": 574,
   "outputs": [
    {
     "name": "stdout",
     "output_type": "stream",
     "text": [
      "0.6666666666666666\n"
     ]
    }
   ],
   "source": [
    "# 模型正确率\n",
    "print(accuracy_score(test_target, predictions))"
   ],
   "metadata": {
    "collapsed": false,
    "pycharm": {
     "name": "#%%\n"
    }
   }
  },
  {
   "cell_type": "markdown",
   "source": [
    "通过混淆矩阵可以发现，\n",
    "使用Graphviz导出决策树。"
   ],
   "metadata": {
    "collapsed": false
   }
  },
  {
   "cell_type": "code",
   "execution_count": 575,
   "outputs": [],
   "source": [
    "# tree_data = tree.export_graphviz(clf, out_file=None)\n",
    "# graph = graphviz.Source(tree_data)\n",
    "# graph.view()"
   ],
   "metadata": {
    "collapsed": false,
    "pycharm": {
     "name": "#%%\n"
    }
   }
  },
  {
   "cell_type": "markdown",
   "metadata": {},
   "source": []
  }
 ],
 "metadata": {
  "kernelspec": {
   "display_name": "Python 3 (ipykernel)",
   "language": "python",
   "name": "python3"
  },
  "language_info": {
   "codemirror_mode": {
    "name": "ipython",
    "version": 3
   },
   "file_extension": ".py",
   "mimetype": "text/x-python",
   "name": "python",
   "nbconvert_exporter": "python",
   "pygments_lexer": "ipython3",
   "version": "3.9.7"
  }
 },
 "nbformat": 4,
 "nbformat_minor": 1
}